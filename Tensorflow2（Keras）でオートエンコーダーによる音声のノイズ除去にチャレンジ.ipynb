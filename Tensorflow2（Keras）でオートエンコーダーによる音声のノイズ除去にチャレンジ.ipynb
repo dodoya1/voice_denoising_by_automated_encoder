{
  "cells": [
    {
      "cell_type": "markdown",
      "metadata": {
        "id": "view-in-github",
        "colab_type": "text"
      },
      "source": [
        "<a href=\"https://colab.research.google.com/github/dodoya1/voice_denoising_by_automated_encoder/blob/main/Tensorflow2%EF%BC%88Keras%EF%BC%89%E3%81%A7%E3%82%AA%E3%83%BC%E3%83%88%E3%82%A8%E3%83%B3%E3%82%B3%E3%83%BC%E3%83%80%E3%83%BC%E3%81%AB%E3%82%88%E3%82%8B%E9%9F%B3%E5%A3%B0%E3%81%AE%E3%83%8E%E3%82%A4%E3%82%BA%E9%99%A4%E5%8E%BB%E3%81%AB%E3%83%81%E3%83%A3%E3%83%AC%E3%83%B3%E3%82%B8.ipynb\" target=\"_parent\"><img src=\"https://colab.research.google.com/assets/colab-badge.svg\" alt=\"Open In Colab\"/></a>"
      ]
    },
    {
      "cell_type": "markdown",
      "metadata": {
        "id": "yS97jtmFEdUE"
      },
      "source": [
        "# Tensorflow2（Keras）でオートエンコーダーによる音声のノイズ除去にチャレンジ\n",
        "\n",
        "(参考文献)\n",
        "\n",
        "[Tensorflow2（Keras）でオートエンコーダーによる音声のノイズ除去にチャレンジ（第1回） : 株式会社アープ 開発者ブログ](https://www.arp-corp.co.jp/blog/contents/2022/06/002.html)\n",
        "\n",
        "[Tensorflow2（Keras）でオートエンコーダーによる音声のノイズ除去にチャレンジ（第2回） : 株式会社アープ 開発者ブログ](https://www.arp-corp.co.jp/blog/contents/2022/07/001.html)"
      ]
    },
    {
      "cell_type": "markdown",
      "metadata": {
        "id": "_slYObwPDt8B"
      },
      "source": [
        "# データセットを作成する"
      ]
    },
    {
      "cell_type": "code",
      "execution_count": 8,
      "metadata": {
        "colab": {
          "base_uri": "https://localhost:8080/"
        },
        "id": "I7AJsWQ8TgGU",
        "outputId": "eea597d7-b037-4fc3-c079-eb067fe2a305"
      },
      "outputs": [
        {
          "output_type": "stream",
          "name": "stdout",
          "text": [
            "データ数: 8000\n",
            "閾値: 7600\n"
          ]
        },
        {
          "output_type": "stream",
          "name": "stderr",
          "text": [
            "100%|██████████| 8000/8000 [00:34<00:00, 235.25it/s]\n"
          ]
        }
      ],
      "source": [
        "#まず、必要なライブラリをインポートします。\n",
        "import os\n",
        "import pathlib\n",
        "import random\n",
        "import numpy as np\n",
        "import tensorflow as tf\n",
        "import librosa\n",
        "import librosa.display\n",
        "import IPython.display as ipd\n",
        "import soundfile as sf\n",
        "from glob import glob\n",
        "from tqdm import tqdm\n",
        "\n",
        "#続いて、mini_speech_commandsデータセットをダウンロードして、展開します。\n",
        "# データセットをダウンロードする\n",
        "DATASET_PATH = 'data/mini_speech_commands'\n",
        " \n",
        "data_dir = pathlib.Path(DATASET_PATH)\n",
        "if not data_dir.exists():\n",
        "  tf.keras.utils.get_file(\n",
        "      'mini_speech_commands.zip',\n",
        "      origin=\"http://storage.googleapis.com/download.tensorflow.org/data/mini_speech_commands.zip\",\n",
        "      extract=True,\n",
        "      cache_dir='.', cache_subdir='data')\n",
        "\n",
        "#必要な定数の定義をします。\n",
        "RECORD_SECONDS = 1.0\n",
        "RATE = 16000\n",
        "SIZE = int(RATE * RECORD_SECONDS)\n",
        "MIN_NOISE_RATE = 0.02\n",
        "MAX_NOISE_RATE = 0.05\n",
        "\n",
        "#各ディレクトリを作成します。\n",
        "# 各ディレクトリを作成する\n",
        "TRAIN_PATH = \"TrainData\"\n",
        "TEST_PATH = \"TestData\"\n",
        "TEST_NOISE_PATH = \"TestNoiseData\"\n",
        "RESULT_PATH = \"ResultData\"\n",
        " \n",
        "os.makedirs(TRAIN_PATH, exist_ok=True)\n",
        "os.makedirs(TEST_PATH, exist_ok=True)\n",
        "os.makedirs(TEST_NOISE_PATH, exist_ok=True)\n",
        "os.makedirs(RESULT_PATH, exist_ok=True)\n",
        "\n",
        "#先程ダウンロード、展開したmini_speech_commandsデータセットを学習・検証のデータと、テストデータに分けます。\n",
        "#また、このデータのwavファイルは1秒未満のデータもある為、そのデータには後ろに0埋めして、1秒の長さに合わせます。\n",
        "wavlist = glob(\"./data/mini_speech_commands/*/*.wav\")\n",
        "# ファイルリストをシャッフルする\n",
        "random.shuffle(wavlist)\n",
        " \n",
        "# 学習用とテスト用に分ける\n",
        "datalen = len(wavlist)\n",
        "print(\"データ数:\", datalen)\n",
        "threshold = np.int32(datalen * 0.95)\n",
        "print(\"閾値:\", threshold)\n",
        "for idx, wavfile in enumerate(tqdm(wavlist)):\n",
        "    base_name = os.path.basename(wavfile)\n",
        "     \n",
        "    # 出力先を決める\n",
        "    if idx < threshold:\n",
        "        outdir = TRAIN_PATH\n",
        "    else:\n",
        "        outdir = TEST_PATH\n",
        "    outfile = \"{}/{}.wav\".format(outdir, idx)\n",
        " \n",
        "    y, fs = librosa.load(wavfile, sr=RATE, mono=True, duration=RECORD_SECONDS)\n",
        "     \n",
        "    # データ長が指定時間未満なら、後ろに0埋めする\n",
        "    if len(y) < SIZE:\n",
        "        y = np.concatenate([y, np.zeros(SIZE - len(y))])\n",
        "     \n",
        "    # wav書き込み\n",
        "    sf.write(outfile, y, RATE)"
      ]
    },
    {
      "cell_type": "code",
      "execution_count": 9,
      "metadata": {
        "colab": {
          "base_uri": "https://localhost:8080/"
        },
        "id": "fEH2lvykDlXG",
        "outputId": "35e9bcc5-000b-4fa1-b6b6-f9a38beb9139"
      },
      "outputs": [
        {
          "output_type": "stream",
          "name": "stdout",
          "text": [
            "データ数: 7600\n",
            "閾値: 6080\n"
          ]
        },
        {
          "output_type": "stream",
          "name": "stderr",
          "text": [
            "100%|██████████| 7600/7600 [00:01<00:00, 3990.81it/s]\n"
          ]
        }
      ],
      "source": [
        "# 学習・検証用データセットを作成する\n",
        "traindata = []\n",
        "valdata = []\n",
        "wavlist = glob(TRAIN_PATH + \"/*.wav\")\n",
        "random.shuffle(wavlist)\n",
        "datalen = len(wavlist)\n",
        "print(\"データ数:\", datalen)\n",
        "threshold = np.int32(datalen * 0.8)\n",
        "print(\"閾値:\", threshold)\n",
        "for idx, wavfile in enumerate(tqdm(wavlist)):\n",
        "    if idx < threshold:\n",
        "        datalist = traindata\n",
        "    else:\n",
        "        datalist = valdata\n",
        "     \n",
        "    y, fs = librosa.load(wavfile, sr=RATE, mono=True, duration=RECORD_SECONDS)\n",
        "     \n",
        "    # 0～1に正規化\n",
        "    y = y / np.max(np.abs(y))\n",
        "    y = (y / 2) + 0.5\n",
        " \n",
        "    datalist.append(np.float32(y.reshape(SIZE, 1)))\n",
        " \n",
        "# 学習データと検証データのデータセットを保存する\n",
        "xy = (traindata, valdata)\n",
        "np.save('traindata.npy', xy)"
      ]
    },
    {
      "cell_type": "code",
      "execution_count": 10,
      "metadata": {
        "colab": {
          "base_uri": "https://localhost:8080/"
        },
        "id": "TiTYrQG0D9zp",
        "outputId": "dbac214a-155d-4908-9e26-33fea7d90587"
      },
      "outputs": [
        {
          "output_type": "stream",
          "name": "stderr",
          "text": [
            "100%|██████████| 400/400 [00:02<00:00, 177.22it/s]\n"
          ]
        }
      ],
      "source": [
        "#最後に、テスト用にノイズ（ホワイトノイズ）を追加したデータを作成します。\n",
        "# ノイズを含めたテストデータを作成する\n",
        "wavlist = glob(TEST_PATH + \"/*.wav\")\n",
        "for wavfile in tqdm(wavlist):\n",
        "    # wav読込み\n",
        "    y, fs = librosa.load(wavfile, sr=RATE, mono=True)\n",
        " \n",
        "    # ノイズ付加\n",
        "    r = random.uniform(MIN_NOISE_RATE, MAX_NOISE_RATE)\n",
        "    y += r * ((np.random.rand(len(y)) - 0.5) * 2)\n",
        " \n",
        "    # wav書き込み\n",
        "    base_name = os.path.basename(wavfile)\n",
        "    outfile = \"{}/{}\".format(TEST_NOISE_PATH, base_name)\n",
        "    sf.write(outfile, y, RATE)"
      ]
    },
    {
      "cell_type": "markdown",
      "metadata": {
        "id": "x_n1yY27E9Mq"
      },
      "source": [
        "# Kerasを使って、AIの学習する"
      ]
    },
    {
      "cell_type": "code",
      "execution_count": 11,
      "metadata": {
        "colab": {
          "base_uri": "https://localhost:8080/"
        },
        "id": "cf6Wmp-rE7fj",
        "outputId": "f55bfcf4-cd10-4aa2-bb41-c44ba1588ec1"
      },
      "outputs": [
        {
          "output_type": "stream",
          "name": "stdout",
          "text": [
            "Model: \"model_1\"\n",
            "_________________________________________________________________\n",
            " Layer (type)                Output Shape              Param #   \n",
            "=================================================================\n",
            " input1 (InputLayer)         [(None, 16000, 1)]        0         \n",
            "                                                                 \n",
            " conv1d_5 (Conv1D)           (None, 16000, 64)         256       \n",
            "                                                                 \n",
            " batch_normalization_5 (Batc  (None, 16000, 64)        256       \n",
            " hNormalization)                                                 \n",
            "                                                                 \n",
            " activation_5 (Activation)   (None, 16000, 64)         0         \n",
            "                                                                 \n",
            " max_pooling1d_2 (MaxPooling  (None, 8000, 64)         0         \n",
            " 1D)                                                             \n",
            "                                                                 \n",
            " conv1d_6 (Conv1D)           (None, 8000, 64)          12352     \n",
            "                                                                 \n",
            " batch_normalization_6 (Batc  (None, 8000, 64)         256       \n",
            " hNormalization)                                                 \n",
            "                                                                 \n",
            " activation_6 (Activation)   (None, 8000, 64)          0         \n",
            "                                                                 \n",
            " max_pooling1d_3 (MaxPooling  (None, 4000, 64)         0         \n",
            " 1D)                                                             \n",
            "                                                                 \n",
            " conv1d_7 (Conv1D)           (None, 4000, 64)          12352     \n",
            "                                                                 \n",
            " batch_normalization_7 (Batc  (None, 4000, 64)         256       \n",
            " hNormalization)                                                 \n",
            "                                                                 \n",
            " activation_7 (Activation)   (None, 4000, 64)          0         \n",
            "                                                                 \n",
            " up_sampling1d_2 (UpSampling  (None, 8000, 64)         0         \n",
            " 1D)                                                             \n",
            "                                                                 \n",
            " conv1d_8 (Conv1D)           (None, 8000, 64)          12352     \n",
            "                                                                 \n",
            " batch_normalization_8 (Batc  (None, 8000, 64)         256       \n",
            " hNormalization)                                                 \n",
            "                                                                 \n",
            " activation_8 (Activation)   (None, 8000, 64)          0         \n",
            "                                                                 \n",
            " up_sampling1d_3 (UpSampling  (None, 16000, 64)        0         \n",
            " 1D)                                                             \n",
            "                                                                 \n",
            " conv1d_9 (Conv1D)           (None, 16000, 1)          193       \n",
            "                                                                 \n",
            " batch_normalization_9 (Batc  (None, 16000, 1)         4         \n",
            " hNormalization)                                                 \n",
            "                                                                 \n",
            " activation_9 (Activation)   (None, 16000, 1)          0         \n",
            "                                                                 \n",
            "=================================================================\n",
            "Total params: 38,533\n",
            "Trainable params: 38,019\n",
            "Non-trainable params: 514\n",
            "_________________________________________________________________\n"
          ]
        }
      ],
      "source": [
        "#まず、必要なライブラリをインポートします。\n",
        "import tensorflow as tf\n",
        "from tensorflow.keras.models import Model\n",
        "from tensorflow.keras.layers import Input,Activation,Conv1D,MaxPooling1D,UpSampling1D,BatchNormalization\n",
        "from tensorflow.keras import callbacks\n",
        "import numpy as np\n",
        "import os\n",
        "import librosa\n",
        "import librosa.display\n",
        "import IPython.display as ipd\n",
        "import soundfile as sf\n",
        "from glob import glob\n",
        "from tqdm import tqdm\n",
        "\n",
        "#次に、必要な定数の定義をします。\n",
        "RECORD_SECONDS = 1.0\n",
        "RATE = 16000\n",
        "SIZE = int(RATE * RECORD_SECONDS)\n",
        "NOISE_RATE = 0.05\n",
        " \n",
        "TEST_NOISE_PATH = \"TestNoiseData\"\n",
        "RESULT_PATH = \"ResultData\"\n",
        "\n",
        "#続いて、学習データ及び検証データのオーギュメンテーション用のジェネレータクラスを作成します。\n",
        "#このジェネレータは、学習データ及び検証データにノイズを加えるジェネレータになります。\n",
        "class CustomAudioDataGenerator():\n",
        "    def __init__(self, batch_size=32, noise_rate=0.02, shuffle=True):\n",
        "        self.batch_size = batch_size\n",
        "        self.noise_rate = noise_rate\n",
        "        self.shuffle = shuffle\n",
        "    \n",
        "    def add_noise(self, x, y):\n",
        "        return np.array(list(map(self._add_noise, x))), y\n",
        "    \n",
        "    def _add_noise(self, audio_origin):\n",
        "        audio = np.copy(audio_origin)\n",
        "        audio += self.noise_rate * ((np.random.rand(len(audio)) - 0.5) * 2).reshape(len(audio), 1)\n",
        "        return audio\n",
        "    \n",
        "    def flow(self, X, y):\n",
        "        assert X.shape[0] == y.shape[0]\n",
        "        n_sample = X.shape[0]\n",
        "        n_batch = n_sample // self.batch_size\n",
        "    \n",
        "        while True:\n",
        "            indices = np.arange(n_sample)\n",
        "            if self.shuffle:\n",
        "                np.random.shuffle(indices)\n",
        "    \n",
        "            for i in range(n_batch):\n",
        "                current_indices = indices[i*self.batch_size:(i+1)*self.batch_size]\n",
        "                batch_x = X[current_indices]\n",
        "                batch_y = y[current_indices]\n",
        "                batch_x, batch_y = self.__data_generation(batch_x, batch_y, current_indices)\n",
        "    \n",
        "                yield batch_x, batch_y\n",
        "    \n",
        "    def __data_generation(self, batch_x, batch_y, batch_ids):\n",
        "        result = self.add_noise(batch_x, batch_y)\n",
        "        batch_x, batch_y = result\n",
        "    \n",
        "        return batch_x, batch_y\n",
        "\n",
        "#学習用及び検証用のジェネレータを生成します。\n",
        "# ジェネレータ生成\n",
        "batch_size = 32\n",
        "train_generator = CustomAudioDataGenerator(\n",
        "    batch_size=batch_size,\n",
        "    noise_rate=NOISE_RATE\n",
        ")\n",
        "val_generator = CustomAudioDataGenerator(\n",
        "    batch_size=batch_size,\n",
        "    noise_rate=NOISE_RATE\n",
        ")\n",
        "\n",
        "#そして、モデルを定義します。畳み込みオートエンコーダー（encode-decode）になります。\n",
        "inputs = Input(shape=(SIZE, 1), name=\"input1\")\n",
        "x = Conv1D(64, 3, padding='same')(inputs) # 16000, 64\n",
        "x = BatchNormalization()(x)\n",
        "x = Activation('relu')(x)\n",
        "x = MaxPooling1D(2, padding='same')(x) # 8000, 64\n",
        "x = Conv1D(64, 3, padding='same')(x)\n",
        "x = BatchNormalization()(x)\n",
        "x = Activation('relu')(x)\n",
        "encoded = MaxPooling1D(2, padding='same')(x) # 4000, 64\n",
        " \n",
        "x = Conv1D(64, 3, padding='same')(encoded)\n",
        "x = BatchNormalization()(x)\n",
        "x = Activation('relu')(x)\n",
        "x = UpSampling1D(2)(x) # 8000, 64\n",
        "x = Conv1D(64, 3, padding='same')(x)\n",
        "x = BatchNormalization()(x)\n",
        "x = Activation('relu')(x)\n",
        "x = UpSampling1D(2)(x) # 16000, 64\n",
        "x = Conv1D(1, 3, padding='same')(x)\n",
        "x = BatchNormalization()(x)\n",
        "decoded = Activation('sigmoid')(x)\n",
        " \n",
        "model = Model(inputs, decoded)\n",
        "model.summary()\n",
        "model.compile(optimizer='adam', loss='binary_crossentropy')"
      ]
    },
    {
      "cell_type": "code",
      "execution_count": 12,
      "metadata": {
        "colab": {
          "base_uri": "https://localhost:8080/"
        },
        "id": "VVH1TlESGN4v",
        "outputId": "edd7506d-7beb-4ab1-adb0-d8af40825140"
      },
      "outputs": [
        {
          "output_type": "stream",
          "name": "stdout",
          "text": [
            "Epoch 1/30\n"
          ]
        },
        {
          "output_type": "stream",
          "name": "stderr",
          "text": [
            "<ipython-input-12-339873279acd>:29: UserWarning: `Model.fit_generator` is deprecated and will be removed in a future version. Please use `Model.fit`, which supports generators.\n",
            "  model.fit_generator(generator=train_generator.flow(trainData, trainData), steps_per_epoch=len(trainData)//batch_size, validation_steps=10, epochs=30, validation_data=val_generator.flow(valData, valData), callbacks=callbacks_list)\n"
          ]
        },
        {
          "output_type": "stream",
          "name": "stdout",
          "text": [
            "190/190 [==============================] - ETA: 0s - loss: 0.6947\n",
            "Epoch 1: val_loss improved from inf to 0.70110, saving model to model.h5\n",
            "190/190 [==============================] - 201s 201ms/step - loss: 0.6947 - val_loss: 0.7011 - lr: 0.0010\n",
            "Epoch 2/30\n",
            "190/190 [==============================] - ETA: 0s - loss: 0.6878\n",
            "Epoch 2: val_loss improved from 0.70110 to 0.69025, saving model to model.h5\n",
            "190/190 [==============================] - 37s 192ms/step - loss: 0.6878 - val_loss: 0.6902 - lr: 0.0010\n",
            "Epoch 3/30\n",
            "190/190 [==============================] - ETA: 0s - loss: 0.6866\n",
            "Epoch 3: val_loss improved from 0.69025 to 0.68757, saving model to model.h5\n",
            "190/190 [==============================] - 37s 193ms/step - loss: 0.6866 - val_loss: 0.6876 - lr: 0.0010\n",
            "Epoch 4/30\n",
            "190/190 [==============================] - ETA: 0s - loss: 0.6856\n",
            "Epoch 4: val_loss did not improve from 0.68757\n",
            "190/190 [==============================] - 37s 192ms/step - loss: 0.6856 - val_loss: 0.6880 - lr: 0.0010\n",
            "Epoch 5/30\n",
            "190/190 [==============================] - ETA: 0s - loss: 0.6854\n",
            "Epoch 5: val_loss did not improve from 0.68757\n",
            "190/190 [==============================] - 37s 194ms/step - loss: 0.6854 - val_loss: 0.8853 - lr: 0.0010\n",
            "Epoch 6/30\n",
            "190/190 [==============================] - ETA: 0s - loss: 0.6850\n",
            "Epoch 6: val_loss improved from 0.68757 to 0.68528, saving model to model.h5\n",
            "190/190 [==============================] - 37s 193ms/step - loss: 0.6850 - val_loss: 0.6853 - lr: 0.0010\n",
            "Epoch 7/30\n",
            "190/190 [==============================] - ETA: 0s - loss: 0.6847\n",
            "Epoch 7: val_loss improved from 0.68528 to 0.68345, saving model to model.h5\n",
            "190/190 [==============================] - 37s 195ms/step - loss: 0.6847 - val_loss: 0.6834 - lr: 0.0010\n",
            "Epoch 8/30\n",
            "190/190 [==============================] - ETA: 0s - loss: 0.6845\n",
            "Epoch 8: val_loss did not improve from 0.68345\n",
            "190/190 [==============================] - 36s 192ms/step - loss: 0.6845 - val_loss: 0.6846 - lr: 0.0010\n",
            "Epoch 9/30\n",
            "190/190 [==============================] - ETA: 0s - loss: 0.6844\n",
            "Epoch 9: val_loss did not improve from 0.68345\n",
            "190/190 [==============================] - 36s 192ms/step - loss: 0.6844 - val_loss: 0.6847 - lr: 0.0010\n",
            "Epoch 10/30\n",
            "190/190 [==============================] - ETA: 0s - loss: 0.6843\n",
            "Epoch 10: val_loss did not improve from 0.68345\n",
            "190/190 [==============================] - 37s 195ms/step - loss: 0.6843 - val_loss: 0.6846 - lr: 0.0010\n",
            "Epoch 11/30\n",
            "190/190 [==============================] - ETA: 0s - loss: 0.6842\n",
            "Epoch 11: val_loss did not improve from 0.68345\n",
            "190/190 [==============================] - 37s 193ms/step - loss: 0.6842 - val_loss: 0.6957 - lr: 0.0010\n",
            "Epoch 12/30\n",
            "190/190 [==============================] - ETA: 0s - loss: 0.6841\n",
            "Epoch 12: val_loss did not improve from 0.68345\n",
            "\n",
            "Epoch 12: ReduceLROnPlateau reducing learning rate to 0.000800000037997961.\n",
            "190/190 [==============================] - 37s 195ms/step - loss: 0.6841 - val_loss: 0.6845 - lr: 0.0010\n",
            "Epoch 13/30\n",
            "190/190 [==============================] - ETA: 0s - loss: 0.6840\n",
            "Epoch 13: val_loss did not improve from 0.68345\n",
            "190/190 [==============================] - 37s 192ms/step - loss: 0.6840 - val_loss: 0.6839 - lr: 8.0000e-04\n",
            "Epoch 14/30\n",
            "190/190 [==============================] - ETA: 0s - loss: 0.6840\n",
            "Epoch 14: val_loss did not improve from 0.68345\n",
            "190/190 [==============================] - 36s 192ms/step - loss: 0.6840 - val_loss: 0.6841 - lr: 8.0000e-04\n",
            "Epoch 15/30\n",
            "190/190 [==============================] - ETA: 0s - loss: 0.6840\n",
            "Epoch 15: val_loss did not improve from 0.68345\n",
            "190/190 [==============================] - 37s 195ms/step - loss: 0.6840 - val_loss: 0.6840 - lr: 8.0000e-04\n",
            "Epoch 16/30\n",
            "190/190 [==============================] - ETA: 0s - loss: 0.6839\n",
            "Epoch 16: val_loss did not improve from 0.68345\n",
            "190/190 [==============================] - 36s 192ms/step - loss: 0.6839 - val_loss: 0.6840 - lr: 8.0000e-04\n",
            "Epoch 17/30\n",
            "190/190 [==============================] - ETA: 0s - loss: 0.6839\n",
            "Epoch 17: val_loss improved from 0.68345 to 0.68299, saving model to model.h5\n",
            "190/190 [==============================] - 37s 195ms/step - loss: 0.6839 - val_loss: 0.6830 - lr: 8.0000e-04\n",
            "Epoch 18/30\n",
            "190/190 [==============================] - ETA: 0s - loss: 0.6839\n",
            "Epoch 18: val_loss did not improve from 0.68299\n",
            "190/190 [==============================] - 36s 192ms/step - loss: 0.6839 - val_loss: 0.6831 - lr: 8.0000e-04\n",
            "Epoch 19/30\n",
            "190/190 [==============================] - ETA: 0s - loss: 0.6839\n",
            "Epoch 19: val_loss did not improve from 0.68299\n",
            "190/190 [==============================] - 37s 193ms/step - loss: 0.6839 - val_loss: 0.6832 - lr: 8.0000e-04\n",
            "Epoch 20/30\n",
            "190/190 [==============================] - ETA: 0s - loss: 0.6839\n",
            "Epoch 20: val_loss did not improve from 0.68299\n",
            "190/190 [==============================] - 37s 195ms/step - loss: 0.6839 - val_loss: 0.6833 - lr: 8.0000e-04\n",
            "Epoch 21/30\n",
            "190/190 [==============================] - ETA: 0s - loss: 0.6839\n",
            "Epoch 21: val_loss did not improve from 0.68299\n",
            "190/190 [==============================] - 37s 193ms/step - loss: 0.6839 - val_loss: 0.6843 - lr: 8.0000e-04\n",
            "Epoch 22/30\n",
            "190/190 [==============================] - ETA: 0s - loss: 0.6839\n",
            "Epoch 22: val_loss did not improve from 0.68299\n",
            "\n",
            "Epoch 22: ReduceLROnPlateau reducing learning rate to 0.0006400000303983689.\n",
            "190/190 [==============================] - 37s 195ms/step - loss: 0.6839 - val_loss: 0.6839 - lr: 8.0000e-04\n",
            "Epoch 23/30\n",
            "190/190 [==============================] - ETA: 0s - loss: 0.6839\n",
            "Epoch 23: val_loss did not improve from 0.68299\n",
            "190/190 [==============================] - 37s 192ms/step - loss: 0.6839 - val_loss: 0.6833 - lr: 6.4000e-04\n",
            "Epoch 24/30\n",
            "190/190 [==============================] - ETA: 0s - loss: 0.6839\n",
            "Epoch 24: val_loss did not improve from 0.68299\n",
            "190/190 [==============================] - 37s 192ms/step - loss: 0.6839 - val_loss: 0.6833 - lr: 6.4000e-04\n",
            "Epoch 25/30\n",
            "190/190 [==============================] - ETA: 0s - loss: 0.6839\n",
            "Epoch 25: val_loss did not improve from 0.68299\n",
            "190/190 [==============================] - 37s 195ms/step - loss: 0.6839 - val_loss: 0.6840 - lr: 6.4000e-04\n",
            "Epoch 26/30\n",
            "190/190 [==============================] - ETA: 0s - loss: 0.6839\n",
            "Epoch 26: val_loss did not improve from 0.68299\n",
            "190/190 [==============================] - 37s 193ms/step - loss: 0.6839 - val_loss: 0.6838 - lr: 6.4000e-04\n",
            "Epoch 27/30\n",
            "190/190 [==============================] - ETA: 0s - loss: 0.6839\n",
            "Epoch 27: val_loss did not improve from 0.68299\n",
            "\n",
            "Epoch 27: ReduceLROnPlateau reducing learning rate to 0.0005120000336319208.\n",
            "190/190 [==============================] - 37s 195ms/step - loss: 0.6839 - val_loss: 0.6832 - lr: 6.4000e-04\n",
            "Epoch 28/30\n",
            "190/190 [==============================] - ETA: 0s - loss: 0.6839\n",
            "Epoch 28: val_loss did not improve from 0.68299\n",
            "190/190 [==============================] - 37s 193ms/step - loss: 0.6839 - val_loss: 0.6838 - lr: 5.1200e-04\n",
            "Epoch 29/30\n",
            "190/190 [==============================] - ETA: 0s - loss: 0.6839\n",
            "Epoch 29: val_loss did not improve from 0.68299\n",
            "190/190 [==============================] - 37s 192ms/step - loss: 0.6839 - val_loss: 0.6836 - lr: 5.1200e-04\n",
            "Epoch 30/30\n",
            "190/190 [==============================] - ETA: 0s - loss: 0.6839\n",
            "Epoch 30: val_loss did not improve from 0.68299\n",
            "190/190 [==============================] - 37s 196ms/step - loss: 0.6839 - val_loss: 0.6840 - lr: 5.1200e-04\n"
          ]
        },
        {
          "output_type": "execute_result",
          "data": {
            "text/plain": [
              "<keras.callbacks.History at 0x7f45a298d610>"
            ]
          },
          "metadata": {},
          "execution_count": 12
        }
      ],
      "source": [
        "#続いて、前回作成した学習・検証データセットファイルを読み込みます。\n",
        "# 学習データ読込み\n",
        "trainData, valData = np.load('./traindata.npy', allow_pickle=True)\n",
        "trainData = np.array(trainData)\n",
        "valData = np.array(valData)\n",
        "\n",
        "# 学習する\n",
        "modelsavepath = \"model.h5\"\n",
        " \n",
        "callbacks_list = [\n",
        "    #バリデーションlossが改善したらモデルをsave\n",
        "    callbacks.ModelCheckpoint(\n",
        "        filepath=modelsavepath,\n",
        "        monitor=\"val_loss\",\n",
        "        save_weights_only=False,\n",
        "        save_best_only=True,\n",
        "        verbose=1),\n",
        " \n",
        "    #バリデーションlossが改善しなくなったら学習率を変更する\n",
        "    callbacks.ReduceLROnPlateau(\n",
        "        monitor=\"val_loss\",\n",
        "        factor=0.8,\n",
        "        patience=5,\n",
        "        mode='min',\n",
        "        min_lr=0.00001,\n",
        "        verbose=1),\n",
        "]\n",
        " \n",
        "model.fit_generator(generator=train_generator.flow(trainData, trainData), steps_per_epoch=len(trainData)//batch_size, validation_steps=10, epochs=30, validation_data=val_generator.flow(valData, valData), callbacks=callbacks_list)"
      ]
    },
    {
      "cell_type": "code",
      "execution_count": 13,
      "metadata": {
        "id": "y549rzuwGefu",
        "colab": {
          "base_uri": "https://localhost:8080/"
        },
        "outputId": "ee4ba6f9-9270-48ef-baf9-7b4fcd02b945"
      },
      "outputs": [
        {
          "output_type": "stream",
          "name": "stderr",
          "text": [
            "\r  0%|          | 0/400 [00:00<?, ?it/s]"
          ]
        },
        {
          "output_type": "stream",
          "name": "stdout",
          "text": [
            "1/1 [==============================] - 2s 2s/step\n"
          ]
        },
        {
          "output_type": "stream",
          "name": "stderr",
          "text": [
            "\r  0%|          | 1/400 [00:02<15:58,  2.40s/it]"
          ]
        },
        {
          "output_type": "stream",
          "name": "stdout",
          "text": [
            "1/1 [==============================] - 0s 28ms/step\n",
            "1/1 [==============================] - 0s 26ms/step\n"
          ]
        },
        {
          "output_type": "stream",
          "name": "stderr",
          "text": [
            "\r  1%|          | 3/400 [00:02<04:25,  1.50it/s]"
          ]
        },
        {
          "output_type": "stream",
          "name": "stdout",
          "text": [
            "1/1 [==============================] - 0s 27ms/step\n",
            "1/1 [==============================] - 0s 26ms/step\n"
          ]
        },
        {
          "output_type": "stream",
          "name": "stderr",
          "text": [
            "\r  1%|▏         | 5/400 [00:02<02:20,  2.80it/s]"
          ]
        },
        {
          "output_type": "stream",
          "name": "stdout",
          "text": [
            "1/1 [==============================] - 0s 27ms/step\n",
            "1/1 [==============================] - 0s 27ms/step\n"
          ]
        },
        {
          "output_type": "stream",
          "name": "stderr",
          "text": [
            "\r  2%|▏         | 7/400 [00:02<01:31,  4.32it/s]"
          ]
        },
        {
          "output_type": "stream",
          "name": "stdout",
          "text": [
            "1/1 [==============================] - 0s 25ms/step\n",
            "1/1 [==============================] - 0s 25ms/step\n"
          ]
        },
        {
          "output_type": "stream",
          "name": "stderr",
          "text": [
            "\r  2%|▏         | 9/400 [00:02<01:05,  5.99it/s]"
          ]
        },
        {
          "output_type": "stream",
          "name": "stdout",
          "text": [
            "1/1 [==============================] - 0s 33ms/step\n",
            "1/1 [==============================] - 0s 29ms/step\n"
          ]
        },
        {
          "output_type": "stream",
          "name": "stderr",
          "text": [
            "\r  3%|▎         | 11/400 [00:03<00:51,  7.62it/s]"
          ]
        },
        {
          "output_type": "stream",
          "name": "stdout",
          "text": [
            "1/1 [==============================] - 0s 34ms/step\n",
            "1/1 [==============================] - 0s 28ms/step\n"
          ]
        },
        {
          "output_type": "stream",
          "name": "stderr",
          "text": [
            "\r  3%|▎         | 13/400 [00:03<00:47,  8.11it/s]"
          ]
        },
        {
          "output_type": "stream",
          "name": "stdout",
          "text": [
            "1/1 [==============================] - 0s 28ms/step\n",
            "1/1 [==============================] - 0s 37ms/step\n"
          ]
        },
        {
          "output_type": "stream",
          "name": "stderr",
          "text": [
            "\r  4%|▍         | 15/400 [00:03<00:40,  9.42it/s]"
          ]
        },
        {
          "output_type": "stream",
          "name": "stdout",
          "text": [
            "1/1 [==============================] - 0s 26ms/step\n",
            "1/1 [==============================] - 0s 26ms/step\n"
          ]
        },
        {
          "output_type": "stream",
          "name": "stderr",
          "text": [
            "\r  4%|▍         | 17/400 [00:03<00:35, 10.84it/s]"
          ]
        },
        {
          "output_type": "stream",
          "name": "stdout",
          "text": [
            "1/1 [==============================] - 0s 27ms/step\n",
            "1/1 [==============================] - 0s 30ms/step\n"
          ]
        },
        {
          "output_type": "stream",
          "name": "stderr",
          "text": [
            "\r  5%|▍         | 19/400 [00:03<00:31, 12.03it/s]"
          ]
        },
        {
          "output_type": "stream",
          "name": "stdout",
          "text": [
            "1/1 [==============================] - 0s 26ms/step\n",
            "1/1 [==============================] - 0s 31ms/step\n"
          ]
        },
        {
          "output_type": "stream",
          "name": "stderr",
          "text": [
            "\r  5%|▌         | 21/400 [00:03<00:29, 12.95it/s]"
          ]
        },
        {
          "output_type": "stream",
          "name": "stdout",
          "text": [
            "1/1 [==============================] - 0s 27ms/step\n",
            "1/1 [==============================] - 0s 28ms/step\n"
          ]
        },
        {
          "output_type": "stream",
          "name": "stderr",
          "text": [
            "\r  6%|▌         | 23/400 [00:03<00:29, 12.75it/s]"
          ]
        },
        {
          "output_type": "stream",
          "name": "stdout",
          "text": [
            "1/1 [==============================] - 0s 29ms/step\n",
            "1/1 [==============================] - 0s 28ms/step\n"
          ]
        },
        {
          "output_type": "stream",
          "name": "stderr",
          "text": [
            "\r  6%|▋         | 25/400 [00:04<00:27, 13.45it/s]"
          ]
        },
        {
          "output_type": "stream",
          "name": "stdout",
          "text": [
            "1/1 [==============================] - 0s 34ms/step\n",
            "1/1 [==============================] - 0s 26ms/step\n"
          ]
        },
        {
          "output_type": "stream",
          "name": "stderr",
          "text": [
            "\r  7%|▋         | 27/400 [00:04<00:26, 14.00it/s]"
          ]
        },
        {
          "output_type": "stream",
          "name": "stdout",
          "text": [
            "1/1 [==============================] - 0s 28ms/step\n",
            "1/1 [==============================] - 0s 27ms/step\n"
          ]
        },
        {
          "output_type": "stream",
          "name": "stderr",
          "text": [
            "\r  7%|▋         | 29/400 [00:04<00:25, 14.65it/s]"
          ]
        },
        {
          "output_type": "stream",
          "name": "stdout",
          "text": [
            "1/1 [==============================] - 0s 26ms/step\n",
            "1/1 [==============================] - 0s 29ms/step\n"
          ]
        },
        {
          "output_type": "stream",
          "name": "stderr",
          "text": [
            "\r  8%|▊         | 31/400 [00:04<00:24, 15.09it/s]"
          ]
        },
        {
          "output_type": "stream",
          "name": "stdout",
          "text": [
            "1/1 [==============================] - 0s 27ms/step\n",
            "1/1 [==============================] - 0s 26ms/step\n"
          ]
        },
        {
          "output_type": "stream",
          "name": "stderr",
          "text": [
            "\r  8%|▊         | 33/400 [00:04<00:23, 15.59it/s]"
          ]
        },
        {
          "output_type": "stream",
          "name": "stdout",
          "text": [
            "1/1 [==============================] - 0s 27ms/step\n",
            "1/1 [==============================] - 0s 26ms/step\n"
          ]
        },
        {
          "output_type": "stream",
          "name": "stderr",
          "text": [
            "\r  9%|▉         | 35/400 [00:04<00:23, 15.56it/s]"
          ]
        },
        {
          "output_type": "stream",
          "name": "stdout",
          "text": [
            "1/1 [==============================] - 0s 26ms/step\n",
            "1/1 [==============================] - 0s 28ms/step\n"
          ]
        },
        {
          "output_type": "stream",
          "name": "stderr",
          "text": [
            "\r  9%|▉         | 37/400 [00:04<00:25, 14.46it/s]"
          ]
        },
        {
          "output_type": "stream",
          "name": "stdout",
          "text": [
            "1/1 [==============================] - 0s 28ms/step\n",
            "1/1 [==============================] - 0s 27ms/step\n"
          ]
        },
        {
          "output_type": "stream",
          "name": "stderr",
          "text": [
            "\r 10%|▉         | 39/400 [00:04<00:24, 15.04it/s]"
          ]
        },
        {
          "output_type": "stream",
          "name": "stdout",
          "text": [
            "1/1 [==============================] - 0s 25ms/step\n",
            "1/1 [==============================] - 0s 31ms/step\n"
          ]
        },
        {
          "output_type": "stream",
          "name": "stderr",
          "text": [
            "\r 10%|█         | 41/400 [00:05<00:23, 15.33it/s]"
          ]
        },
        {
          "output_type": "stream",
          "name": "stdout",
          "text": [
            "1/1 [==============================] - 0s 31ms/step\n",
            "1/1 [==============================] - 0s 28ms/step\n"
          ]
        },
        {
          "output_type": "stream",
          "name": "stderr",
          "text": [
            "\r 11%|█         | 43/400 [00:05<00:25, 14.04it/s]"
          ]
        },
        {
          "output_type": "stream",
          "name": "stdout",
          "text": [
            "1/1 [==============================] - 0s 28ms/step\n",
            "1/1 [==============================] - 0s 27ms/step\n"
          ]
        },
        {
          "output_type": "stream",
          "name": "stderr",
          "text": [
            "\r 11%|█▏        | 45/400 [00:05<00:24, 14.34it/s]"
          ]
        },
        {
          "output_type": "stream",
          "name": "stdout",
          "text": [
            "1/1 [==============================] - 0s 27ms/step\n",
            "1/1 [==============================] - 0s 28ms/step\n"
          ]
        },
        {
          "output_type": "stream",
          "name": "stderr",
          "text": [
            "\r 12%|█▏        | 47/400 [00:05<00:25, 13.65it/s]"
          ]
        },
        {
          "output_type": "stream",
          "name": "stdout",
          "text": [
            "1/1 [==============================] - 0s 26ms/step\n",
            "1/1 [==============================] - 0s 28ms/step\n"
          ]
        },
        {
          "output_type": "stream",
          "name": "stderr",
          "text": [
            "\r 12%|█▏        | 49/400 [00:05<00:24, 14.41it/s]"
          ]
        },
        {
          "output_type": "stream",
          "name": "stdout",
          "text": [
            "1/1 [==============================] - 0s 31ms/step\n",
            "1/1 [==============================] - 0s 26ms/step\n"
          ]
        },
        {
          "output_type": "stream",
          "name": "stderr",
          "text": [
            "\r 13%|█▎        | 51/400 [00:05<00:23, 14.82it/s]"
          ]
        },
        {
          "output_type": "stream",
          "name": "stdout",
          "text": [
            "1/1 [==============================] - 0s 25ms/step\n",
            "1/1 [==============================] - 0s 29ms/step\n"
          ]
        },
        {
          "output_type": "stream",
          "name": "stderr",
          "text": [
            "\r 13%|█▎        | 53/400 [00:05<00:23, 14.91it/s]"
          ]
        },
        {
          "output_type": "stream",
          "name": "stdout",
          "text": [
            "1/1 [==============================] - 0s 27ms/step\n",
            "1/1 [==============================] - 0s 27ms/step\n"
          ]
        },
        {
          "output_type": "stream",
          "name": "stderr",
          "text": [
            "\r 14%|█▍        | 55/400 [00:06<00:22, 15.17it/s]"
          ]
        },
        {
          "output_type": "stream",
          "name": "stdout",
          "text": [
            "1/1 [==============================] - 0s 27ms/step\n",
            "1/1 [==============================] - 0s 29ms/step\n"
          ]
        },
        {
          "output_type": "stream",
          "name": "stderr",
          "text": [
            "\r 14%|█▍        | 57/400 [00:06<00:22, 15.15it/s]"
          ]
        },
        {
          "output_type": "stream",
          "name": "stdout",
          "text": [
            "1/1 [==============================] - 0s 25ms/step\n",
            "1/1 [==============================] - 0s 27ms/step\n"
          ]
        },
        {
          "output_type": "stream",
          "name": "stderr",
          "text": [
            "\r 15%|█▍        | 59/400 [00:06<00:23, 14.21it/s]"
          ]
        },
        {
          "output_type": "stream",
          "name": "stdout",
          "text": [
            "1/1 [==============================] - 0s 27ms/step\n",
            "1/1 [==============================] - 0s 27ms/step\n"
          ]
        },
        {
          "output_type": "stream",
          "name": "stderr",
          "text": [
            "\r 15%|█▌        | 61/400 [00:06<00:22, 14.78it/s]"
          ]
        },
        {
          "output_type": "stream",
          "name": "stdout",
          "text": [
            "1/1 [==============================] - 0s 26ms/step\n",
            "1/1 [==============================] - 0s 32ms/step\n"
          ]
        },
        {
          "output_type": "stream",
          "name": "stderr",
          "text": [
            "\r 16%|█▌        | 63/400 [00:06<00:22, 15.07it/s]"
          ]
        },
        {
          "output_type": "stream",
          "name": "stdout",
          "text": [
            "1/1 [==============================] - 0s 27ms/step\n",
            "1/1 [==============================] - 0s 27ms/step\n"
          ]
        },
        {
          "output_type": "stream",
          "name": "stderr",
          "text": [
            "\r 16%|█▋        | 65/400 [00:06<00:22, 15.15it/s]"
          ]
        },
        {
          "output_type": "stream",
          "name": "stdout",
          "text": [
            "1/1 [==============================] - 0s 27ms/step\n",
            "1/1 [==============================] - 0s 26ms/step\n"
          ]
        },
        {
          "output_type": "stream",
          "name": "stderr",
          "text": [
            "\r 17%|█▋        | 67/400 [00:06<00:21, 15.47it/s]"
          ]
        },
        {
          "output_type": "stream",
          "name": "stdout",
          "text": [
            "1/1 [==============================] - 0s 27ms/step\n",
            "1/1 [==============================] - 0s 26ms/step\n"
          ]
        },
        {
          "output_type": "stream",
          "name": "stderr",
          "text": [
            "\r 17%|█▋        | 69/400 [00:06<00:21, 15.40it/s]"
          ]
        },
        {
          "output_type": "stream",
          "name": "stdout",
          "text": [
            "1/1 [==============================] - 0s 33ms/step\n",
            "1/1 [==============================] - 0s 26ms/step\n"
          ]
        },
        {
          "output_type": "stream",
          "name": "stderr",
          "text": [
            "\r 18%|█▊        | 71/400 [00:07<00:21, 15.36it/s]"
          ]
        },
        {
          "output_type": "stream",
          "name": "stdout",
          "text": [
            "1/1 [==============================] - 0s 31ms/step\n",
            "1/1 [==============================] - 0s 27ms/step\n"
          ]
        },
        {
          "output_type": "stream",
          "name": "stderr",
          "text": [
            "\r 18%|█▊        | 73/400 [00:07<00:21, 15.28it/s]"
          ]
        },
        {
          "output_type": "stream",
          "name": "stdout",
          "text": [
            "1/1 [==============================] - 0s 27ms/step\n",
            "1/1 [==============================] - 0s 32ms/step\n"
          ]
        },
        {
          "output_type": "stream",
          "name": "stderr",
          "text": [
            "\r 19%|█▉        | 75/400 [00:07<00:23, 14.00it/s]"
          ]
        },
        {
          "output_type": "stream",
          "name": "stdout",
          "text": [
            "1/1 [==============================] - 0s 28ms/step\n",
            "1/1 [==============================] - 0s 26ms/step\n"
          ]
        },
        {
          "output_type": "stream",
          "name": "stderr",
          "text": [
            "\r 19%|█▉        | 77/400 [00:07<00:22, 14.52it/s]"
          ]
        },
        {
          "output_type": "stream",
          "name": "stdout",
          "text": [
            "1/1 [==============================] - 0s 27ms/step\n",
            "1/1 [==============================] - 0s 27ms/step\n"
          ]
        },
        {
          "output_type": "stream",
          "name": "stderr",
          "text": [
            "\r 20%|█▉        | 79/400 [00:07<00:21, 14.93it/s]"
          ]
        },
        {
          "output_type": "stream",
          "name": "stdout",
          "text": [
            "1/1 [==============================] - 0s 26ms/step\n",
            "1/1 [==============================] - 0s 26ms/step\n"
          ]
        },
        {
          "output_type": "stream",
          "name": "stderr",
          "text": [
            "\r 20%|██        | 81/400 [00:07<00:20, 15.39it/s]"
          ]
        },
        {
          "output_type": "stream",
          "name": "stdout",
          "text": [
            "1/1 [==============================] - 0s 28ms/step\n",
            "1/1 [==============================] - 0s 35ms/step\n"
          ]
        },
        {
          "output_type": "stream",
          "name": "stderr",
          "text": [
            "\r 21%|██        | 83/400 [00:07<00:20, 15.27it/s]"
          ]
        },
        {
          "output_type": "stream",
          "name": "stdout",
          "text": [
            "1/1 [==============================] - 0s 26ms/step\n",
            "1/1 [==============================] - 0s 27ms/step\n"
          ]
        },
        {
          "output_type": "stream",
          "name": "stderr",
          "text": [
            "\r 21%|██▏       | 85/400 [00:08<00:22, 14.32it/s]"
          ]
        },
        {
          "output_type": "stream",
          "name": "stdout",
          "text": [
            "1/1 [==============================] - 0s 29ms/step\n",
            "1/1 [==============================] - 0s 27ms/step\n"
          ]
        },
        {
          "output_type": "stream",
          "name": "stderr",
          "text": [
            "\r 22%|██▏       | 87/400 [00:08<00:21, 14.49it/s]"
          ]
        },
        {
          "output_type": "stream",
          "name": "stdout",
          "text": [
            "1/1 [==============================] - 0s 29ms/step\n",
            "1/1 [==============================] - 0s 31ms/step\n"
          ]
        },
        {
          "output_type": "stream",
          "name": "stderr",
          "text": [
            "\r 22%|██▏       | 89/400 [00:08<00:20, 14.87it/s]"
          ]
        },
        {
          "output_type": "stream",
          "name": "stdout",
          "text": [
            "1/1 [==============================] - 0s 26ms/step\n",
            "1/1 [==============================] - 0s 26ms/step\n"
          ]
        },
        {
          "output_type": "stream",
          "name": "stderr",
          "text": [
            "\r 23%|██▎       | 91/400 [00:08<00:20, 15.35it/s]"
          ]
        },
        {
          "output_type": "stream",
          "name": "stdout",
          "text": [
            "1/1 [==============================] - 0s 26ms/step\n",
            "1/1 [==============================] - 0s 24ms/step\n"
          ]
        },
        {
          "output_type": "stream",
          "name": "stderr",
          "text": [
            "\r 23%|██▎       | 93/400 [00:08<00:19, 15.74it/s]"
          ]
        },
        {
          "output_type": "stream",
          "name": "stdout",
          "text": [
            "1/1 [==============================] - 0s 26ms/step\n",
            "1/1 [==============================] - 0s 27ms/step\n"
          ]
        },
        {
          "output_type": "stream",
          "name": "stderr",
          "text": [
            "\r 24%|██▍       | 95/400 [00:08<00:19, 15.86it/s]"
          ]
        },
        {
          "output_type": "stream",
          "name": "stdout",
          "text": [
            "1/1 [==============================] - 0s 27ms/step\n",
            "1/1 [==============================] - 0s 34ms/step\n"
          ]
        },
        {
          "output_type": "stream",
          "name": "stderr",
          "text": [
            "\r 24%|██▍       | 97/400 [00:08<00:19, 15.59it/s]"
          ]
        },
        {
          "output_type": "stream",
          "name": "stdout",
          "text": [
            "1/1 [==============================] - 0s 27ms/step\n",
            "1/1 [==============================] - 0s 26ms/step\n"
          ]
        },
        {
          "output_type": "stream",
          "name": "stderr",
          "text": [
            "\r 25%|██▍       | 99/400 [00:08<00:19, 15.75it/s]"
          ]
        },
        {
          "output_type": "stream",
          "name": "stdout",
          "text": [
            "1/1 [==============================] - 0s 26ms/step\n",
            "1/1 [==============================] - 0s 29ms/step\n"
          ]
        },
        {
          "output_type": "stream",
          "name": "stderr",
          "text": [
            "\r 25%|██▌       | 101/400 [00:09<00:19, 15.58it/s]"
          ]
        },
        {
          "output_type": "stream",
          "name": "stdout",
          "text": [
            "1/1 [==============================] - 0s 29ms/step\n",
            "1/1 [==============================] - 0s 28ms/step\n"
          ]
        },
        {
          "output_type": "stream",
          "name": "stderr",
          "text": [
            "\r 26%|██▌       | 103/400 [00:09<00:20, 14.30it/s]"
          ]
        },
        {
          "output_type": "stream",
          "name": "stdout",
          "text": [
            "1/1 [==============================] - 0s 27ms/step\n",
            "1/1 [==============================] - 0s 27ms/step\n"
          ]
        },
        {
          "output_type": "stream",
          "name": "stderr",
          "text": [
            "\r 26%|██▋       | 105/400 [00:09<00:20, 14.64it/s]"
          ]
        },
        {
          "output_type": "stream",
          "name": "stdout",
          "text": [
            "1/1 [==============================] - 0s 27ms/step\n",
            "1/1 [==============================] - 0s 26ms/step\n"
          ]
        },
        {
          "output_type": "stream",
          "name": "stderr",
          "text": [
            "\r 27%|██▋       | 107/400 [00:09<00:19, 14.93it/s]"
          ]
        },
        {
          "output_type": "stream",
          "name": "stdout",
          "text": [
            "1/1 [==============================] - 0s 25ms/step\n",
            "1/1 [==============================] - 0s 25ms/step\n"
          ]
        },
        {
          "output_type": "stream",
          "name": "stderr",
          "text": [
            "\r 27%|██▋       | 109/400 [00:09<00:18, 15.45it/s]"
          ]
        },
        {
          "output_type": "stream",
          "name": "stdout",
          "text": [
            "1/1 [==============================] - 0s 27ms/step\n",
            "1/1 [==============================] - 0s 27ms/step\n"
          ]
        },
        {
          "output_type": "stream",
          "name": "stderr",
          "text": [
            "\r 28%|██▊       | 111/400 [00:09<00:18, 15.60it/s]"
          ]
        },
        {
          "output_type": "stream",
          "name": "stdout",
          "text": [
            "1/1 [==============================] - 0s 26ms/step\n",
            "1/1 [==============================] - 0s 27ms/step\n"
          ]
        },
        {
          "output_type": "stream",
          "name": "stderr",
          "text": [
            "\r 28%|██▊       | 113/400 [00:09<00:18, 15.59it/s]"
          ]
        },
        {
          "output_type": "stream",
          "name": "stdout",
          "text": [
            "1/1 [==============================] - 0s 26ms/step\n",
            "1/1 [==============================] - 0s 25ms/step\n"
          ]
        },
        {
          "output_type": "stream",
          "name": "stderr",
          "text": [
            "\r 29%|██▉       | 115/400 [00:10<00:17, 15.87it/s]"
          ]
        },
        {
          "output_type": "stream",
          "name": "stdout",
          "text": [
            "1/1 [==============================] - 0s 26ms/step\n",
            "1/1 [==============================] - 0s 29ms/step\n"
          ]
        },
        {
          "output_type": "stream",
          "name": "stderr",
          "text": [
            "\r 29%|██▉       | 117/400 [00:10<00:17, 15.73it/s]"
          ]
        },
        {
          "output_type": "stream",
          "name": "stdout",
          "text": [
            "1/1 [==============================] - 0s 32ms/step\n",
            "1/1 [==============================] - 0s 36ms/step\n"
          ]
        },
        {
          "output_type": "stream",
          "name": "stderr",
          "text": [
            "\r 30%|██▉       | 119/400 [00:10<00:18, 15.48it/s]"
          ]
        },
        {
          "output_type": "stream",
          "name": "stdout",
          "text": [
            "1/1 [==============================] - 0s 29ms/step\n",
            "1/1 [==============================] - 0s 27ms/step\n"
          ]
        },
        {
          "output_type": "stream",
          "name": "stderr",
          "text": [
            "\r 30%|███       | 121/400 [00:10<00:17, 15.58it/s]"
          ]
        },
        {
          "output_type": "stream",
          "name": "stdout",
          "text": [
            "1/1 [==============================] - 0s 27ms/step\n",
            "1/1 [==============================] - 0s 27ms/step\n"
          ]
        },
        {
          "output_type": "stream",
          "name": "stderr",
          "text": [
            "\r 31%|███       | 123/400 [00:10<00:17, 15.72it/s]"
          ]
        },
        {
          "output_type": "stream",
          "name": "stdout",
          "text": [
            "1/1 [==============================] - 0s 26ms/step\n",
            "1/1 [==============================] - 0s 25ms/step\n"
          ]
        },
        {
          "output_type": "stream",
          "name": "stderr",
          "text": [
            "\r 31%|███▏      | 125/400 [00:10<00:17, 15.97it/s]"
          ]
        },
        {
          "output_type": "stream",
          "name": "stdout",
          "text": [
            "1/1 [==============================] - 0s 31ms/step\n",
            "1/1 [==============================] - 0s 27ms/step\n"
          ]
        },
        {
          "output_type": "stream",
          "name": "stderr",
          "text": [
            "\r 32%|███▏      | 127/400 [00:10<00:17, 15.59it/s]"
          ]
        },
        {
          "output_type": "stream",
          "name": "stdout",
          "text": [
            "1/1 [==============================] - 0s 27ms/step\n",
            "1/1 [==============================] - 0s 26ms/step\n"
          ]
        },
        {
          "output_type": "stream",
          "name": "stderr",
          "text": [
            "\r 32%|███▏      | 129/400 [00:10<00:17, 15.42it/s]"
          ]
        },
        {
          "output_type": "stream",
          "name": "stdout",
          "text": [
            "1/1 [==============================] - 0s 27ms/step\n",
            "1/1 [==============================] - 0s 26ms/step\n"
          ]
        },
        {
          "output_type": "stream",
          "name": "stderr",
          "text": [
            "\r 33%|███▎      | 131/400 [00:11<00:16, 15.85it/s]"
          ]
        },
        {
          "output_type": "stream",
          "name": "stdout",
          "text": [
            "1/1 [==============================] - 0s 27ms/step\n",
            "1/1 [==============================] - 0s 28ms/step\n"
          ]
        },
        {
          "output_type": "stream",
          "name": "stderr",
          "text": [
            "\r 33%|███▎      | 133/400 [00:11<00:17, 15.65it/s]"
          ]
        },
        {
          "output_type": "stream",
          "name": "stdout",
          "text": [
            "1/1 [==============================] - 0s 33ms/step\n",
            "1/1 [==============================] - 0s 25ms/step\n"
          ]
        },
        {
          "output_type": "stream",
          "name": "stderr",
          "text": [
            "\r 34%|███▍      | 135/400 [00:11<00:16, 15.71it/s]"
          ]
        },
        {
          "output_type": "stream",
          "name": "stdout",
          "text": [
            "1/1 [==============================] - 0s 35ms/step\n",
            "1/1 [==============================] - 0s 25ms/step\n"
          ]
        },
        {
          "output_type": "stream",
          "name": "stderr",
          "text": [
            "\r 34%|███▍      | 137/400 [00:11<00:16, 15.54it/s]"
          ]
        },
        {
          "output_type": "stream",
          "name": "stdout",
          "text": [
            "1/1 [==============================] - 0s 26ms/step\n",
            "1/1 [==============================] - 0s 27ms/step\n"
          ]
        },
        {
          "output_type": "stream",
          "name": "stderr",
          "text": [
            "\r 35%|███▍      | 139/400 [00:11<00:16, 15.76it/s]"
          ]
        },
        {
          "output_type": "stream",
          "name": "stdout",
          "text": [
            "1/1 [==============================] - 0s 27ms/step\n",
            "1/1 [==============================] - 0s 27ms/step\n"
          ]
        },
        {
          "output_type": "stream",
          "name": "stderr",
          "text": [
            "\r 35%|███▌      | 141/400 [00:11<00:16, 15.97it/s]"
          ]
        },
        {
          "output_type": "stream",
          "name": "stdout",
          "text": [
            "1/1 [==============================] - 0s 28ms/step\n",
            "1/1 [==============================] - 0s 29ms/step\n"
          ]
        },
        {
          "output_type": "stream",
          "name": "stderr",
          "text": [
            "\r 36%|███▌      | 143/400 [00:11<00:17, 14.56it/s]"
          ]
        },
        {
          "output_type": "stream",
          "name": "stdout",
          "text": [
            "1/1 [==============================] - 0s 28ms/step\n",
            "1/1 [==============================] - 0s 27ms/step\n"
          ]
        },
        {
          "output_type": "stream",
          "name": "stderr",
          "text": [
            "\r 36%|███▋      | 145/400 [00:11<00:17, 14.82it/s]"
          ]
        },
        {
          "output_type": "stream",
          "name": "stdout",
          "text": [
            "1/1 [==============================] - 0s 26ms/step\n",
            "1/1 [==============================] - 0s 27ms/step\n"
          ]
        },
        {
          "output_type": "stream",
          "name": "stderr",
          "text": [
            "\r 37%|███▋      | 147/400 [00:12<00:16, 15.16it/s]"
          ]
        },
        {
          "output_type": "stream",
          "name": "stdout",
          "text": [
            "1/1 [==============================] - 0s 31ms/step\n",
            "1/1 [==============================] - 0s 25ms/step\n"
          ]
        },
        {
          "output_type": "stream",
          "name": "stderr",
          "text": [
            "\r 37%|███▋      | 149/400 [00:12<00:16, 15.38it/s]"
          ]
        },
        {
          "output_type": "stream",
          "name": "stdout",
          "text": [
            "1/1 [==============================] - 0s 31ms/step\n",
            "1/1 [==============================] - 0s 27ms/step\n"
          ]
        },
        {
          "output_type": "stream",
          "name": "stderr",
          "text": [
            "\r 38%|███▊      | 151/400 [00:12<00:16, 15.36it/s]"
          ]
        },
        {
          "output_type": "stream",
          "name": "stdout",
          "text": [
            "1/1 [==============================] - 0s 27ms/step\n",
            "1/1 [==============================] - 0s 24ms/step\n"
          ]
        },
        {
          "output_type": "stream",
          "name": "stderr",
          "text": [
            "\r 38%|███▊      | 153/400 [00:12<00:15, 15.75it/s]"
          ]
        },
        {
          "output_type": "stream",
          "name": "stdout",
          "text": [
            "1/1 [==============================] - 0s 25ms/step\n",
            "1/1 [==============================] - 0s 26ms/step\n"
          ]
        },
        {
          "output_type": "stream",
          "name": "stderr",
          "text": [
            "\r 39%|███▉      | 155/400 [00:12<00:15, 16.02it/s]"
          ]
        },
        {
          "output_type": "stream",
          "name": "stdout",
          "text": [
            "1/1 [==============================] - 0s 29ms/step\n",
            "1/1 [==============================] - 0s 30ms/step\n"
          ]
        },
        {
          "output_type": "stream",
          "name": "stderr",
          "text": [
            "\r 39%|███▉      | 157/400 [00:12<00:15, 15.49it/s]"
          ]
        },
        {
          "output_type": "stream",
          "name": "stdout",
          "text": [
            "1/1 [==============================] - 0s 26ms/step\n",
            "1/1 [==============================] - 0s 34ms/step\n"
          ]
        },
        {
          "output_type": "stream",
          "name": "stderr",
          "text": [
            "\r 40%|███▉      | 159/400 [00:12<00:15, 15.46it/s]"
          ]
        },
        {
          "output_type": "stream",
          "name": "stdout",
          "text": [
            "1/1 [==============================] - 0s 29ms/step\n",
            "1/1 [==============================] - 0s 29ms/step\n"
          ]
        },
        {
          "output_type": "stream",
          "name": "stderr",
          "text": [
            "\r 40%|████      | 161/400 [00:13<00:16, 14.26it/s]"
          ]
        },
        {
          "output_type": "stream",
          "name": "stdout",
          "text": [
            "1/1 [==============================] - 0s 28ms/step\n",
            "1/1 [==============================] - 0s 29ms/step\n"
          ]
        },
        {
          "output_type": "stream",
          "name": "stderr",
          "text": [
            "\r 41%|████      | 163/400 [00:13<00:19, 12.46it/s]"
          ]
        },
        {
          "output_type": "stream",
          "name": "stdout",
          "text": [
            "1/1 [==============================] - 0s 36ms/step\n",
            "1/1 [==============================] - 0s 26ms/step\n"
          ]
        },
        {
          "output_type": "stream",
          "name": "stderr",
          "text": [
            "\r 41%|████▏     | 165/400 [00:13<00:18, 12.99it/s]"
          ]
        },
        {
          "output_type": "stream",
          "name": "stdout",
          "text": [
            "1/1 [==============================] - 0s 28ms/step\n",
            "1/1 [==============================] - 0s 25ms/step\n"
          ]
        },
        {
          "output_type": "stream",
          "name": "stderr",
          "text": [
            "\r 42%|████▏     | 167/400 [00:13<00:17, 13.66it/s]"
          ]
        },
        {
          "output_type": "stream",
          "name": "stdout",
          "text": [
            "1/1 [==============================] - 0s 26ms/step\n",
            "1/1 [==============================] - 0s 26ms/step\n"
          ]
        },
        {
          "output_type": "stream",
          "name": "stderr",
          "text": [
            "\r 42%|████▏     | 169/400 [00:13<00:16, 14.36it/s]"
          ]
        },
        {
          "output_type": "stream",
          "name": "stdout",
          "text": [
            "1/1 [==============================] - 0s 26ms/step\n",
            "1/1 [==============================] - 0s 28ms/step\n"
          ]
        },
        {
          "output_type": "stream",
          "name": "stderr",
          "text": [
            "\r 43%|████▎     | 171/400 [00:13<00:16, 13.59it/s]"
          ]
        },
        {
          "output_type": "stream",
          "name": "stdout",
          "text": [
            "1/1 [==============================] - 0s 29ms/step\n",
            "1/1 [==============================] - 0s 28ms/step\n"
          ]
        },
        {
          "output_type": "stream",
          "name": "stderr",
          "text": [
            "\r 43%|████▎     | 173/400 [00:13<00:17, 13.08it/s]"
          ]
        },
        {
          "output_type": "stream",
          "name": "stdout",
          "text": [
            "1/1 [==============================] - 0s 26ms/step\n",
            "1/1 [==============================] - 0s 27ms/step\n"
          ]
        },
        {
          "output_type": "stream",
          "name": "stderr",
          "text": [
            "\r 44%|████▍     | 175/400 [00:14<00:16, 13.91it/s]"
          ]
        },
        {
          "output_type": "stream",
          "name": "stdout",
          "text": [
            "1/1 [==============================] - 0s 27ms/step\n",
            "1/1 [==============================] - 0s 37ms/step\n"
          ]
        },
        {
          "output_type": "stream",
          "name": "stderr",
          "text": [
            "\r 44%|████▍     | 177/400 [00:14<00:15, 13.97it/s]"
          ]
        },
        {
          "output_type": "stream",
          "name": "stdout",
          "text": [
            "1/1 [==============================] - 0s 36ms/step\n",
            "1/1 [==============================] - 0s 25ms/step\n"
          ]
        },
        {
          "output_type": "stream",
          "name": "stderr",
          "text": [
            "\r 45%|████▍     | 179/400 [00:14<00:15, 14.44it/s]"
          ]
        },
        {
          "output_type": "stream",
          "name": "stdout",
          "text": [
            "1/1 [==============================] - 0s 28ms/step\n",
            "1/1 [==============================] - 0s 27ms/step\n"
          ]
        },
        {
          "output_type": "stream",
          "name": "stderr",
          "text": [
            "\r 45%|████▌     | 181/400 [00:14<00:14, 14.95it/s]"
          ]
        },
        {
          "output_type": "stream",
          "name": "stdout",
          "text": [
            "1/1 [==============================] - 0s 26ms/step\n",
            "1/1 [==============================] - 0s 28ms/step\n"
          ]
        },
        {
          "output_type": "stream",
          "name": "stderr",
          "text": [
            "\r 46%|████▌     | 183/400 [00:14<00:14, 15.30it/s]"
          ]
        },
        {
          "output_type": "stream",
          "name": "stdout",
          "text": [
            "1/1 [==============================] - 0s 27ms/step\n",
            "1/1 [==============================] - 0s 26ms/step\n"
          ]
        },
        {
          "output_type": "stream",
          "name": "stderr",
          "text": [
            "\r 46%|████▋     | 185/400 [00:14<00:13, 15.63it/s]"
          ]
        },
        {
          "output_type": "stream",
          "name": "stdout",
          "text": [
            "1/1 [==============================] - 0s 29ms/step\n",
            "1/1 [==============================] - 0s 26ms/step\n"
          ]
        },
        {
          "output_type": "stream",
          "name": "stderr",
          "text": [
            "\r 47%|████▋     | 187/400 [00:14<00:13, 15.27it/s]"
          ]
        },
        {
          "output_type": "stream",
          "name": "stdout",
          "text": [
            "1/1 [==============================] - 0s 28ms/step\n",
            "1/1 [==============================] - 0s 26ms/step\n"
          ]
        },
        {
          "output_type": "stream",
          "name": "stderr",
          "text": [
            "\r 47%|████▋     | 189/400 [00:14<00:13, 15.55it/s]"
          ]
        },
        {
          "output_type": "stream",
          "name": "stdout",
          "text": [
            "1/1 [==============================] - 0s 27ms/step\n",
            "1/1 [==============================] - 0s 26ms/step\n"
          ]
        },
        {
          "output_type": "stream",
          "name": "stderr",
          "text": [
            "\r 48%|████▊     | 191/400 [00:15<00:13, 15.32it/s]"
          ]
        },
        {
          "output_type": "stream",
          "name": "stdout",
          "text": [
            "1/1 [==============================] - 0s 31ms/step\n",
            "1/1 [==============================] - 0s 26ms/step\n"
          ]
        },
        {
          "output_type": "stream",
          "name": "stderr",
          "text": [
            "\r 48%|████▊     | 193/400 [00:15<00:13, 15.50it/s]"
          ]
        },
        {
          "output_type": "stream",
          "name": "stdout",
          "text": [
            "1/1 [==============================] - 0s 33ms/step\n",
            "1/1 [==============================] - 0s 27ms/step\n"
          ]
        },
        {
          "output_type": "stream",
          "name": "stderr",
          "text": [
            "\r 49%|████▉     | 195/400 [00:15<00:13, 15.49it/s]"
          ]
        },
        {
          "output_type": "stream",
          "name": "stdout",
          "text": [
            "1/1 [==============================] - 0s 27ms/step\n",
            "1/1 [==============================] - 0s 26ms/step\n"
          ]
        },
        {
          "output_type": "stream",
          "name": "stderr",
          "text": [
            "\r 49%|████▉     | 197/400 [00:15<00:12, 15.76it/s]"
          ]
        },
        {
          "output_type": "stream",
          "name": "stdout",
          "text": [
            "1/1 [==============================] - 0s 26ms/step\n",
            "1/1 [==============================] - 0s 27ms/step\n"
          ]
        },
        {
          "output_type": "stream",
          "name": "stderr",
          "text": [
            "\r 50%|████▉     | 199/400 [00:15<00:12, 15.52it/s]"
          ]
        },
        {
          "output_type": "stream",
          "name": "stdout",
          "text": [
            "1/1 [==============================] - 0s 26ms/step\n",
            "1/1 [==============================] - 0s 26ms/step\n"
          ]
        },
        {
          "output_type": "stream",
          "name": "stderr",
          "text": [
            "\r 50%|█████     | 201/400 [00:15<00:12, 15.79it/s]"
          ]
        },
        {
          "output_type": "stream",
          "name": "stdout",
          "text": [
            "1/1 [==============================] - 0s 29ms/step\n",
            "1/1 [==============================] - 0s 29ms/step\n"
          ]
        },
        {
          "output_type": "stream",
          "name": "stderr",
          "text": [
            "\r 51%|█████     | 203/400 [00:15<00:12, 15.75it/s]"
          ]
        },
        {
          "output_type": "stream",
          "name": "stdout",
          "text": [
            "1/1 [==============================] - 0s 27ms/step\n",
            "1/1 [==============================] - 0s 28ms/step\n"
          ]
        },
        {
          "output_type": "stream",
          "name": "stderr",
          "text": [
            "\r 51%|█████▏    | 205/400 [00:15<00:12, 15.61it/s]"
          ]
        },
        {
          "output_type": "stream",
          "name": "stdout",
          "text": [
            "1/1 [==============================] - 0s 26ms/step\n",
            "1/1 [==============================] - 0s 26ms/step\n"
          ]
        },
        {
          "output_type": "stream",
          "name": "stderr",
          "text": [
            "\r 52%|█████▏    | 207/400 [00:16<00:12, 15.61it/s]"
          ]
        },
        {
          "output_type": "stream",
          "name": "stdout",
          "text": [
            "1/1 [==============================] - 0s 28ms/step\n",
            "1/1 [==============================] - 0s 27ms/step\n"
          ]
        },
        {
          "output_type": "stream",
          "name": "stderr",
          "text": [
            "\r 52%|█████▏    | 209/400 [00:16<00:12, 15.41it/s]"
          ]
        },
        {
          "output_type": "stream",
          "name": "stdout",
          "text": [
            "1/1 [==============================] - 0s 30ms/step\n",
            "1/1 [==============================] - 0s 25ms/step\n"
          ]
        },
        {
          "output_type": "stream",
          "name": "stderr",
          "text": [
            "\r 53%|█████▎    | 211/400 [00:16<00:12, 15.54it/s]"
          ]
        },
        {
          "output_type": "stream",
          "name": "stdout",
          "text": [
            "1/1 [==============================] - 0s 26ms/step\n",
            "1/1 [==============================] - 0s 28ms/step\n"
          ]
        },
        {
          "output_type": "stream",
          "name": "stderr",
          "text": [
            "\r 53%|█████▎    | 213/400 [00:16<00:12, 15.55it/s]"
          ]
        },
        {
          "output_type": "stream",
          "name": "stdout",
          "text": [
            "1/1 [==============================] - 0s 30ms/step\n",
            "1/1 [==============================] - 0s 28ms/step\n"
          ]
        },
        {
          "output_type": "stream",
          "name": "stderr",
          "text": [
            "\r 54%|█████▍    | 215/400 [00:16<00:12, 15.19it/s]"
          ]
        },
        {
          "output_type": "stream",
          "name": "stdout",
          "text": [
            "1/1 [==============================] - 0s 26ms/step\n",
            "1/1 [==============================] - 0s 29ms/step\n"
          ]
        },
        {
          "output_type": "stream",
          "name": "stderr",
          "text": [
            "\r 54%|█████▍    | 217/400 [00:16<00:11, 15.35it/s]"
          ]
        },
        {
          "output_type": "stream",
          "name": "stdout",
          "text": [
            "1/1 [==============================] - 0s 29ms/step\n",
            "1/1 [==============================] - 0s 28ms/step\n"
          ]
        },
        {
          "output_type": "stream",
          "name": "stderr",
          "text": [
            "\r 55%|█████▍    | 219/400 [00:16<00:12, 14.99it/s]"
          ]
        },
        {
          "output_type": "stream",
          "name": "stdout",
          "text": [
            "1/1 [==============================] - 0s 27ms/step\n",
            "1/1 [==============================] - 0s 28ms/step\n"
          ]
        },
        {
          "output_type": "stream",
          "name": "stderr",
          "text": [
            "\r 55%|█████▌    | 221/400 [00:17<00:12, 13.98it/s]"
          ]
        },
        {
          "output_type": "stream",
          "name": "stdout",
          "text": [
            "1/1 [==============================] - 0s 29ms/step\n",
            "1/1 [==============================] - 0s 26ms/step\n"
          ]
        },
        {
          "output_type": "stream",
          "name": "stderr",
          "text": [
            "\r 56%|█████▌    | 223/400 [00:17<00:12, 14.33it/s]"
          ]
        },
        {
          "output_type": "stream",
          "name": "stdout",
          "text": [
            "1/1 [==============================] - 0s 30ms/step\n",
            "1/1 [==============================] - 0s 25ms/step\n"
          ]
        },
        {
          "output_type": "stream",
          "name": "stderr",
          "text": [
            "\r 56%|█████▋    | 225/400 [00:17<00:12, 14.37it/s]"
          ]
        },
        {
          "output_type": "stream",
          "name": "stdout",
          "text": [
            "1/1 [==============================] - 0s 26ms/step\n",
            "1/1 [==============================] - 0s 26ms/step\n"
          ]
        },
        {
          "output_type": "stream",
          "name": "stderr",
          "text": [
            "\r 57%|█████▋    | 227/400 [00:17<00:11, 14.97it/s]"
          ]
        },
        {
          "output_type": "stream",
          "name": "stdout",
          "text": [
            "1/1 [==============================] - 0s 27ms/step\n",
            "1/1 [==============================] - 0s 26ms/step\n"
          ]
        },
        {
          "output_type": "stream",
          "name": "stderr",
          "text": [
            "\r 57%|█████▋    | 229/400 [00:17<00:11, 15.07it/s]"
          ]
        },
        {
          "output_type": "stream",
          "name": "stdout",
          "text": [
            "1/1 [==============================] - 0s 25ms/step\n",
            "1/1 [==============================] - 0s 29ms/step\n"
          ]
        },
        {
          "output_type": "stream",
          "name": "stderr",
          "text": [
            "\r 58%|█████▊    | 231/400 [00:17<00:11, 14.17it/s]"
          ]
        },
        {
          "output_type": "stream",
          "name": "stdout",
          "text": [
            "1/1 [==============================] - 0s 29ms/step\n",
            "1/1 [==============================] - 0s 27ms/step\n"
          ]
        },
        {
          "output_type": "stream",
          "name": "stderr",
          "text": [
            "\r 58%|█████▊    | 233/400 [00:17<00:11, 14.72it/s]"
          ]
        },
        {
          "output_type": "stream",
          "name": "stdout",
          "text": [
            "1/1 [==============================] - 0s 28ms/step\n",
            "1/1 [==============================] - 0s 34ms/step\n"
          ]
        },
        {
          "output_type": "stream",
          "name": "stderr",
          "text": [
            "\r 59%|█████▉    | 235/400 [00:18<00:11, 14.84it/s]"
          ]
        },
        {
          "output_type": "stream",
          "name": "stdout",
          "text": [
            "1/1 [==============================] - 0s 28ms/step\n",
            "1/1 [==============================] - 0s 28ms/step\n"
          ]
        },
        {
          "output_type": "stream",
          "name": "stderr",
          "text": [
            "\r 59%|█████▉    | 237/400 [00:18<00:10, 15.04it/s]"
          ]
        },
        {
          "output_type": "stream",
          "name": "stdout",
          "text": [
            "1/1 [==============================] - 0s 27ms/step\n",
            "1/1 [==============================] - 0s 29ms/step\n"
          ]
        },
        {
          "output_type": "stream",
          "name": "stderr",
          "text": [
            "\r 60%|█████▉    | 239/400 [00:18<00:10, 15.07it/s]"
          ]
        },
        {
          "output_type": "stream",
          "name": "stdout",
          "text": [
            "1/1 [==============================] - 0s 34ms/step\n",
            "1/1 [==============================] - 0s 25ms/step\n"
          ]
        },
        {
          "output_type": "stream",
          "name": "stderr",
          "text": [
            "\r 60%|██████    | 241/400 [00:18<00:10, 15.15it/s]"
          ]
        },
        {
          "output_type": "stream",
          "name": "stdout",
          "text": [
            "1/1 [==============================] - 0s 27ms/step\n",
            "1/1 [==============================] - 0s 25ms/step\n"
          ]
        },
        {
          "output_type": "stream",
          "name": "stderr",
          "text": [
            "\r 61%|██████    | 243/400 [00:18<00:10, 15.42it/s]"
          ]
        },
        {
          "output_type": "stream",
          "name": "stdout",
          "text": [
            "1/1 [==============================] - 0s 27ms/step\n",
            "1/1 [==============================] - 0s 25ms/step\n"
          ]
        },
        {
          "output_type": "stream",
          "name": "stderr",
          "text": [
            "\r 61%|██████▏   | 245/400 [00:18<00:09, 15.61it/s]"
          ]
        },
        {
          "output_type": "stream",
          "name": "stdout",
          "text": [
            "1/1 [==============================] - 0s 25ms/step\n",
            "1/1 [==============================] - 0s 30ms/step\n"
          ]
        },
        {
          "output_type": "stream",
          "name": "stderr",
          "text": [
            "\r 62%|██████▏   | 247/400 [00:18<00:09, 15.51it/s]"
          ]
        },
        {
          "output_type": "stream",
          "name": "stdout",
          "text": [
            "1/1 [==============================] - 0s 29ms/step\n",
            "1/1 [==============================] - 0s 28ms/step\n"
          ]
        },
        {
          "output_type": "stream",
          "name": "stderr",
          "text": [
            "\r 62%|██████▏   | 249/400 [00:18<00:10, 14.06it/s]"
          ]
        },
        {
          "output_type": "stream",
          "name": "stdout",
          "text": [
            "1/1 [==============================] - 0s 29ms/step\n",
            "1/1 [==============================] - 0s 28ms/step\n"
          ]
        },
        {
          "output_type": "stream",
          "name": "stderr",
          "text": [
            "\r 63%|██████▎   | 251/400 [00:19<00:10, 14.47it/s]"
          ]
        },
        {
          "output_type": "stream",
          "name": "stdout",
          "text": [
            "1/1 [==============================] - 0s 28ms/step\n",
            "1/1 [==============================] - 0s 27ms/step\n"
          ]
        },
        {
          "output_type": "stream",
          "name": "stderr",
          "text": [
            "\r 63%|██████▎   | 253/400 [00:19<00:10, 14.66it/s]"
          ]
        },
        {
          "output_type": "stream",
          "name": "stdout",
          "text": [
            "1/1 [==============================] - 0s 28ms/step\n",
            "1/1 [==============================] - 0s 33ms/step\n"
          ]
        },
        {
          "output_type": "stream",
          "name": "stderr",
          "text": [
            "\r 64%|██████▍   | 255/400 [00:19<00:09, 14.86it/s]"
          ]
        },
        {
          "output_type": "stream",
          "name": "stdout",
          "text": [
            "1/1 [==============================] - 0s 26ms/step\n",
            "1/1 [==============================] - 0s 27ms/step\n"
          ]
        },
        {
          "output_type": "stream",
          "name": "stderr",
          "text": [
            "\r 64%|██████▍   | 257/400 [00:19<00:09, 15.14it/s]"
          ]
        },
        {
          "output_type": "stream",
          "name": "stdout",
          "text": [
            "1/1 [==============================] - 0s 24ms/step\n",
            "1/1 [==============================] - 0s 28ms/step\n"
          ]
        },
        {
          "output_type": "stream",
          "name": "stderr",
          "text": [
            "\r 65%|██████▍   | 259/400 [00:19<00:09, 15.15it/s]"
          ]
        },
        {
          "output_type": "stream",
          "name": "stdout",
          "text": [
            "1/1 [==============================] - 0s 26ms/step\n",
            "1/1 [==============================] - 0s 26ms/step\n"
          ]
        },
        {
          "output_type": "stream",
          "name": "stderr",
          "text": [
            "\r 65%|██████▌   | 261/400 [00:19<00:09, 15.40it/s]"
          ]
        },
        {
          "output_type": "stream",
          "name": "stdout",
          "text": [
            "1/1 [==============================] - 0s 32ms/step\n",
            "1/1 [==============================] - 0s 26ms/step\n"
          ]
        },
        {
          "output_type": "stream",
          "name": "stderr",
          "text": [
            "\r 66%|██████▌   | 263/400 [00:19<00:08, 15.46it/s]"
          ]
        },
        {
          "output_type": "stream",
          "name": "stdout",
          "text": [
            "1/1 [==============================] - 0s 29ms/step\n",
            "1/1 [==============================] - 0s 27ms/step\n"
          ]
        },
        {
          "output_type": "stream",
          "name": "stderr",
          "text": [
            "\r 66%|██████▋   | 265/400 [00:19<00:08, 15.50it/s]"
          ]
        },
        {
          "output_type": "stream",
          "name": "stdout",
          "text": [
            "1/1 [==============================] - 0s 27ms/step\n",
            "1/1 [==============================] - 0s 28ms/step\n"
          ]
        },
        {
          "output_type": "stream",
          "name": "stderr",
          "text": [
            "\r 67%|██████▋   | 267/400 [00:20<00:09, 14.28it/s]"
          ]
        },
        {
          "output_type": "stream",
          "name": "stdout",
          "text": [
            "1/1 [==============================] - 0s 29ms/step\n",
            "1/1 [==============================] - 0s 28ms/step\n"
          ]
        },
        {
          "output_type": "stream",
          "name": "stderr",
          "text": [
            "\r 67%|██████▋   | 269/400 [00:20<00:09, 14.28it/s]"
          ]
        },
        {
          "output_type": "stream",
          "name": "stdout",
          "text": [
            "1/1 [==============================] - 0s 31ms/step\n",
            "1/1 [==============================] - 0s 26ms/step\n"
          ]
        },
        {
          "output_type": "stream",
          "name": "stderr",
          "text": [
            "\r 68%|██████▊   | 271/400 [00:20<00:08, 14.73it/s]"
          ]
        },
        {
          "output_type": "stream",
          "name": "stdout",
          "text": [
            "1/1 [==============================] - 0s 25ms/step\n",
            "1/1 [==============================] - 0s 25ms/step\n"
          ]
        },
        {
          "output_type": "stream",
          "name": "stderr",
          "text": [
            "\r 68%|██████▊   | 273/400 [00:20<00:08, 15.24it/s]"
          ]
        },
        {
          "output_type": "stream",
          "name": "stdout",
          "text": [
            "1/1 [==============================] - 0s 27ms/step\n",
            "1/1 [==============================] - 0s 30ms/step\n"
          ]
        },
        {
          "output_type": "stream",
          "name": "stderr",
          "text": [
            "\r 69%|██████▉   | 275/400 [00:20<00:08, 14.16it/s]"
          ]
        },
        {
          "output_type": "stream",
          "name": "stdout",
          "text": [
            "1/1 [==============================] - 0s 27ms/step\n",
            "1/1 [==============================] - 0s 29ms/step\n"
          ]
        },
        {
          "output_type": "stream",
          "name": "stderr",
          "text": [
            "\r 69%|██████▉   | 277/400 [00:20<00:09, 13.34it/s]"
          ]
        },
        {
          "output_type": "stream",
          "name": "stdout",
          "text": [
            "1/1 [==============================] - 0s 28ms/step\n",
            "1/1 [==============================] - 0s 26ms/step\n"
          ]
        },
        {
          "output_type": "stream",
          "name": "stderr",
          "text": [
            "\r 70%|██████▉   | 279/400 [00:21<00:08, 13.79it/s]"
          ]
        },
        {
          "output_type": "stream",
          "name": "stdout",
          "text": [
            "1/1 [==============================] - 0s 27ms/step\n",
            "1/1 [==============================] - 0s 29ms/step\n"
          ]
        },
        {
          "output_type": "stream",
          "name": "stderr",
          "text": [
            "\r 70%|███████   | 281/400 [00:21<00:09, 13.17it/s]"
          ]
        },
        {
          "output_type": "stream",
          "name": "stdout",
          "text": [
            "1/1 [==============================] - 0s 28ms/step\n",
            "1/1 [==============================] - 0s 27ms/step\n"
          ]
        },
        {
          "output_type": "stream",
          "name": "stderr",
          "text": [
            "\r 71%|███████   | 283/400 [00:21<00:08, 13.76it/s]"
          ]
        },
        {
          "output_type": "stream",
          "name": "stdout",
          "text": [
            "1/1 [==============================] - 0s 27ms/step\n",
            "1/1 [==============================] - 0s 26ms/step\n"
          ]
        },
        {
          "output_type": "stream",
          "name": "stderr",
          "text": [
            "\r 71%|███████▏  | 285/400 [00:21<00:08, 14.21it/s]"
          ]
        },
        {
          "output_type": "stream",
          "name": "stdout",
          "text": [
            "1/1 [==============================] - 0s 27ms/step\n",
            "1/1 [==============================] - 0s 26ms/step\n"
          ]
        },
        {
          "output_type": "stream",
          "name": "stderr",
          "text": [
            "\r 72%|███████▏  | 287/400 [00:21<00:07, 14.73it/s]"
          ]
        },
        {
          "output_type": "stream",
          "name": "stdout",
          "text": [
            "1/1 [==============================] - 0s 24ms/step\n",
            "1/1 [==============================] - 0s 27ms/step\n"
          ]
        },
        {
          "output_type": "stream",
          "name": "stderr",
          "text": [
            "\r 72%|███████▏  | 289/400 [00:21<00:07, 14.97it/s]"
          ]
        },
        {
          "output_type": "stream",
          "name": "stdout",
          "text": [
            "1/1 [==============================] - 0s 28ms/step\n",
            "1/1 [==============================] - 0s 27ms/step\n"
          ]
        },
        {
          "output_type": "stream",
          "name": "stderr",
          "text": [
            "\r 73%|███████▎  | 291/400 [00:21<00:07, 15.20it/s]"
          ]
        },
        {
          "output_type": "stream",
          "name": "stdout",
          "text": [
            "1/1 [==============================] - 0s 28ms/step\n",
            "1/1 [==============================] - 0s 27ms/step\n"
          ]
        },
        {
          "output_type": "stream",
          "name": "stderr",
          "text": [
            "\r 73%|███████▎  | 293/400 [00:21<00:07, 15.20it/s]"
          ]
        },
        {
          "output_type": "stream",
          "name": "stdout",
          "text": [
            "1/1 [==============================] - 0s 25ms/step\n",
            "1/1 [==============================] - 0s 26ms/step\n"
          ]
        },
        {
          "output_type": "stream",
          "name": "stderr",
          "text": [
            "\r 74%|███████▍  | 295/400 [00:22<00:06, 15.49it/s]"
          ]
        },
        {
          "output_type": "stream",
          "name": "stdout",
          "text": [
            "1/1 [==============================] - 0s 30ms/step\n",
            "1/1 [==============================] - 0s 28ms/step\n"
          ]
        },
        {
          "output_type": "stream",
          "name": "stderr",
          "text": [
            "\r 74%|███████▍  | 297/400 [00:22<00:07, 14.00it/s]"
          ]
        },
        {
          "output_type": "stream",
          "name": "stdout",
          "text": [
            "1/1 [==============================] - 0s 26ms/step\n",
            "1/1 [==============================] - 0s 25ms/step\n"
          ]
        },
        {
          "output_type": "stream",
          "name": "stderr",
          "text": [
            "\r 75%|███████▍  | 299/400 [00:22<00:07, 14.31it/s]"
          ]
        },
        {
          "output_type": "stream",
          "name": "stdout",
          "text": [
            "1/1 [==============================] - 0s 26ms/step\n",
            "1/1 [==============================] - 0s 25ms/step\n"
          ]
        },
        {
          "output_type": "stream",
          "name": "stderr",
          "text": [
            "\r 75%|███████▌  | 301/400 [00:22<00:06, 14.61it/s]"
          ]
        },
        {
          "output_type": "stream",
          "name": "stdout",
          "text": [
            "1/1 [==============================] - 0s 27ms/step\n",
            "1/1 [==============================] - 0s 25ms/step\n"
          ]
        },
        {
          "output_type": "stream",
          "name": "stderr",
          "text": [
            "\r 76%|███████▌  | 303/400 [00:22<00:06, 15.04it/s]"
          ]
        },
        {
          "output_type": "stream",
          "name": "stdout",
          "text": [
            "1/1 [==============================] - 0s 27ms/step\n",
            "1/1 [==============================] - 0s 25ms/step\n"
          ]
        },
        {
          "output_type": "stream",
          "name": "stderr",
          "text": [
            "\r 76%|███████▋  | 305/400 [00:22<00:06, 15.38it/s]"
          ]
        },
        {
          "output_type": "stream",
          "name": "stdout",
          "text": [
            "1/1 [==============================] - 0s 27ms/step\n",
            "1/1 [==============================] - 0s 28ms/step\n"
          ]
        },
        {
          "output_type": "stream",
          "name": "stderr",
          "text": [
            "\r 77%|███████▋  | 307/400 [00:22<00:06, 14.12it/s]"
          ]
        },
        {
          "output_type": "stream",
          "name": "stdout",
          "text": [
            "1/1 [==============================] - 0s 28ms/step\n",
            "1/1 [==============================] - 0s 25ms/step\n"
          ]
        },
        {
          "output_type": "stream",
          "name": "stderr",
          "text": [
            "\r 77%|███████▋  | 309/400 [00:23<00:06, 14.47it/s]"
          ]
        },
        {
          "output_type": "stream",
          "name": "stdout",
          "text": [
            "1/1 [==============================] - 0s 29ms/step\n",
            "1/1 [==============================] - 0s 28ms/step\n"
          ]
        },
        {
          "output_type": "stream",
          "name": "stderr",
          "text": [
            "\r 78%|███████▊  | 311/400 [00:23<00:06, 13.36it/s]"
          ]
        },
        {
          "output_type": "stream",
          "name": "stdout",
          "text": [
            "1/1 [==============================] - 0s 27ms/step\n",
            "1/1 [==============================] - 0s 26ms/step\n"
          ]
        },
        {
          "output_type": "stream",
          "name": "stderr",
          "text": [
            "\r 78%|███████▊  | 313/400 [00:23<00:06, 13.93it/s]"
          ]
        },
        {
          "output_type": "stream",
          "name": "stdout",
          "text": [
            "1/1 [==============================] - 0s 34ms/step\n",
            "1/1 [==============================] - 0s 26ms/step\n"
          ]
        },
        {
          "output_type": "stream",
          "name": "stderr",
          "text": [
            "\r 79%|███████▉  | 315/400 [00:23<00:06, 14.14it/s]"
          ]
        },
        {
          "output_type": "stream",
          "name": "stdout",
          "text": [
            "1/1 [==============================] - 0s 28ms/step\n",
            "1/1 [==============================] - 0s 25ms/step\n"
          ]
        },
        {
          "output_type": "stream",
          "name": "stderr",
          "text": [
            "\r 79%|███████▉  | 317/400 [00:23<00:05, 14.79it/s]"
          ]
        },
        {
          "output_type": "stream",
          "name": "stdout",
          "text": [
            "1/1 [==============================] - 0s 25ms/step\n",
            "1/1 [==============================] - 0s 27ms/step\n"
          ]
        },
        {
          "output_type": "stream",
          "name": "stderr",
          "text": [
            "\r 80%|███████▉  | 319/400 [00:23<00:05, 13.84it/s]"
          ]
        },
        {
          "output_type": "stream",
          "name": "stdout",
          "text": [
            "1/1 [==============================] - 0s 28ms/step\n",
            "1/1 [==============================] - 0s 27ms/step\n"
          ]
        },
        {
          "output_type": "stream",
          "name": "stderr",
          "text": [
            "\r 80%|████████  | 321/400 [00:23<00:05, 14.11it/s]"
          ]
        },
        {
          "output_type": "stream",
          "name": "stdout",
          "text": [
            "1/1 [==============================] - 0s 27ms/step\n",
            "1/1 [==============================] - 0s 26ms/step\n"
          ]
        },
        {
          "output_type": "stream",
          "name": "stderr",
          "text": [
            "\r 81%|████████  | 323/400 [00:24<00:05, 14.60it/s]"
          ]
        },
        {
          "output_type": "stream",
          "name": "stdout",
          "text": [
            "1/1 [==============================] - 0s 25ms/step\n",
            "1/1 [==============================] - 0s 28ms/step\n"
          ]
        },
        {
          "output_type": "stream",
          "name": "stderr",
          "text": [
            "\r 81%|████████▏ | 325/400 [00:24<00:05, 14.81it/s]"
          ]
        },
        {
          "output_type": "stream",
          "name": "stdout",
          "text": [
            "1/1 [==============================] - 0s 30ms/step\n",
            "1/1 [==============================] - 0s 27ms/step\n"
          ]
        },
        {
          "output_type": "stream",
          "name": "stderr",
          "text": [
            "\r 82%|████████▏ | 327/400 [00:24<00:04, 14.92it/s]"
          ]
        },
        {
          "output_type": "stream",
          "name": "stdout",
          "text": [
            "1/1 [==============================] - 0s 26ms/step\n",
            "1/1 [==============================] - 0s 28ms/step\n"
          ]
        },
        {
          "output_type": "stream",
          "name": "stderr",
          "text": [
            "\r 82%|████████▏ | 329/400 [00:24<00:04, 15.06it/s]"
          ]
        },
        {
          "output_type": "stream",
          "name": "stdout",
          "text": [
            "1/1 [==============================] - 0s 28ms/step\n",
            "1/1 [==============================] - 0s 25ms/step\n"
          ]
        },
        {
          "output_type": "stream",
          "name": "stderr",
          "text": [
            "\r 83%|████████▎ | 331/400 [00:24<00:04, 15.14it/s]"
          ]
        },
        {
          "output_type": "stream",
          "name": "stdout",
          "text": [
            "1/1 [==============================] - 0s 26ms/step\n",
            "1/1 [==============================] - 0s 24ms/step\n"
          ]
        },
        {
          "output_type": "stream",
          "name": "stderr",
          "text": [
            "\r 83%|████████▎ | 333/400 [00:24<00:04, 14.12it/s]"
          ]
        },
        {
          "output_type": "stream",
          "name": "stdout",
          "text": [
            "1/1 [==============================] - 0s 28ms/step\n",
            "1/1 [==============================] - 0s 26ms/step\n"
          ]
        },
        {
          "output_type": "stream",
          "name": "stderr",
          "text": [
            "\r 84%|████████▍ | 335/400 [00:24<00:04, 14.36it/s]"
          ]
        },
        {
          "output_type": "stream",
          "name": "stdout",
          "text": [
            "1/1 [==============================] - 0s 27ms/step\n",
            "1/1 [==============================] - 0s 27ms/step\n"
          ]
        },
        {
          "output_type": "stream",
          "name": "stderr",
          "text": [
            "\r 84%|████████▍ | 337/400 [00:24<00:04, 14.51it/s]"
          ]
        },
        {
          "output_type": "stream",
          "name": "stdout",
          "text": [
            "1/1 [==============================] - 0s 27ms/step\n",
            "1/1 [==============================] - 0s 27ms/step\n"
          ]
        },
        {
          "output_type": "stream",
          "name": "stderr",
          "text": [
            "\r 85%|████████▍ | 339/400 [00:25<00:04, 14.77it/s]"
          ]
        },
        {
          "output_type": "stream",
          "name": "stdout",
          "text": [
            "1/1 [==============================] - 0s 27ms/step\n",
            "1/1 [==============================] - 0s 28ms/step\n"
          ]
        },
        {
          "output_type": "stream",
          "name": "stderr",
          "text": [
            "\r 85%|████████▌ | 341/400 [00:25<00:04, 13.67it/s]"
          ]
        },
        {
          "output_type": "stream",
          "name": "stdout",
          "text": [
            "1/1 [==============================] - 0s 28ms/step\n",
            "1/1 [==============================] - 0s 26ms/step\n"
          ]
        },
        {
          "output_type": "stream",
          "name": "stderr",
          "text": [
            "\r 86%|████████▌ | 343/400 [00:25<00:04, 14.06it/s]"
          ]
        },
        {
          "output_type": "stream",
          "name": "stdout",
          "text": [
            "1/1 [==============================] - 0s 28ms/step\n",
            "1/1 [==============================] - 0s 27ms/step\n"
          ]
        },
        {
          "output_type": "stream",
          "name": "stderr",
          "text": [
            "\r 86%|████████▋ | 345/400 [00:25<00:03, 14.36it/s]"
          ]
        },
        {
          "output_type": "stream",
          "name": "stdout",
          "text": [
            "1/1 [==============================] - 0s 26ms/step\n",
            "1/1 [==============================] - 0s 24ms/step\n"
          ]
        },
        {
          "output_type": "stream",
          "name": "stderr",
          "text": [
            "\r 87%|████████▋ | 347/400 [00:25<00:03, 14.85it/s]"
          ]
        },
        {
          "output_type": "stream",
          "name": "stdout",
          "text": [
            "1/1 [==============================] - 0s 30ms/step\n",
            "1/1 [==============================] - 0s 29ms/step\n"
          ]
        },
        {
          "output_type": "stream",
          "name": "stderr",
          "text": [
            "\r 87%|████████▋ | 349/400 [00:25<00:03, 12.84it/s]"
          ]
        },
        {
          "output_type": "stream",
          "name": "stdout",
          "text": [
            "1/1 [==============================] - 0s 29ms/step\n",
            "1/1 [==============================] - 0s 28ms/step\n"
          ]
        },
        {
          "output_type": "stream",
          "name": "stderr",
          "text": [
            "\r 88%|████████▊ | 351/400 [00:26<00:03, 13.25it/s]"
          ]
        },
        {
          "output_type": "stream",
          "name": "stdout",
          "text": [
            "1/1 [==============================] - 0s 30ms/step\n",
            "1/1 [==============================] - 0s 32ms/step\n"
          ]
        },
        {
          "output_type": "stream",
          "name": "stderr",
          "text": [
            "\r 88%|████████▊ | 353/400 [00:26<00:03, 12.56it/s]"
          ]
        },
        {
          "output_type": "stream",
          "name": "stdout",
          "text": [
            "1/1 [==============================] - 0s 31ms/step\n",
            "1/1 [==============================] - 0s 28ms/step\n"
          ]
        },
        {
          "output_type": "stream",
          "name": "stderr",
          "text": [
            "\r 89%|████████▉ | 355/400 [00:26<00:03, 12.84it/s]"
          ]
        },
        {
          "output_type": "stream",
          "name": "stdout",
          "text": [
            "1/1 [==============================] - 0s 31ms/step\n",
            "1/1 [==============================] - 0s 33ms/step\n"
          ]
        },
        {
          "output_type": "stream",
          "name": "stderr",
          "text": [
            "\r 89%|████████▉ | 357/400 [00:26<00:03, 13.32it/s]"
          ]
        },
        {
          "output_type": "stream",
          "name": "stdout",
          "text": [
            "1/1 [==============================] - 0s 26ms/step\n",
            "1/1 [==============================] - 0s 27ms/step\n"
          ]
        },
        {
          "output_type": "stream",
          "name": "stderr",
          "text": [
            "\r 90%|████████▉ | 359/400 [00:26<00:02, 14.07it/s]"
          ]
        },
        {
          "output_type": "stream",
          "name": "stdout",
          "text": [
            "1/1 [==============================] - 0s 25ms/step\n",
            "1/1 [==============================] - 0s 26ms/step\n"
          ]
        },
        {
          "output_type": "stream",
          "name": "stderr",
          "text": [
            "\r 90%|█████████ | 361/400 [00:26<00:02, 14.41it/s]"
          ]
        },
        {
          "output_type": "stream",
          "name": "stdout",
          "text": [
            "1/1 [==============================] - 0s 28ms/step\n",
            "1/1 [==============================] - 0s 27ms/step\n"
          ]
        },
        {
          "output_type": "stream",
          "name": "stderr",
          "text": [
            "\r 91%|█████████ | 363/400 [00:26<00:02, 14.59it/s]"
          ]
        },
        {
          "output_type": "stream",
          "name": "stdout",
          "text": [
            "1/1 [==============================] - 0s 29ms/step\n",
            "1/1 [==============================] - 0s 26ms/step\n"
          ]
        },
        {
          "output_type": "stream",
          "name": "stderr",
          "text": [
            "\r 91%|█████████▏| 365/400 [00:27<00:02, 14.86it/s]"
          ]
        },
        {
          "output_type": "stream",
          "name": "stdout",
          "text": [
            "1/1 [==============================] - 0s 27ms/step\n",
            "1/1 [==============================] - 0s 30ms/step\n"
          ]
        },
        {
          "output_type": "stream",
          "name": "stderr",
          "text": [
            "\r 92%|█████████▏| 367/400 [00:27<00:02, 13.95it/s]"
          ]
        },
        {
          "output_type": "stream",
          "name": "stdout",
          "text": [
            "1/1 [==============================] - 0s 30ms/step\n",
            "1/1 [==============================] - 0s 26ms/step\n"
          ]
        },
        {
          "output_type": "stream",
          "name": "stderr",
          "text": [
            "\r 92%|█████████▏| 369/400 [00:27<00:02, 14.34it/s]"
          ]
        },
        {
          "output_type": "stream",
          "name": "stdout",
          "text": [
            "1/1 [==============================] - 0s 26ms/step\n",
            "1/1 [==============================] - 0s 26ms/step\n"
          ]
        },
        {
          "output_type": "stream",
          "name": "stderr",
          "text": [
            "\r 93%|█████████▎| 371/400 [00:27<00:01, 14.69it/s]"
          ]
        },
        {
          "output_type": "stream",
          "name": "stdout",
          "text": [
            "1/1 [==============================] - 0s 33ms/step\n",
            "1/1 [==============================] - 0s 24ms/step\n"
          ]
        },
        {
          "output_type": "stream",
          "name": "stderr",
          "text": [
            "\r 93%|█████████▎| 373/400 [00:27<00:01, 14.93it/s]"
          ]
        },
        {
          "output_type": "stream",
          "name": "stdout",
          "text": [
            "1/1 [==============================] - 0s 26ms/step\n",
            "1/1 [==============================] - 0s 25ms/step\n"
          ]
        },
        {
          "output_type": "stream",
          "name": "stderr",
          "text": [
            "\r 94%|█████████▍| 375/400 [00:27<00:01, 15.32it/s]"
          ]
        },
        {
          "output_type": "stream",
          "name": "stdout",
          "text": [
            "1/1 [==============================] - 0s 25ms/step\n",
            "1/1 [==============================] - 0s 25ms/step\n"
          ]
        },
        {
          "output_type": "stream",
          "name": "stderr",
          "text": [
            "\r 94%|█████████▍| 377/400 [00:27<00:01, 15.70it/s]"
          ]
        },
        {
          "output_type": "stream",
          "name": "stdout",
          "text": [
            "1/1 [==============================] - 0s 27ms/step\n",
            "1/1 [==============================] - 0s 27ms/step\n"
          ]
        },
        {
          "output_type": "stream",
          "name": "stderr",
          "text": [
            "\r 95%|█████████▍| 379/400 [00:27<00:01, 14.29it/s]"
          ]
        },
        {
          "output_type": "stream",
          "name": "stdout",
          "text": [
            "1/1 [==============================] - 0s 29ms/step\n",
            "1/1 [==============================] - 0s 28ms/step\n"
          ]
        },
        {
          "output_type": "stream",
          "name": "stderr",
          "text": [
            "\r 95%|█████████▌| 381/400 [00:28<00:01, 13.25it/s]"
          ]
        },
        {
          "output_type": "stream",
          "name": "stdout",
          "text": [
            "1/1 [==============================] - 0s 28ms/step\n",
            "1/1 [==============================] - 0s 28ms/step\n"
          ]
        },
        {
          "output_type": "stream",
          "name": "stderr",
          "text": [
            "\r 96%|█████████▌| 383/400 [00:28<00:01, 13.76it/s]"
          ]
        },
        {
          "output_type": "stream",
          "name": "stdout",
          "text": [
            "1/1 [==============================] - 0s 28ms/step\n",
            "1/1 [==============================] - 0s 28ms/step\n"
          ]
        },
        {
          "output_type": "stream",
          "name": "stderr",
          "text": [
            "\r 96%|█████████▋| 385/400 [00:28<00:01, 13.12it/s]"
          ]
        },
        {
          "output_type": "stream",
          "name": "stdout",
          "text": [
            "1/1 [==============================] - 0s 34ms/step\n",
            "1/1 [==============================] - 0s 25ms/step\n"
          ]
        },
        {
          "output_type": "stream",
          "name": "stderr",
          "text": [
            "\r 97%|█████████▋| 387/400 [00:28<00:00, 13.65it/s]"
          ]
        },
        {
          "output_type": "stream",
          "name": "stdout",
          "text": [
            "1/1 [==============================] - 0s 26ms/step\n",
            "1/1 [==============================] - 0s 27ms/step\n"
          ]
        },
        {
          "output_type": "stream",
          "name": "stderr",
          "text": [
            "\r 97%|█████████▋| 389/400 [00:28<00:00, 13.11it/s]"
          ]
        },
        {
          "output_type": "stream",
          "name": "stdout",
          "text": [
            "1/1 [==============================] - 0s 26ms/step\n",
            "1/1 [==============================] - 0s 29ms/step\n"
          ]
        },
        {
          "output_type": "stream",
          "name": "stderr",
          "text": [
            "\r 98%|█████████▊| 391/400 [00:28<00:00, 13.68it/s]"
          ]
        },
        {
          "output_type": "stream",
          "name": "stdout",
          "text": [
            "1/1 [==============================] - 0s 26ms/step\n",
            "1/1 [==============================] - 0s 28ms/step\n"
          ]
        },
        {
          "output_type": "stream",
          "name": "stderr",
          "text": [
            "\r 98%|█████████▊| 393/400 [00:29<00:00, 14.31it/s]"
          ]
        },
        {
          "output_type": "stream",
          "name": "stdout",
          "text": [
            "1/1 [==============================] - 0s 29ms/step\n",
            "1/1 [==============================] - 0s 28ms/step\n"
          ]
        },
        {
          "output_type": "stream",
          "name": "stderr",
          "text": [
            "\r 99%|█████████▉| 395/400 [00:29<00:00, 14.77it/s]"
          ]
        },
        {
          "output_type": "stream",
          "name": "stdout",
          "text": [
            "1/1 [==============================] - 0s 25ms/step\n",
            "1/1 [==============================] - 0s 30ms/step\n"
          ]
        },
        {
          "output_type": "stream",
          "name": "stderr",
          "text": [
            "\r 99%|█████████▉| 397/400 [00:29<00:00, 14.95it/s]"
          ]
        },
        {
          "output_type": "stream",
          "name": "stdout",
          "text": [
            "1/1 [==============================] - 0s 27ms/step\n",
            "1/1 [==============================] - 0s 26ms/step\n"
          ]
        },
        {
          "output_type": "stream",
          "name": "stderr",
          "text": [
            "\r100%|█████████▉| 399/400 [00:29<00:00, 14.95it/s]"
          ]
        },
        {
          "output_type": "stream",
          "name": "stdout",
          "text": [
            "1/1 [==============================] - 0s 25ms/step\n"
          ]
        },
        {
          "output_type": "stream",
          "name": "stderr",
          "text": [
            "\r100%|██████████| 400/400 [00:29<00:00, 13.58it/s]\n"
          ]
        }
      ],
      "source": [
        "# モデルの読み込み\n",
        "model = tf.keras.models.load_model(modelsavepath)\n",
        " \n",
        "# テスト\n",
        "wavlist = glob(TEST_NOISE_PATH + \"/*.wav\")\n",
        "for wavfile in tqdm(wavlist):\n",
        "    # wav読込み\n",
        "    y, fs = librosa.load(wavfile, sr=RATE, mono=True, duration=RECORD_SECONDS)\n",
        " \n",
        "    # 0～1に正規化\n",
        "    k = 1 / np.max(np.abs(y)) # 元のスケールを保存しておく\n",
        "    y = y / np.max(np.abs(y))\n",
        "    y = (y / 2) + 0.5\n",
        " \n",
        "    # ノイズ除去\n",
        "    X = y.reshape([1, SIZE, 1])\n",
        "    noise_reduction_audio = model.predict(X)\n",
        "    noise_reduction_audio = noise_reduction_audio.reshape(SIZE)\n",
        " \n",
        "    # -1～1に正規化\n",
        "    noise_reduction_audio = (noise_reduction_audio - 0.5) * 2\n",
        "    noise_reduction_audio = noise_reduction_audio / k # 元のスケールに合わせる\n",
        " \n",
        "    # wav書き込み\n",
        "    base_name = os.path.basename(wavfile)\n",
        "    outfile = \"{}/{}\".format(RESULT_PATH, base_name)\n",
        "    sf.write(outfile, noise_reduction_audio, RATE)"
      ]
    },
    {
      "cell_type": "code",
      "execution_count": 14,
      "metadata": {
        "id": "6bzXWYSTGriY",
        "colab": {
          "base_uri": "https://localhost:8080/",
          "height": 336
        },
        "outputId": "21319e8e-e3cd-4e4d-c2ea-eef26fe5568c"
      },
      "outputs": [
        {
          "output_type": "execute_result",
          "data": {
            "text/plain": [
              "<IPython.lib.display.Audio object>"
            ],
            "text/html": [
              "\n",
              "                <audio  controls=\"controls\" >\n",
              "                    <source src=\"data:audio/wav;base64,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\" type=\"audio/wav\" />\n",
              "                    Your browser does not support the audio element.\n",
              "                </audio>\n",
              "              "
            ]
          },
          "metadata": {},
          "execution_count": 14
        },
        {
          "output_type": "display_data",
          "data": {
            "text/plain": [
              "<Figure size 432x288 with 1 Axes>"
            ],
            "image/png": "[encoded data removed]"
          },
          "metadata": {
            "needs_background": "light"
          }
        }
      ],
      "source": [
        "# テストデータを確認\n",
        "y, fs = librosa.load(\"TestData/7600.wav\", sr=RATE, mono=True)\n",
        "librosa.display.waveshow(y, sr=RATE)\n",
        "ipd.Audio(y, rate=RATE)"
      ]
    },
    {
      "cell_type": "code",
      "execution_count": 15,
      "metadata": {
        "id": "Q24i_242GtWi",
        "colab": {
          "base_uri": "https://localhost:8080/",
          "height": 339
        },
        "outputId": "b1ddf911-4bfe-4e4b-c06d-d533bc4e5f66"
      },
      "outputs": [
        {
          "output_type": "execute_result",
          "data": {
            "text/plain": [
              "<IPython.lib.display.Audio object>"
            ],
            "text/html": [
              "\n",
              "                <audio  controls=\"controls\" >\n",
              "                    <source src=\"data:audio/wav;base64,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\" type=\"audio/wav\" />\n",
              "                    Your browser does not support the audio element.\n",
              "                </audio>\n",
              "              "
            ]
          },
          "metadata": {},
          "execution_count": 15
        },
        {
          "output_type": "display_data",
          "data": {
            "text/plain": [
              "<Figure size 432x288 with 1 Axes>"
            ],
            "image/png": "[encoded data removed]"
          },
          "metadata": {
            "needs_background": "light"
          }
        }
      ],
      "source": [
        "# ノイズを付加したテストデータ\n",
        "y, fs = librosa.load(\"TestNoiseData/7600.wav\", sr=RATE, mono=True)\n",
        "librosa.display.waveshow(y, sr=RATE)\n",
        "ipd.Audio(y, rate=RATE)"
      ]
    },
    {
      "cell_type": "code",
      "execution_count": 16,
      "metadata": {
        "id": "v48I5EQSGvaU",
        "colab": {
          "base_uri": "https://localhost:8080/",
          "height": 336
        },
        "outputId": "45447e96-d231-4d80-a332-adce5083cfc2"
      },
      "outputs": [
        {
          "output_type": "execute_result",
          "data": {
            "text/plain": [
              "<IPython.lib.display.Audio object>"
            ],
            "text/html": [
              "\n",
              "                <audio  controls=\"controls\" >\n",
              "                    <source src=\"data:audio/wav;base64,UklGRiR9AABXQVZFZm10IBAAAAABAAEAgD4AAAB9AAACABAAZGF0YQB9AABLATgAgf2BAtP+xAFoAHL9uP7jAE4ACQEBAegABQHXAOkAxgDRANEAuwDpAPUA4QDbAMUAxgDXAOEA5AC+ANgA0ADjAPwA7wDqAMwA1ADEAMQAuADhALIAuADDAM4A1AC7ANEAwgDNANwApgDZAK0AmgCuAKMAmgCoALUAjgC3AKgAtwCSAK4AxgC+AK0AtgCvALsAvgDKAMUA0ADOANwA5gDGAOwAygDEANMAsgDFANEA2ADjAOcA2ACnAL4AlwCgAL0AnQCvALgAvQC6ALYApADCAIoArQC3ALwAygDaAN8AzADoANwA6gDXAMcA0QDGALUA1wCyAI8AtACvAJoAqQCnALMAxgDQANgA1wDmAOAA0ADMAMIAyQCyAJwAlQClAK0ApwDOALoAqwDjAIcAawCYAHMAgwCSAFsAgwCAAJUAvQC1AKAAngByAF4AaQBeAF0AYQBVAFwAcACHAJAAkgCQAJEAmgCmAMIApADBALoArwCrALAArwCyAKEAnwC8ALoA2wDcAMYA8ADnAAcBEAH8AOEA5wD4AOYAwgDnANkA0gD1AOAA1wDXAPAA5gDjANMA4ADDAMoAywC1AL4AvQDMAMUAtgCuAMIAtgC/AMoAygCaAMwA1ADHAMMAyQC8ALIAxQCNAHwAdACGAHgAXgBcAJAAXgBiAHEATwB4AIcAoQCnALwAxgC9ANcA0gDdAN8A6ADqAOQAvwDrALMApQDoALIA2QDJAOcAuwDyAPIA5ADaAOQA8wDNAOMA1QDJAL8AxgCdAKUAkACdAJYAjQCmAL8AjwBuAIAAkgCXAJIAsAB4AKQA0gCzAMkA3ADQANUA1ADNAL4AtwCwAKEAqACgAL8ApQCOAKgAggCWAK0AkwDGAMYAsAC6AK0ArQDcAMUAvQDXAMcA1wDiANEAxADRAM0AwQC1AL8AugC/AMkAtQDDAMYAwgC2ALsAtwCyALcAvACyALgAuADLAL8AqwDDAJ0AlQChAKQAiwCrALUAnQDSAKEApgC2ALYAzADHALAAtwCpAKkAsgCeALMApwC2ALsAvADSANkA4AD1APIA2gDKALsAzADRAMYA0QDOALYAxgC7AKkAtAB7AKgAsgDJAOEA3ADbANIA4gDFANUA3QDVAOwA4gDBANcAngCpAKAAmgC3AJoAzgC+ALYAugDFANUA4gDmAOQA5AD/APgA1QDmAMwAwgDUAM0ApgCwALsAsgDmANcAygCeAKEAwQDgAPEAFAENAfkA9QDsAPkA9QD6AP4A8ADrAAQB2gDVANQAsgC2AMoAvADLANEAxQDoAP4A8gDpAPMA2QAAAQsBEAEWARoBFAHwABAB6QDjAN8A3QDRAMkA2ADnAOkA4gDbAL0AvgC4AL0AvAC6AMMApwCyAJYAkQCYAI8AjgCXAJIAtACdAJ8AuACnANcA0gCkAL4AowCnAMwApwCwAMMAzADCAPgA5gDhAN8A3QDZAKEAywBkAGsAkgBbAIsAiAB5AKEAmAClAKcAnQCtALIApADMALYAnACdAJkAegCWAIgAnACVAIEAvACSANAAygDnAKUA2gDzALcA3ADCAK8A1QDLAMUA1wDfAOYADAH2ANoA0gC2AM4A3QDVANgA0AC1ANwAxwDFANQAtADSAMcAswDQAKEAoACzAI8AoACVAKcA1AC8AMMAzQDXAOkA6QDoANkA5ADmAPIA5ADqAOsA2gDRANQA3wDgAL4A4wDpAAABEAEOARAB2AAGAeEA1wDUANoAtwDHAOsA1wD4APAADgH6ACMBIwEFAQQB7wAGAeYA3ADkANEA9QABAfEA4wDGAOkA0wDTAOkAzgDcAOEA3wD8AOcA6QDhAOEA4QDYAP4A4AD6APIA0QDKAMcA2QDoAL0A3wDkANAACAHUAMIApwCeAIkApwCkAJoAvwCyALgA4gC0AKQAswCkALAAqACWAJIAmACcAK0AqwCsAKAArAC6ALUAwwDFALsAyQC4ALsAqwCjAK8AtgCeAK0ApQCLALsAkgChAJ0AngC2AKAArwCzAK4AyQC+AL0AxwC4ANQAuADNANoA5ADgAPUA8gDkAPYA3QDoAMsA1QDmAM0A6ADzANcA2QDjANQA3ADYAAAB6QAHARUB/ADfAOwA8gDcANwA2ADoAL4A+gDcAMsA0wDFALoAygDDAOIAzQDBAOQAzQDuAPAA2QDRAMsAtgC8AMwApAC8AMQAtAC/AMYA0gCpAOYA4wDyAO4A8QDrAPEA+AD4APYAtQDZAKUApQC3ALAAswCwAKgAxgDEALcAuwDGALwAxQDHAMEAxwDXAMwAxQDQAMcA2gDsAN0A2ADvANcA8wDqAOsAuwDQANIA0QDxAMEAswCQAJEAfgCSAJ4AhwC7ALoAuwDSAMUAygDkALYA1ADcAOMA/gAdAQkBAQEUAeEA6ADJAOEAxgCvAKkAywClAJ8AhwCYAHsAegCTAIEAigCRAJ0AlQC9ALgAsgCvAMEA0gDLAMMAywDiAOAA6QDyAO8A9gDcAOcA4QDXAOgAxAC4ALMAswCoAI4AkQCGAGoAfAChAHUAigCCAJwAngDLAMYAzQC6AOIA/QC9AMsAmQCXAKMAfwCcALMAugDTAMYAwwDTANQA4ADiAMUAuADBAK8AkgCoAGwAfAB8AG4AnACGAKAAjQCTAKMAuwC+AOwA9gDzAOsA+AD6APIA7wDOAMoAxQDUALQAuwC1ANEAxwCnAKYApQCkAK0AswCkAKwAlQCOAK4AkACeAI0AmACcAKUApACwALQAwgDfANIA6gDnAMcA0gC/AMQA4ADQANUA1QDTAOAA6wDXAOQA1QDCAMIApACdAIoAhACtAGgAtADFAM0A5wDFAMsAywDCANkA5wDMAOAA7gDdANkA/wDVAMkA2ADmANoA4wCrAKMAkQCaALoAfwCpAIMAhACkAHAAewCEAHUAlQCkAJwAzQDGALIAxACdAKcAxwC6AK4AwwCvAK8A3ACuAI8AfAB4ADkAagBrAEgAqwCNALQA1wC3ANwA0gCnANkA0QDpALwAxwDNAL4A4ADXAMwAzQDMANIA3ACpAMsAoQChAMkAzgDFAMYA0gDkAPkA1QDcAMcAtgDUAKQAvAC+AK4AvgDcALIArgCmAJIAqACPAHkAYgBIAGUAiQBxAJgAmQBuAKAAgwCSAMwAewC6ALIAowDDAKYApQCmAIgAmQClAJ0AsgDBAK8A5wDdAPMA8wDDANcAqQCjALUAmQCkAIMAfwCQAGUAgwCsAIEAywDYAJ4A2gCoAMUA1AC3AOkA0wDYAA0B5gDpAOkA0gDwAO4A9gAHAecA3ADKAOcA0wDCAMkAqQCvAK0ArwCuALcArgC8AK4AqwDOAMoAtQDUANUApADuAMIArQDOAKYArACwALcA0QDKAMcAlQCJAGoAfgBuAEwAagBdAIIAtwCRAGoAeABrAIAAnACmAIoAsAC0AGUAjwBeAGgAZABGAFsASwBdAIEAbQBrAKcAkwDEANEA9QDVABEBJAH+AP4A7gDXALcA2ACcAJEAbQCLAG4AaABwAIYARwBZABMAWgA/ADkApACGAG4AGADO/4b/pf/Z/6v/9v/L/5P/8//Z/wwAEgAIADwAQABlAE0AYwCWAJUAuwCZAMEAwQD/ALIA2QDSAM4AvgCeAKwAjwC9APIAHgG+ALwAmACjAFQAUADS/8P/6f/i/zEANQBdAHsAewBcALUAywATATABEAEFARUBEQH4ANsAfgBaAJL/yf9E/zX/PP8l/xD/KP87/5P/SP8n/1n/O/9t/1H/eP8+/03/UP9L/wD/b/9M/2f/3f+C/6b/gv+h/7H/sf/R/2//mv+I/5P/sv/B//H/IADL/wYAFwAEADAADAALAA0ASQCPAPoA+gDkADsB6AAmAU8BHgEjASkBHwEUAdgAqAChAFsASwAjAGkA8/+0/7T/sv/L/7L/Zv8p/0P/Q//w/uv+Jf86/1z/af9k/1T/XP9N/1D/Z//d/0sAEwEAAeIAuABaADwAuP/Q/8T/5/8AAAgATwBaAHsAgACSAFYAUwBuADoARgAMABEADwDu/8//EgCs/7//pP9M/5L/Yv92/2//N/9a/3P/Z//k/8H/6QCS/3z+NwCS/5T/rQOJAFoCvgFqAM0CaAAUAJf85v5N+037sP84+Vb+ef5x+8v+PP3K/r//ZP9x/nj/1//h/8j/6P8RAOT/+//P/+b/1f/L/5r/c/+q/33/rf+6/5v/3v9SADkADwCF/x7/Yv/0/tn+IP+P/sH+8/7O/vn+5v48/1//Of+O/1f/ev+y/4//sf+p/73/z/+z/7T/ov+p/yT/F/8z/6r+C/9o/wT/lP8IAL3/cwCEAFABQAHqASoCHwYZBLoCGAQyACAFn/uV/NQJEwc3/J72ngeZ+JsGdgd597sI7fxJAR8Ay/ve/UH/wf8Q/44AWv/+/+n/Gf/2/2gA7f/mAOYA5wDVAPgA4QCzAM0AhAB+AKwAZgBzAJYAewCLAMoA1QCpANcAOACY/50AEADf/f3/1v1B/ysBCPzpAcoAr/6M/rz+zf7q/pcAa/m2/FgBAAInBEf5uf3tBFUGhwC4/cL/QwJlAawBXP0b+YwByP2e/kn+YQBu/7n++/5Z/+n+A/9r/2/////I/3kANgCkABwBXwDO/zUAyP+U/7T/B//B/n7/U/9//5AADAHKAAkC6gFzAsQBXgEUASACI/+A/6gF1QHl//f46viNApb/SPtC9hP6Cv/s/ioAbv3L/z//Rv5ZA/n9ZQOuAaf1iALUAbEB0gAR+Dr/qfx/+13/Ef8DAuABQwEIAUgBegF6ARcDMALMAeUBfQP3AiYCuv8Z/woECgT8AecA7PqCCSD9+wXL/437Fg1VBCUE4e9eEK0FK/lnBy77qf63BVICyfix/kIDy/6b/O/+sP+j/x//gP+P/7D/cP/w/iz/cf+e/hb/vv6P/pj/Qv88/8j/XP/1/woATAARALsAbQCmAL0AsgBOAbAAJQHDAI0AuACDAHgAUgA2ADYA7v8CAPb/rP8bABIAHgA4AAQA7v/i/+L/+/8jAC8Ao/+l/07+rQDSAAr+LQM8/FH+XwEa+9UB6P5WARoBCP/+/678AwN5/yP+ngI9/3QANgD1ANoANP+jAWEAXAAFAV0A2AANAfkADAExATgBSQFlAYsBqgFMATsBPAHXAO8A2ABkAHMA2wBwAPH/iQCYARr/JgEeADL/sQF6ANcAcQBpAYIAugDLAEsAfgChABQBrgBoAEz+aQBnATkC4wREAvQB0ADvAJYAzP/hAAMApP8cAIX/A//s/vD+UP69/iP/3v77/hD/XP9//97/9f9rALn/hACGAG0AIgH0+mj+FwCAAvwBCveQBKcBMv/HAd7+NQGRAboIF/8c/Nv9IPvq/jYAoAF6Afj/SQAa/w3/nP91/yn+6v5p/+v+lQDe/xH/d/9K/wIA3f8yAI0AOgClAF4AKgD9/xsA5v/X/wwACwA8AFMAVwAAAD4ALQAtACYA6f/l/6H/4f9x/3j/hP8r/5D/X/+N/7X//f8pAFwAhACXAKwAowDBAI4AtwB8ALUAqQCXAJ8ABAHXAD0BDgHUAYIBHgRzBlsCVgITAgYAewK3Atf/if+A/6H/KP8s/2v/KP8t/2r/wv8SAEEAHgBQAAsAfgBWAGEAcgBoAJYAVwCLAGsAUABVADAAXwBXAEsAaABDAE8ANgA/AAwAz/+E/6r/I/86/yn//P4g/zv/if9c/5D/hv9//6b/xv/E/7P/xP9z/2b/kv99/6v/5P+m/6n/w//d//3/PgA/AO//cv9T/2//V//z/+L/CQAgAPT/MgA4ADAARgAPACYAPwBQAE0ANwAQACMA/v9AAGEAYgB0AIkAowCfAK8A0QDHAAQB4gDzAPEAoADTAIoAewB+AHsAaQBeAFQAlgApACEATQBOAJMAgACtAJAA0gDiAOMA2QD/AAgB8ADmAMoAxQDKAKwAqwChAIYAngCPAJMAmACLAK4AvQDbANcA2gDhAJYAvgClAHEAhACXADkAWwCIAFAAhgB/AIoAcQCsAL0AnADFALAAkQCpAIMAjQCEAE0AgAAUAA8AGADh/yAAOgCBAKQAtQCkAJYAiwChALYA0wCWAM4ApACXANQArACeAKsAkgB7ALcAegCYAKYAgQB+AIMAcgBrAGwAiQBoAFMAHgBZAOf/CQAkAAEARgBqAGoAkwC4ALQA5wC8AOgA2wDsAN0A2QDhAMkAygDGAKwApgCsAHcAfACQAHsAowCmAKYAnQC7AK4A1wCnAMUA3QC/APYA8QDkAMcA6wDBAMcA5gC6AMUA2gDGAOAA6ADNANIAzgDDALoA6AC9AMMA0QDRAOAA+gD/ANoA2ADXANkA8wD1AOMA2ACvAMYAoQCgALQAjwC/ALoAwwDzANoA4gCNALIAgABpAIIATgAtADwAYQBNAGgAcABiAG4AlgCcAKAAiQCXAJcAgAB7AIQAgwCcAKEArwC+AOkA8wAAAe8AzQDoAM4A3QDoAOMA1ADJAN8AuADjAOgAxgDcALcAuwDBALAAwQCsAL8AtgCoAMQAxgC6AOQAyQDFAOMAygDVANkAxgDbANgA6gDfAOYA4ACuAMYAnwCrAKQApACyAKEA0wDUAOkA7gDuAOsA4wDkANQA2ADOAM0AxgDFANEAzADDAOoAygC7AKcAswCQAJ8AvwCQAKUAugCvAMkA4QDSAPEA4ADsAPgABAEIARYBFAHfABcB8ADhAMsAxQCEAIoAdACEAG4AXgB7AHEAdQCDAHcAUwB6AHAAbgCZAHoAdACWAGoAnwC/ALYAtgDRAL0AyQC6AKcAxQDDALMA1wDbANIA+gDuAOcA/QDoAPMA+gDvAN0A6wDjAOYA7ADoAPUAwQCuAJ0AkQCYAHAAawBiAEQAkgBDAEkAPgA1AGoARQByAGQAPABEAE8AUgBQAEcAUwBZAHEAhwCIAJ4AuAC6AMwAwgC4AMEAowB6AIcAmQC+AIYA0wC8AKMA0gCXALAAoQCnALcArQDFANQAwQC/ANoAyQD2APkAxgDaAK4AtQCkAHUAjgB/AJkAnwCaAJMAigCsAHwAdwCJAKUAgwB7AGsAgAB8AGoAfwBkAIQAoAB/AKwAlwCIAKQAjQCSAJcApgCYAKUApQCyAKYAvQDJANUAygDqAO8A4gDrAOsA9QDGANIAtQCwAMkArwC6AK0ArAC0AJkArQCyAJoA4QDRAN0AAAHQAN8A4gDHANcAzQDhAOQA5ADhAOQA5AD2APUA8gDcAOwA8ADsABEBCwH2ABoB+gATAS0BAQEmAQIBCQHZAOYArwCzANIAuwDTAL0A1ADbAPAA+ADNANsAygDoAMkAtADCALgA4AD2ANkAvQDOALcAugDCAL4AugC9ALcAtADoALoAvADMALMA2ADUALIAzgCtALsArQC6ALAArADNAL4A6QDiAOEA7gDsAAEB2QDhANMAwwDTALAArQCgAL0AngC4AK4AnwCWAIQAgwCLAI0AhwCTAI4ApACsALQAxgCmAMQAwQC0ALoAsACwAK0AiACdAJAAlwCoAJMAkQCtAKQAtQCsAIcAqAB0AJIAdABwAIEAfADFAMMAxwDMAKMAugC+AL8AzACkANQAwwDVANkAtgDHAMMAwwDkAN8A1wDkANcA4QDaAOEA8ADwAPMACQEHAQ4B/wDyAOIA4gDDAMIApQCjALMAoQCyAJoAtQDCAJgArACNAHwAhgCHAJYAbgCwAKYAgwDDAFwAeQBkAHoAdwBhAI0AtQCpAKgAswCuAM4AzgDTAMQA0gDFANQAvwDHALYAgQCJAFoAYQBzADgAcABmAIgAjwB4AIYAiwB+AMoA0QCRAJwAigCKALIA2QC+ANQAwQC7AMMAnwDNAKEAkACyAJAAlgCSAJkAnQB/AMcAtwDLAPcA2ADTALwA0QC2AKAAtwCgAJcAqQCQALMArACuAOYAvADgAPUAwQDTAMIA0AC8ALoAyQC3AMsA8QDSAMwA4wC8ANwAxwDHAMQAtgDEALIAsgC1AKQAnwCkAIIAgwCAAI0AewCBAHsAeQB/AIYAjgByAK4ApQDJAMUAvgC7AKEAsACmALUAsACvAL8AqACoAMYAnwCeAMkAngDBAMoAxAC3AL8A4gDVAL8A5ADqAPoABwEcAfoA3QAGAcoAxwDZALYAvAC0AI4AygCLAJ8AegBzAHwAegC2ALoAxQDNANMAtgDnAMUA1ADUALoAvADLAOEA2ADGAKwApgDSAOAA7ADQAMsA6ADdAOkABwEFAUEBBgE5AUIB2QAaAdEA0QCyAMYAnwCRAIAAqABuAHIArgBhAK4AtADcAOIA5AD2ANoAygDoAOMA4wDQAPEA6wAWAS0BIgEVAREBGgERAQUB5gABAdcAzQDFALUAlgCjAJEAeQCBAHwAggCJAJwAoQCeAMoAuwDJAPUA3QAJAQgB5AD8AOgA9wD/AN0A9wDrAMsA7gC4ALcA0ACjANgA1ADgAPoA5wDcANgA2QC2AMwApADCAK8AoACwAMcAvACnANQAnwC7AM4A2QDqAAYB+QDuAPUA8wABAeAA3ADNAMEA0ADNALUAugC6AKAAqQC2AL0AqwDmAOMA6wAGAe8A9QAFAeQA/QDwANgA6QDLANkA1QDcAOIAzgC+ANgAsgC/AKwApgCyAKQAygDnANcA5wDpAL8A5gDjACIB6QAhASEB4AAQAeAA7ADcAM0A1ADUAN0A7ADsANkA7ADmAN8A6ADEAM0AwQDCALIAlQCdALUAsADUANgAtwCvAOIAoACeAKYAmgCeAJoAuwCeALAAqACrALcAvwC2AKgAowClAKgAqQCtAJcApgCWAJEAlgCLAL8AiQDNANsAzgDYAOcA7AAGAewA/wD8ANEAEAHdANoA4wDkANMA1QC3AN8AxwCWAK8AlgCPAKMAmACzAI8AgwDUAKEA1ADxAMIAzQDvAPcA4gDfAM0A4gC4AM4ArACRALUAzgCkAIMAvABwALQAtgCwAKMAuADTAMYAowDTANcAzgDyAOAA1QCZAL0AdQCPAHgAlQCYAIkAhAC8AHoAYQCCAHkAbgB1AIcAhACmALgAqACjAKkAqAC2AKQAvACgAK8ArACRAJMArgDGAL0ApQB7AGEAiQCPAI4AYQBMAGUAhwCOAKQAmQDKAKYAxwDjAMUA2QDdANcArwDDAMQAugC0AMMAqwCnALQAugCkAJ0AkgCpAJoAkQCzAKQAvwDEAL8AwwCwAMEAnwC0AKgAqwDJAMYA1QC6ALQAhAB/AKEAiwCzALAApQC4AKwAygC9ANAAvADDANIAswDpAOAA4gD9ANsA3wDyAPYA+AAMAQQB7wD2AMcA0gDSANgA1wC8AOYA1QD3APMA2ADJALwAzQDBAJ8ApACtAJ4AzAC1AJwAswCYAKQArwCjAMQApgCYAKUAkQCkAKYAvgC0AMMAxgC+ALwAxQDJANkArQDTAOEAwQDMANcA1wDaANUAvADEAKwAxQCyAKUArAC6AMcAzgDsAPMAAAHqAPkA7ADvAOsA4ADoAMQAwQDLAMEAwgDBALoAtAC+AMYAxgC8AMsA1QC8APwA0QC8AL4AtAC6AK0ArgCtAKUAwQDGALUA1wDRANoA1wDcANsABQHnAAIBGgHvAPMA6ADbAMUApgCsAK4AvgDZAM4AvADQAMUAqAC8ALoAqQDfAMsArQDSAIsApQCdAI4AqQCWALwA3QDXANgA4wDgAP0A/gDQAM0ArwC9AKkAmQCIAJIArQCsAMYAtQDHAM4AwwDKANAAvgDdAOwA3ADRAPwA5gDfAPcApAC2AMQAuADiANUAxgDJANkAzQDXAOYA0wDXAMUA2ADFAK4A0QDDAL4A3ACcANQAmgCIALoApAC4AL0ArACoAMcAzQDVAKwAugDKAKsA5gCkAI8AnwCSAKUAkgDNAKcA1QDhALsA0AC1AMQAxADBAMUAzgCrAM0AtQCpAKYAigCIAJAAkAC0AJ8AoQCpAK4AqQC4AMEAmADRALwAtADdALQApQC6AKsAjgCuAIEAmQCdAH8AiACZAJwAnwCnAKEAngCVAI8AlgCJAHgALwD4/+T/4P8PAG7/tP2M/HD9L/3t9Aj9ERCKCWPwz+pK/NEQmBv6CKfKquPTDRQlRAbj00T67RbrFJjh1RGsFOkNnB4uBBr9KeCuASMXqw2WD1L2ZPIN/NH6//vICoj5afrEBsrkOOVpBKMGzenf9rgY+guEDv3qbdWLJFwkyPgb/dYGoga6DG4MWv8t+vgDNAh2ATsE6gJG/6ABtQKIA3QB4/4a/xf+Sv4k/ab8HgARAZcAhAQTBIYE9AYKB9UGcghDCi0LwQuQC+ULYw2NDPkL/gqgCW0I4ATbAnj8DPj98yvwPe4T6d/iYd6a3rndO98v5B/nVun86BfpouxY8I/0dfbv9lL7/gCDB3cNPQ9wDwkQOBEvEGYMmgqFCqYIXgf3BtUDMAPFAiECUwFCAeMA5ACVAC4A+P0iAGMCiQC1AsICfAjNDqQVshurHlojVSjLK44tpi/vMhs06S4rKeAiEhuzHSUh0x6hKXA/L0alO/oLtsf2qPKaM5GIlKijwatIuQm3ZLiRw5PANLOxr6i2hLbLycLzADKSWdhcGF6JYd9bM089PskmQxJgC+oJlwWq/3P5rODKxQS8yMFDw8bAmb0Kww/UVuDW62z63v4Y/7gEHwfEDQoXkhfKD5wIhf8R+AT1tfT49MrvrOoC6Nru9fxCCGsO3Q1AC0YH3v8S+OH0S/GV63TnSuY/6UfqFOwj70DvU/AT8nP1dPmlAH0InhDvF28cMyGIIoEjFSXAJtAp/i5TMwU2MzpoPLQ8Lj0jNzQ1KDA8JLshtjL8RfZRfED0DyjTJrG1nkuKtIlqmjnNsvkp/3gElRD/GVIOOgEB89ntf/hkGJJFTHX/f69+NXgUYuI9ZQz51OGsNKKRoC+b259msqLD983l3Xzvnfhk/o/+pP9iCWcWOiJ2Lmw3QDd6KsoiMhz9CcXuG98703zJgMfpxT7MddL+2Xfj9upT8kD53/xAAAsC9QINA2YAYQBm/B33FO5I5afetdoY1gDU4tWV1lfbTN6O5G3pkOzZ8kP7vALrBzIK6wheCP0JjgphCAUItAvaDocUdRp/HXki8iG+I3smyScbJhIgFxo6EkEQsxbhGVcaASV7LGs/QlX1Zpl0YnJ3VJoaBtnavA2kI5zLtNTHMNwU0W7SWenX7Ermq9RZyKC0CKgTv+L9eS06RXhXCWUxaIBhJ0qTGqnw+tWvvQ6vjapgt3DRe+ad+zUL1w4LBM33Gu2f4hvfZ+U39BcMECekOg9Chz9xNvYhwQAf5fHO/70puizHuuH3+XoPwCNvMD03sTUDLyMgpg3H+jLl5tS6yEzESsUix4rKysylzSfS5Naw4Gfozu3A9HH5ef5zA6cDJ/6K+ajxYOv75UPjjONS5IfnqupK76j5xgdTFh0l7i1bM8Q4zT1lPRc3HzFDJ7gfTBjsEUYNdgvDDzQSlBZ8GD4buiIOMTk9QUBsVSZltWS8WmgxIupXwBmodpuXlN2UtrJm1fPYV+gEBQgOEhDnCcH5NfFd9wUIqhr1Od9UwlswUz9EOS9UFJztkcQQqXqN6oX2i9afCMl39RkdhjhgTGpRCEsRQHYvaxc/BMr1lvGP9cP7i/+W/qD3A+mJ2GTMbMbbw5rGmtMY7kML7ihURw1a5mUsZNJKmSz0CxDxxd4OyQO8TbGsr/Svs7RXwu3KP9JI2NXa49/m6Sb20gTtEbMZWBliEegJOwPN9/rvGex/64Xqgex2914Ctg5gGRYfsCC7H9cd/hd5D6kG0P9c/d39aAH0BmwKag4/EpIVpxftFyQZFBzSIaYnVCy0LWgtVC1PL5AvnjnxRmQ7kRZL4k6tJpahixeIUJZBsEHNX+jVAXAk0zjIReVAsi3WEZr+Qvpk/fkHMRUVHrIf6R/YHLsTBwU/9o3XTrJhoYKiF7TzzB7opg74MQxUmGzAcjlpXlRhL5oE7N9JwPa4Ob0OxvzSP+VX+jAGOxECFIMJIgHu89rtTO4Q9vMEUhMLIpQuvzThND0sYBif/3nlj82vu7+yW7AQuCzEk9D43GzoPe8k9ZX4MfeU96v5d/3e/dQA+QAAAIH/Ef3F+875sviJ+fr7Lf0k/28B5QH/AkkFIgceCd0JqQozDDoOlg+EEMkREROjE+4T7hPEFb8W4RRyFeEXZBbsE3MSNw9YELcSoRmFIEMwI0UYSX5Btx6+5a3A7aM+lfSSM6AXvd3Sles0CvQsUEYLTedCbiHxAkz3Ee057wL9NQgjEiQc+yEbI10dzQwE7dDI0KpNmFuVbqU2xHTprg0cMlRVl2ujcqhpWk6JJX/7Vt0XyHC7S7s/w1XOw97D8tAESg9lE0EMb/z29CHwhe+N9EYAKw01G/km/TC2NfwxCSbPDx/xiNX2vT+uN6dUpo6zYcYr3s7+5RWqKtM37zfnMYIg3Alf9DHj5tIsyd7GrMyn2Efn7fW+AZsKlwyqCoYLKQp4CW8M/AwjD/MOaQ9JDtwJzwOo+PDu8+Wm4f/kz+zC/MYJDReEJY8tpjDZL3IttSd2IIwaBBUpEhUQww+ND+YWJyGcKjM0sjAVJAwM+eyV1DLDH71wxnDWyOjc+ZsGzhJEIjIlTRiJBzXvguCq3TThm+nL99EKxh3nKF42H0DdN8kk4gb05i3L0LUprxm0dMWV3tL3ZxGnLoJGoE8NSMIvhBBG9FrlUNQQyxvLd9Hn3prt/QHOFf8dJxfFBbnzr+GS3ETi3+nD/o0RWibNRDxekmanYlhNDyWy/sfVJLaHltiEaoUDkp+mzcSv774TzTdyTQ1OtUaSMkIg3AjJ87zjl9CCx9DHeM4P1nvdAudY7T7yFPbs9JX2rfjM/ZMDRAlxEtUZAR3XG0cXGA0wATLzUeLz2M7WB9x65Sf1KgfvFJIiUyqqLuEvhytqJJscDRXgEfIPnhAcEV0RphErEvIRABM6FVwVjRapGLQhkCmCLiExGiXBCpv12OI/0BTC47kruBm0uLE1u7XPGeXW+J0DCQhiDqgYHSCbIz0olCqgLGsqWiuVLLYlnhcRAnXqTtA9uiiwBapfrN23U8mA5MsGBS0hQfROZlcIVIpIijVrH3QH4/IC5GjWPdAm0G3TS9kM4FPphfHU+yACjga/Ct4QOhpDISomqCp1K8Mp2SI7FCMCs/CC4SDRF8MnvCe6Y77vyNvXuu0ZA2MaCiiZKwoqbyG/Ein/kvBt38bN2sOzxN7Okdj/4zjtb/bi/5MIuw3XC9cKEAnFA+r9kvry+LH2aPVX9Zb2avs3/ZwDuAzLEr8XxBycIfsjaiSMIxIhDB6EHGUbHhqFFUEOsAaN/5P6pfTS8P/vK+6+8FHycfayAD4LkBl6KCI0Rzp4PrNA4Tz5NSkicP2n4m7QVMJNtg60Wr2jxl3SPd9V9HMH1hQ8HBUYXxNOFCIUCxVjF30ZbBvqGbob/R1qF0MMDf+S79LgstT/0t/U69xS6tD51QoJGs0pcjBUMYkrrR5iD8YBifXI6DHjX+JF47vp2vD592f8z/2b/FP3yvRU8p7vRfCg8YD0rflpAFcFpQgzDAsNEAs1B00CkvwO91bwqewG7Y7tf+5N7h7sTur+6O3kEd6X2uPXgtXP1JzWBt1T5Znwg/zRBw4QjhS4Fm4XvhdvF7QTPw8/C+YFIwH7+Lby9+3a5wHkdOP05VDuFPdq/94LwBrsJz4wQjM5NCoz5y04JqUdlhOeC7YCFvu+97X2Iftd/uAAbAepDrYTjxg1HDMfVSHbI6YnayofLiIr6SSFGOEHp/ej5pjZs83Tx8rDx79cwr/Mz9jQ5h7xj/fw/OkB/gj1DtMTuxgTG1Ibmh56IUciCx/WGfMQbAN29tPs9eRI3kjcU9sk4WDq3vaHBLEPRRTDEPgOgwxLCAEH7ANj/4f8hfqi+Nj4e/oE+ST4o/UT8+3xle/H7KzqEOku6R3uc/KH9639gQNDBZ8DygRPBUIEgv/6+gP2nPFX74zs/eio5n7ml+Uq5UjlzOW05t3nC+md6XDqH+qx63XvxvPN+Mn7UABgBCMKkgtCChcMmAzfDNMNVgxzC5YJwgmmCKMFpQWAAtkA9ATZB2MHuw1+Fe0c7CIZJq0mfye0JGAfUxlMEeALUQY9Akz/MgKgBfIJ0gzeDHYPhBCHESES0RJvEQcRjxGTEFkOYwnGA/D+7ffe7y7lmt3q1aPR6dCG0RPVRtei3ebkZu1b+jIF9goJEToYUB7RJN4oKyozKeImliITHlQXfg85B5v/ZfmA9Cnzd/Ax8RDxyu9I7y/vue0M7BjrC+pZ6oLqk+pD7UXwcvaf/4kHVQsIDQMNpQtDCfACqPzR9F/uVul25iboeOlx6/HtoPB381X1bPc8+Gz5gfkh+Qj5Cvlj+M74H/eP9PbyJvAr8Dnvru0c7bLtqO6/8fb0Nfib+47/pwLeAc8C5wR7BW4GHAaxBmYIqQr6C9UMSQ9aEHYRwhJ+EW4QyAwSDPQI7wI7A/oCdwS4BEEFuQfkCPkJUAxcDtgPehKvFAwVUhXBFXQVbRW2EUAL0AMD/Fj40fJP79LvQfGE87D57wAXCAUQQhQ2F7IYbBlNGe8YqxYpFWwWnhZ0F/IXQxfEFEANWgNH+DXuEeVH3OfYDNhC2vjgROmR8zD/UgvIE5sWBRiAE84NUQjC/Ejzl+0n5trhZOMR5fTqH/DD8r/2jfji+dD5wPvs/P37hvzR/VT/NgGY/rr86PkF9XrtheQE2t7SkNIr1TDcueJ37Q74CgKtDFQS8xOKE3kRnQ8fChkC4PvH9ATwKu8P7zXxdvEP8pXz/PMd9VL2cvcR+L76h/we/dz8UP44/m7+Gf71/bj8yvn99xr0gvEe7wLvgfCm9Lz7EwLeCIcP1RHfEXMQWg+nC/MKswi5Bq0GxwQvBXgHjAgcCf8JzgoWDBoN2gwcDQwNRA09DXcMuwvKC10LgQl1B40FngZvBa0EWwIeAvYC9wIsAykD2wTWBm4JFgoZC4QM3Q04DoUNng1fDjMNEwy6Ce4H8wQMAqf/Gv3n/H/8vP/YAzgHiQrADHsLkggFAgn6TvJX7dvoXOe46nLt2/O6/FIDiwrVDyoQUA1oC14KIwWOBPQCBQENAM/9ev7+/SD/VPtb+ev2H/KW7aLntuIv4Lnh6+PD6KHtjfTL/fQHGA9REBIPpQviB/YA+PcT8a/qWeYx5nzs7fLu+MUAeQiXC/EJKQpiCbYEw/5m+uv2ZfRJ9OPzvfPr8xfzpfKV8dTvMu9o73Pw/PX2++kDXgvHEScYwxp8G5gYlhRBDwwHXgH7/pv8rf5EAIb/bQH8/9f/KQD1/23/tP9B/2f+Zf6a/J39Xv4SADAB/gHYA2AEPwTPBQ0GdgX3BZcFzwUvBSsFMARJBHkEbgNSA3sD/wL/AtUCggKtAxMELAQoBDQFmAbQCQQKggrDC94MOw2tDO4MaQ1JDDAL5gkRCGAFKABN/Tz6hfh1+M33k/iA+Wn6Wf32/1wCzQNJBV4HgAZmBW8DBP5a+s70PvDd8K7w+fL89P71F/iA+dr8ZP51AGP/wP+oAKb/dQARAOz8Wvq29S3yA+/O6rbpcenN7IvwgPVO/GcBogjOD98RvxFwEV4QtwpEA7P76vQx8O/t0+2K8RH0Nvaf+cn7AP+6ABMCpgA6AIIAeQATAAIA0f/C/zX/0v6J/kf+oP6X/gT/3f7L/dH7n/xZ/en+HQGABKkHcAg0CiQNbg3eC1YI3wOx/Qz4jPS88nfyAPVY+Mb5k/ze/rIBIQGQALYBBAInAkgC1AGWAnADLAMVA98CUgOIAyEDFgOlAqUCQwL4AY4BcwFVAfoA0QDZAM0AhACsAIkA7/+pAEAAN/9d/hH+qv1J/Nz7/Pgi+Zn4hfgt++/94QCqBtsKjgtKDkUQyw/GDr8MHwu1BtEBuP2J+bL22/PI8lT1bfat9lf4CvlL+2b7ff2n/tb/ugC1AMcApgCQAJoA5P/Q/3//lP8z/y//5f6N/vv+iv6B//f/IAAeAJ0AewB1AH4AXwBkAIv/iP/z/6L/8f7l/ln+uP4X/6f+kP+T//z+kv/o/0EAgQDDAA4BDQE2AQwBRwFmASkBHAErAfEAMQHBALcA5gAWAUYBbwFWARkCewK0AskCjgEoAjsDlwICBZgFqgS/AXb8ifk381Xuvetu6rDsSO9g9Gj4Sfy4/wgEpwUHBKMFqAYzBnoF/QQxBBoDZwLPAZoAtQCB/pv8Zf2m+5j6qPsb/Bz8sf6SAPkA9AJGBCEFdQRmA2kCNwIXAv0BugD9/xEANAABAMD/LQAKADYAUgAAAFUAJAAFAB4A//8mAEUAeACcAJwA/AAoADQAigFVAPMBYAKw/q/7Fvdi8krvXO0q8P7wZPL79M/2xvhA+b/8lP+vAKAAjwC3ABwBGgEiARQBKgElAR8B/ADkAOMA6QATADQATP8f/7P/kf7G/t/+af/h/kH/qwA5AB8BwgF8AQECkwHBAQUCVwFkAUgB0ABJAd0AgQCaADYAOgAPAAwAw/+8/1//zv/LAMj/AwB8AaMABgHtAU4BoQIpA2cDxQF5/fr4gfVX8mLwbO5y7lTvn/OS9hT3Cfs9/ygCfwKbAoICagJMAVcBSwEVARUB3ADVAG0AUgBNANj/AwBy/6v/wP+U/xEA3/9cAHsAXgBkAGQATAB/AI0A/P9BANj/6/8IACP/5//BAIIAXwEOAvIBhgGSAeMBXwCdAKYAif8v//P+AP81/ygA+v/z/2EAKAB6ALsAmgCZAFsAWwBkAD8ASf/1/8H+Zv75/d38Hv1A+uP4YPVe9TH1L/Zu+qr9WQE+B/kK1wqJCoAKtwiNCTkHfwR3BMwBbwHO/18Awv+i/z4AFQCzAJcA3QApAd8A9QC/AAwBxwDHAOAAzADxAP0AHQHFABcBJwGeAMoAdwBkAFwAGgAkAEkAZgBuAJwAhwC8AMoAuACuAHsAVwBaAGsAuf/M/5D/p/9G/x//ff/W/x4Ai/85AB4AVABuADYAGQCH/+n/Vf+h/7L/b//v/7H/YQCOAHMAiQBlADwAcwB7AEYAKwBHAEYAYQBIAH4AVwBtAJ8ATQBGACsATABAAHAApwCWAMcA0ADoABoBJwE/ARUBDgEqAQ8BHgHdAMEAtQDiAKEA4ADfAKwA8wCpAJ0AdwBZAGwAgwCjAJwArACYAMkA8gDXANAAmgCwAI8AnQCaAJgArQCwAMYACAHqAPcA6QDSAAwB9wAzAfEAGgELASQBGAEMASIBrgAEAboA0wCTAKsAbgBhAHIApgBsAEcAgQARAFIAdQDG/+n/Vf9O/x//Lf4h/5T/mP8ZAIMADwE8AQEBRAEuAS4B9QBSAUoBywDfAFcARQBx/wUA0v6M/i//svz8+676Uvow+hL9hv/c/9kCJAXDBDoFBASNAMX9APx6+UX41Pht+lj8eP/8AY7/KQG+AQ0BHwJMAV8ATgDA/3z/Z/4H/ij+Ov5D/uj9ZP0A/e/9If5T/0X/4f+uAdMAYQGoAUcBTwEfAbABqwCPAK4A7/5N/jT+/v3a/tL/hv/w/1YAIQCOAK8AqwCsAJoAnQDBANQAmABtAIgAcwDh/7n/i/99/xj/G/4O/if+z/8N/2L/YAFaACkBhgE8AZgBJwERASkB2gDxAJYAUgDDAH4AnAC8AKYAhwC/ALgAvgBzAK4AvQDJANoA/ADQAJEA4gBWAIAAigCfAKAAvAAVAbQBqwHiAbYBfQG8AkoCqgH8AXEBdAAMAAAAUP+//+H/if8ZABcAagBWAJYAhgBxAMMAZABbAEAAVgApABwAgP9B/wf/Vf+Q/jL+of4A/tj9yP08/mD/EAAiAIkAVACTALMA+AD9AJMAagBSAFMAGQAaAMr/y/+z/5D/cP+c//7/vf9IAC8AZgCcAIEAWgD4/zEA5v/+/2//ev8h/y7/AQBR/5P/SAB1AIEAqwCsALIApwDRALIAtwCWAFoAhwBkABkAdABMAEkAowAvACoAwv/M/7H/zP+5/0b/yf8jAF4AmQCmAJgA5gDLAAcB8QAVATwBVgF7AUkBYgFGAVABMgFqAU8BXQErAf8AQgEeASoB4QCyAKwAzgCcAKsAtQC9AMQA2wDNAHkAoQBpAGUAXQBNAEUAVQCBAKkAjQCBAJ8AkgCrALoAqACJALYAoABbADkAEAAYAFP/KP8v/yv/x/4P/x7/Sv82ANP/2v9DAGgAhwC8AMcA9gDEAOsA+gDkAL4A8QDMAOMAmgCfAK8AnwCXAMsAswCkANIAWgCXAHQAeACRAIEAfgCzAHcAXwCy/5//k/8s/zr+NP4A/tj93f3Z/b3+2f4c/zL/Wv9EAEUAeQDvANwABwHxACkBKwEVAdsA7AD+ANQAtwCdAHkAUgA4ACEALgBOAHEAcABtAI0A8ADFAKgAywCaAMEA3QDNALcA5gDBANkAqwCnALQAtQDUALwAvgC/AOoA0gDgAMcAzQDrAO8AhgBWACgAJwDt/7n/nf+U//j/wv8jACMAigCfAKMAegCaAIEAugDJAKsAnQCvALAAiACpAI0ApACLAKQAiACCAHwAvwBpAGwAlwCHAKAApABaAFQANAA1AAQA0//J/9P/7v/l/zIAIABSAD8AhwB7AI8AcwCZAJ0A5ADgANgA0ADDAPIA1ADnANAA1ADjANcA4AD9AOMA7wClAJEAdABZAC4AFQD//yMANwASAGwAMgCXAK4AaQCSACEAeABPAEQAdAAbAGQAhgCeAAcB0QC0ALUAFgHqAOIA/gDrAA4BKgETARoBIQEyAfYAzADNALgAywCJAIIAWQCLAFkAkQCcAMwA9gDHAMwAmABDAfoA7ADgAMYA9gAMAfgAvgDBAJkA5ACTAMYAwQC4AMEA0wDSAM0A2AC0ALMAxQDHAJ0AwwCtAIgAoACjAFkAWQBSAF8AigBpAK4AjwCrANIAsgCwAKYAvACdAHkArQCWAJkAtgBeAGUAVwBfAOH//v+4/7n/2v+5/9P/2v9jAF4AmAB7AHEAewBqAIAAeABmAHcAgwCcAIgA3wDFAOgAAAHYAN0AwQDfAMkAvwDQALAAuwDJAL4A0QDEAKcApQCvAJIAugCAAIoAjQB/AJYAnABoAGUAPABEAD8AQQAYAPP//f8kAEcATgCSAIQAxwAXAf4A0wDDAPIArADDAMIAygDOAMoAygBXAHsAnAD7/wUAsf+d/4T/d/9+/4f/TgAkALsAnwCsABcBqAChALQAnADDAOoApQCwALUAmQC9AI8AjQCrAJcAwQDKAKMAqQDDAKcAxwDYAKYA8wDfANAApwCRAK0AUgAwABkA8f/A/9H/h/+r/8v/0v8FAAsAcwB6ALQApQC+AN0A0QDcAM4ApAC2ALMAdAB0ADwASABkAEcAlwCGANUA5wDjANkA1ADZAMwAvQCuALwAjgB7AIAAXABZAHUALQAZAC4ANQA5AEQAUABHAFcAhABSAFoAeQCgAIcAiwC0AJoA2gDKAPIAuAAAAQsBwQDcAK0ArwClAIYAnQCuALIA1ADSALUAvAD2AK8AugC+AMIAyQC8ANgAxADdAN0A5gDqAOcA7gDfAAAB8gD+ANkABwHpAPIA4wDgAMsA3wDrAMYA7wDMAOYAtADfAPAAyQDRALQApwCtAMUAsAC6ALwA6ADSANQA3AC+AOAA4ADuALcA5wDSAJEAowBLAFMAHAD2////CgBHACgAZABUAGkAmAB6AGwAkABVAGkAeABuAHIAgQBoAFQAQABDAFkAkwCdALcAqwC9AMQAvgDOALgAvgDNAOIAygDBANEAsgDpAOQArQC/AIgAkQCoALAAwQCNANUAvgCnANsAfwB3APX/HgDI/87/z//x//3//f8tAHAALQAmAGwANQCAAIEAaABPAFIAXQByADcAZACCALMAmAD5AN0ADwEkAR8BHgHVAP8AvADTALMAowCrAJkAqQDoAJoAkQClAKwAzADEANcA2wDoAOYAvgC+AJoAsACgALQAmQBtAJgAbACSAIIAlgBeAHkAkgB4AMoAigCXAKkAigCQAK4AuwCAAMkA0gBfAJYAOAA4AAQA7P/z/xIAXABOAKEAcgCuANwArwCpAKsArwDMAMwA+AC9APEA9wDfALwAqADHALQAngDKALUArgDnAMUApAClAOEAgAChAJkAWwBuAGEA6/8SAOX/BgBDAOL/WQB+AKsA2wDuAMMA3QD4AMkAxACPAKMAeACEANUAdwDEALsAqwC8ALcArwBWAIIALgBSAFkATwB8AGsAxwDdAOYA4QD+AAsBPAEuATABIgH5ABsB5gDaAOYAuwDuANgAzQDbAIYAowCQAJ0ArQB+ALYAqQDiAAIB6QDwAN8A3wD+APcA2gABAdkA1QDnALoAsAC7ALYAxwCkAJEAiABuAH8AgACRAJEApgCkALgAtADEALQAygCfALMAygCaAKMAiwCXAHoAWwBxAIAAnAChALMAmgDBAOYA2QDJANMA1wDSANkAtQDBALAAuwDCAK0AzgDSAMQA4QDaAMYA3wDiAL0AuwDHAKMAvADDAKEApgCtAL4AvgDMAMUAvwCYALUAmgCGAHIAfAA9AE0AZgBMAI4AhgCeAL0AlQCRAL4AmAC/ANoAzQDBAPYA5gDrAAUB0QDmALcAtwCzAKUAfwCPAGsAYwCDAHIAqACaAL0A7wCrALwAswDmANwA2wCuAOkAvQDRANwAvgDgAOMA6AC2AOgA2wD2ALgA4gDcAMkA2QDHANcA1wDQANkAxQDvAPwA4QDiAKUAmQCEAIgAjQBZAIAAegCVAMwAvQCrALcAswC6AMYAvwCcAKMApACJAIgAZQBsAF0AVwB/AHUAyQCJANQA4QDUAAgB5gDMAMoA0wChAMcAkQCEAJUAkgDFAKgA5wDkAN8AEAHsANcA6QDYANAA2ADTAOEAzQDLAMEAuADNAN8AtADJALoAuACwAOkAkwCcALgAsADiANwA5wC/AOYA9gD1AO4A6wDiALsA6QDOAKcAxgDCAJUApgBeAHUAUgBcAHcALgB5AF0AqQCvALYAoQCXAHoAgACNAJ8ApQDCAKkAsgD+AKEAwQCtAPcA1wDhAO8A+gARATwBAQHhAAkB8QAJAcMAvACuAFQAWgAIAPD/w/+//6z/rf8KANb/PgA1AH8AjgB8AHcAnQCeAMMA5gClAKsAoACZAKkAhwCyAKUApADGAKUArgCLAIAAWwBcAF0AMABcAG4AsACzAPoA8ADpAPcA8AD+APUABQHzAOsA5gDqAMYA4QDoANgA/wDmAM0A/gDOANoA7ADQAOkA0wDhAAkB2gDdAMoAzgDOAMUA4wC2ANwA1QB+AJ0ATQBzAF8AMgBbAEkAZgC3AIIAagCWAJYAmgC7AK4AsADCAMYAngDYAMEApADjAKgA2wD9APUA4QAlARsBxQDaAIQAkgCDADwAUABbAJcApgCnAIcAewC7AJYAgwCaAJAAkQCcALIApADHAM4A0QDaAN0A5ADmAPAA8ADoAOoAzgDUAMUA4wC+ANAA3QClAK0AoQCnAJwAewCYAKAAwgDHANcA0ADwAOIA/AACAeAA5wDRAOAA3QC7ANkAwQDSAAEBuwDMALoAxQDSAK4AvwDUAK0AqwCfAKAAoACmAKwAsADGALIAugCsAJ8AugC2ALgA3QDdALgA1wCoALIAxwCeAKgArgC9AJkAqwClAIMAegBrAHQAZABuAHIAUwBrAGQAbgBoAJMAtgCHAJgAtQCjANkA8QDGAOEAAQH+AA4BBgEJARABDwEJARMBAAHZAPMAyQDBAKYAxwCdAJkAtACcAHsAeACLAIEAmgCaAIYAfACBAJMAkgBeAJ0AjQCnALwAlQCoAJ4AlgCuALQArwCmALUAywDcANQA7wDXAOYA7ADYANcAowDJAKwAnwCsAKAAqACwALsAzgDFAL8A6ADaAPAA7gDNAOAA0wDdAPUAtAD3APYAtQDiAJYAkQCQAIYAdQB5AIoAzACnAJgAowDgALQAuAC4AKkAsgDBAMcAowDnANIAtACPAHIAkgCoAHQAqQCYAKcA3QDKALgA0ADJANQA3wDCAMwAvADKALwArAC4AKQAgwCoAFAAZQBoAFsAdwBbAH8AlwCWAKMAvgCXAMYA2ADEAMYAvwC9AI4AiwB8AJIAbAB+AIIAaACkALAArwCsAKEAngCVAJIAsACHAJ0AvgDHAMkAAQHfAOMADQHSAN8AvwD8ANQAyQDVAMUAywDOANwAzQDZANAAHAG8ABQBHQHrAOcA+ADYAMsA8wCLALIAugCoALwArADBAL0A0gDQAOAA4gDzAA0BvgDUAKUAnQCzAIEAngCkAIIA7gC2AJIAqwCGAIEAlgCXAHQAoQChAKkAlQCSAJgAKQBlABAAJwBXACEAfgBwAKAACAG+AKkAuACeALMAywDOALgA6wDGAJAAoABhAHUAdwBJAF4AVACNAK4ApgCmAHsAtwCkAKwArgCRAJAAnwCOAHsAjQBlAI0ASABVAHEAWQBFAGQAVwBbAIgAZgBrAH4AfACYAKAAqACwAK8AqQChAI0AjgCzAJ0AewC1AJUAvgDdALwArgC+AKQAxQDZANUA1ADvAOwACQEcAQIBCQH6AAgBBgH5ANIA4QDEALYAvQC/AKUAvACXALQAlgCZAKkAkQCgAKUAuwCuANsAywDYANAA0QDLANcA1wDRAMQAtgCnAKsAtQCTAI4AiwCIAIkAhgBuAIMAnwCGAKMAnwCjAL4AxgDSAOcA4ADxAPIACAHyAAcBBQH/APgA/QAMAf0AAAERAQAB8wAaAekA7wC3APkAwwCpAL4AuACpALQAtQC4AMMAxAC9AKsAowCnAKwAewCnAJ0AswDaALcAqACSAJkAmACSAJkAYQB0AJgAZQCfAIcAegCTAJMAgwCEAIcAlQCTAJ0AmAB/ALUAtgDDALoAsgCkAKEApwCIAK0AuACDAMwAuADYAOEA7ADgAPoAFQEFAfkACQHxAP0ADQEBAfwABwH2AO4A/wDiAOkA4wDbAPMA3wDRANwAuwC7AKsAygCoALMAuwDKANUA1ADDANUAwQDDAMwAygCnAKMAnwCcAKkAswDkAKsA4ADwAOQA7wAEAfoAwwDbAMEAuADYAMkA0ADOAM0AywC6ALYAzQC2AMIA0QC9APEAywC9ANEAyQDfANoArQDBAK8ArwC3AJcArQCmAMwAvADSAMkApQDFAKYAqQDOAKsAwQDcAMwA8QDqAOQA3wDGAMQA3wDmAMoAAAHmANIACwHaAL4AywCYAJIAtACyAMsA4ADFALMA2QC1AK0AvQCQAJEAmACkALQAsgDFAL0AywDXANsA0QDLAMMAwwDFAKcAtwCyAJoAzgCPAIkAnwB7AJgAiAB/AH4AaQB0AH8AbgCLAI4AjgCmALoAtwDLALoAzQDQAOIA3QDUAO4ArgDgANEAqQC8AI8AlQCTAKEAuACaAIoAfgBuAGEAdQBcAG4AZgB6AGEAqQCHAH8AsAB+AKQArwDNAKEA6QDbAL4A/wC4AMIAtwCuAK8AtADHALIA1QDSANUAzgDqANgA0gDUAK4AwwDBAMEAyQCwALgArQCoALAArQCvAJUAlgCRAI0AowCcAMQApgDQAOIAwgDKALcAywDLALwA5wC/AMQAGgHYAOYA8wDnAOkA/gDxAO4AEAEGAQEB9gDzAPkA/gDjAO8A2ADNAM0ApACfAK4ArwCzAJ8AjQCRAIMAmACBAHQAiQB5AHgAhwBGAEwAQQBEAEAANQBTAFcAVABuAHsAYQCdAI8AmACVAKQAsACBAIQAfACPAIsAhwC0AKEAxwD1ANIA2gDfAOgA8wD5AAEB6ADzAPoABwHyAAQB/AAAAewA7ADxAOQA4ADwANsAvQDYAIkAqACgAJYAqACaAJcA8QCnAIsAkwCmAJ8AsADUAJAA4ADcAPoAzgDxABEB8wD1AAkB6gDsAOwA4wDxAOcA3ADhAMsA0ADsAKEAoQCLAJgAkQCWAH4AlQCJAJgAlgCdAJcAiwCgAJYArQC4ANMAywDuANUAxADLAKsAvgCtAKUApgCaALYAvwCzAKwAwgCsANUA1ADyANUA7wABAdgA6gDoANMA7gDYANgA3wDZAPUA4ADXAN8A4wDoAPAAzADmANcAzgDKANAA0gDMANEAwwCnALUApgC2AKkAoACcAKsAngCSAK8AngC8AMUAqwCsAKQAtQCjAKUAnwClAMEAxADLAM4A1QDNAOwA5ADrALsAwwDHAK8ApQCSAIIAfAB6AHkAbACAAJ8AkwCXAJ8ApwCaAJ0ApACoAK4AqQCvAK4AwgCzAM4AqADHAOMA+AABARwBMAG6ANEAnACnAK0AhwCRAIgAnADYALcAmACjAIIAkwCLALcAtwChALAAhACPAJ8AmACXAIAAiwCSAKgAuwCuALMA2QDKAAsB/QDQAOgAygDdALgApACIAJEAhACLAHsAZQCJAI4AiQCeALAAqQDZANMA5wDcAOAA8ADfAPgA+QDvAO4A9gDuAOEA/QD6APAA8wDqAOsA+QD1APoA9wD2APYA1ADsANUAyQC+AL8ApwC3AK8AwgDQAL0A0wChAKAAywCtAKkAxwCeALQAuwCdALAAnwChAKUAlwCnAL0AtwC2AOoAuwD3ABEB8wD3AAIBAAHsABEB5ADmAPMA3wDsAN0A3wDJAMMArgCsAKUAkQCkAJwAkgC6AKgAtgC/ALcAxwC4AP4AxwC8AKcAqwCBAIsAjgB+AIoAiwCZAJIAvQC8AOMAxADuAP4A+gDxAP0ABwH/AAQBBgEEAQsBBAEIAQ8BFgEBARYBCwH4ABEB5ADnANkA3QDuANUA1ADkAOIA5AAWAe4A9gD5AOwA+QD+ABgB0wDaANIAsAC0ANMAfACSAJoAdwCoAJkAngC2AJkAdACoAKAAoQCaAJwAbACXALQAiQCKAJ4AtgDSANQA/wD6AAABAAHMANEAzQDTANEA0wDOAN0A/wDqAPUABwHuAOQAwgDTAL4A0QDYALoAvwCyAKAAuACNAKAAtAB1ALMAtQDFAM0A0wC7AMkA2ACrALwAmADpALgAsAC6AMMA2QDdAMIA0ADLALsA1ACsALgAtQDkAK4A9gD6AN8A+QDJAMwAvACtALoAxQC/ANoAsgCuALQAwwDHAK4ApACHAIIArgCOAIcAugCjALYA4wCPAIsArwCLALwAtwB8AIcAagCOAKQAVwCfAJAAxwDfAMwAyQB5AK0AegCQAJ0AhwCmAI4AygDQANIAzQDCALsAyQDdANUAswDUAMwA4AD4ANIAzQCzAL0ArgCsAK0AsgC/ALMAtADJALYAqwC0AKkAtwC/AMcA1ADcAOEA8gDgAO8AAQEUAf4AHAEfASIBJQE1ASkB3QDyAMoA1wDDANAAmQCjAKEApACsAIYAjQCZAJAAqACsAMEArgCTAKkAjQCsALAArwCwAMkAxwDfAL8A0ADpAMoA0ADSAMMA2QDiAMMAywC1ANQAyQDLAOAAwgDZAM4A+gDfAAEBEAHhAPEA5wDfABAB8QAOARUB6QABAeQA6gDSAMQA0ADKALsA6AC7ALYAuwC2ALIArADTAMwAxQDSAM4A2AD8APMA9wDgAOQA9wDzAN0AAgH5AOoA/gDjAOgA0gDdANAAswCpAJoAeQCYAKAAaADKAK8AigCgADUANQCAALQAugC+AM0AywDqAOYAtQC/AJ4AtgCcAJkAnQCHAIIAyQCCAH4AvACGALsAxADKAK0A1wDYAN0AzADYAOEA4QDrAOIA3QCtAMoAswC9AKwAkwCXAJoAywDJAMIAuwChAK0AqwDEALwAsADaALsA1QDsANUA0QDrAM4A7wD8AO8A8wACAQABxADTALIAmADTALoAsAC8AK4AtwC4ALoA0QCYAMsA3wDMAOwA5gDNALYAwgCCAIMArACDALcArQCkAMwAqQCuAMMAmgDXAOoA0wAQAfgA+gAIAe8A6gD4AO4A4gDoAOEA5gDhAOcA2gDQAOQAzgDYALcAxwDGALwAzgDaAKQAngCWAJMAiACCAJMAeQCeAKAAjgCsAKgAqQC9ALUApgC9ALwArQDfANUAtwDLALAAxgAEAb0A/wD1ANsAEAH2APMAtwDNAKsArgCjAL8AlwB3AIQAlgBkAG4AhAB3AKEApACaAKgAnwCrALoAowDFAK0AygC6ALUAsgCcAHsA0wDXAIEAcAAZAB4AeAC0AKkArwCdAMcApwC2AKMAvQC3ALwA6AC8AO8A3QD3ANcA/QDzAPoA6wDcAOAA0AC/AL0AxwC2AM0AvQC6ALUArQCvAKUAxACkAKYAtQCmAJ0ArQC0ALgApwDmAOIA2QDjAMwA3ADhANwA0gDfALUA0gDVAK4AtAC6AIYAbgCIAI4AfwCJAIkAngCBAHEAeABOAHEAdACIAIoAiwCZAIYAqwCWAKEApgCtAMMAxgCmAMMAvQCzAM0AugC4ALYArgCuAL4AvgDFAKwAswDBAK4AwQCsAL4AuwC3ANQAxwCvAMUAjQB/AIkAhwCAAIIAiACKAJoAlwCzAIgAnACZAKgAqACoAK4AtgCkANcA5AC4AOEAvQC8ALYAygDDALgAuADOALcAqQC3ALwAvgC4AMkAsAC8AMkAtwC6ALsAswDVANkA0QDhAOIA1QD6APcA4wD/AOMA4QDiANQA1wDjAOgA2QD2APAA5wDnANIA1ADkANQA0gDXANEAxgDZAM0AvwDFAMQArAC6AOMAvgDTANQAvQDOANkA7wDXAPIA4ADXAMoAzADcAMkArwDHALAAzADSALsArwDYAMoAxgDcALAAzgDXALsAzgDOALcA5ADGAOwA+ADcAPEA3wDwAPIAvgDzALsAxQDiANcArwCIAK0AdQCzAKEAqwCYAJ4A1AC2AM0A4QDkAN0A5wDvANUA2gDaAKwA2wC7AMYA6QDOAOIA4wC+ALwAqwCwALMAswDMALMA1wDYAMQA8ADCANEApACzAJwAkgC7AMcAuACuAKAAfgCLAJcAwQCOAM4A4QC7ANcAzgCnANQAqACVAKQAhwC3AKEArACDAJ4AsgCdAKMAygCCAH4AmgBjAIcAjQCXAK4AswC/AJgAqwCfAKEAmQCpAHwAegC7AHkAsgDBALIAkwDEAL8AvwC7ANUAzQC9AO4AygCuALsAtwCaAKMAlgCnAI8AeABdAHEASwBWAHoARABkAIYAggB0ALsAtQDSAMwAyQDmAM0A8AD5ANUAwQDbALYApwDZAOIAsACdAKQAjgCoAJgAqQCfAK0AtQClALQAmgCuAIMAtgCXAJIAmAB/AJYAsAC0AK0A0ACkANsAtwDiAPkA8wDpAP8A/AACAQcB/wAJAdIA7ADLAOQA0gDFANwAwwDgAOgA0ADCAMEAtQCpAJ4AwgCZALcAzAC8ANEA0QDbAMoA4QDZAOIA5wDqAPkA7gAAAR4BAAHyAPMA4ADQAPEAvwDcAM0AugC+AMsAqwCpAKgAuADHALcA3QCpALYAygDVALgA4gDbAMYA8QDgAN8A/wDiAPUADQH6APYADwH2ABQBAQHxAP0AzADkANMAvACvAK0AkwChAJkAtgCmALQAvQC3ANgA0ADiAMwA4wD4AAIB5wAHAQgB6gAQAeYA1QDaAPEAywDLANcA2QDcAMUAuwC+ALQAyQCjALgArgCoAMIAtQC7ALcA0wC0AOYA3AD/AAABEAEhAR4BDwEaARQB+QD+AN0A1wCrALsAjQCVAH8ApAB5AHEAZACAAF8AVwCDADgAlQCSAI8AqwCjAK0AwQDDANoA2wCPAKsAZQBtAHQAOgBUAFQAhgC2AJwAjwCgAJoA0QDXANkAuwDLANkAAQHXAAEB/ADDAOoAwgDEAOAAtQDVAMcAtgDhALQAwQDNALgA6ADcAMUA2ACyAL8AwwCaALgApwCAAMQAXgBlAIcAYQCEAH4AeQCIAIAAbACJAHMAbgByAIsAfACOAI8AeQCYAKsAqACjAMIAoACoALYAlwCrAKQAfACLAJUAngCVAJoAlgCoAM4AugDHAK8AsACcAK8AswCwAK0ApACcAJYAqQCcALIAsAC8AMsAzQDHAOMA0gC9ANMA4AC6AK0AugCQAKYAswC2AKYApQCtALUAvwDfANMA0wDiAMYAygDQAL4AzQDLAKMA0wC2ALgAvgCzAKsAnAC/AJAAwQDOAJ4AzgC2AK0ApwCsAJ4AowDgAKsA3ADqANMAzQDoAN0A9wDTAPcA9wDKABoB0QDEALwAowCcAKAAnADRAKkAkgCnAKUApQCTAL4AigC7ANUA2gDfAOAA7ADVAM4A3AD3APoA6gAUAQEBLQEqASsBMwERARwBHQENAekAJAHbANoA2QDKAMYAxwDNAMQA0wDOAM0A2ADHANMA4QC6ANEA1AC2AMYAwgC2AKQAtwCPAH8AqQCCAJ8AlQCRALQAnAC6AK0AvwDSAN8AtQDCAK8ApADaAI8ArgCpAK8AxQDCALUAuADLANEA1QDTAN8AzgDvANkAxADXAMIA5gDNAMMAxACeAK8AoACkAKYAmgCnAI4AjQDHAJkAkgCcAIkAnwCrAMIAsADfAOcA3wDaAOAA1ADLAOAAswDDALoAsgC9AKcApwCoAI0ArwDTALoA6QDvAOkA8ADzAPMAxADHAMoAsgDTAM4AygDNALYAqACkALYA3wClANUA3wDMAAgB9QDoAOEA2wDgANoA4gACAdoA0wDLAMYAwgDEALoAqQCvALcArADRALgApQChAJ4AoACsAKcAyQCnAKcAtQC7ANUAxAD5ALAA3wDvAM4A1QDYAOAAswC7AL4AuwC4ANEAowCJAKMAkAB6AIsAkAB4AKgApgDDALUAuwDDAJUAvQC3AJ0A0gDVAKUAxgCcALIAxwCsAOcAswDgAO8AtwDZAMEAvgDSALIAzgDaAOEA+gDyAOYA7gDfAOEA8wDBANwAzgDBAMMAwgCaAKsAxACuANgAvACjAKYAjwCdAKgAlgCzALsApgDMALgAswDkAKgA0wDiALoA0QC2AKwAqQC0AJ0AqACsANwAxwCzALcA0ADMAL0AygC/ALQA0ADOAM4A4QDiAAAB5gAHAQ8B+gD/APAA9QDmAOkA6gDXANEA5gDMAMMArACkAJ4AlQCZAJ8AmACHALUAlQC7AKkAtgCIAIoAtwCtAMIAzADSAMwA1ADNANMAvQCmAKEAvgCsAHoAtQCeALUA0ACzALQAqwDbALMArQDUANsA8AD3AMYA4wDhANkA3wDBALcAxQC9ALsAwQCeAMoArACwALwAyQDQAN0A3QC6AMUAtgC+ANEApQDDALgAugCwAKQAugClAIYArwCsANIA3wDXANkAnwDqALUAwgC/ANgA0wDBALgA5gC8ALAAzQChALIAwQCjAJgAngCQAMEAmQDEALcAxADRAMsAtgC/AKMApAC3AJcAwQCfAIkApwB6AIoAqACRAJ0AvwDDAK8AvwCwANMA1ADRAOAA1QDmAPMA1QDNAMsAywDMALcApgCnAHkAngCNAHkAqQCVALsA3QDRAMcA+QDUAAgBFwHqAPIA3wDnAO8A2QDoAOgA0wD6ANEAvQDdAKwAtwDMANwA1QD5AN8AxADhANQAzQDHANUAvgDBAKwA3ACrAK0AnQCfAJ8AtwCvAKwAxgCvANAAsgCnALsAvgCsANsAyQDHAMsApwCyALUArgDTAM4AqwDNAKAAsgCuALMAqQCmAMIAtADRANIA5gDYAPMA2QC7ANkAsgDBALQAtgCtAKUAtQCsAKAAsADNAL8A8QDiANUA3ADLANgA0QDdANQAywDEAMEArwC/AL8AnQC9ALAAqwDCAJoApgCsAK0ArgCcALAArwDKANEAywDGAOAA4wDOAPEA3wDhAPMA0wDcAM0AxwC3AKcAswCQALcAoACGAJMAhABcAF8AYwBoAF0AaABfAGwAfgCLAJYAjgChAJkAoQB+AJEAsgC/AK0A5gDZANsA2wDLANwA6QDaAPoA4gDFANAAuwDVAM4AxgDaALgAvADkAKYAowCuALAAqwCtAJYAuwC8AKYAxgC1AKYAwQCoAMQAvQCrALcAqACmAMEAygDGANsAzgDLALcAygC4AOAAtwC8AMEAcQCVAHEAeACsAFwAqwCpAKQA2wC7AL0ApwCpAJwAswCzALwAzADFANEA6gDoANIA9QDEAN8ABgHgAOMA9gDcAOgA5wDMAMQAvQDMAKUAqwCdALoApwChAKsAtwCrAK0AowCZAL0AwgDMANUAzgDDAMoAoQCwAL4AzQChAMYAswCdANEArAC+ALsAwwDbANcA2QD5ANAA0gDDAN8AswCzALcArwC3AK8AswCjAK4ArgDRAKkA0wDTAKEAvACeALcAkACnAJYAgwCXALsAfgBpAIgAgACjAJMAngBuAJoApQCgAKMAsAC6ALYAsAC2ALoA5AC9ANkA8gDwAOMAFQEHAeMA8ADCANQA0wDVAPAA4wC/AP4AzQDHANEAxgCwAMIA2wDVAOMA0gDJANAA1wDYAOEA4ADcANkA8wDRAOYA7wDmANkA8QDkAOYA3wDUAM0AygC9AKEAqwCvAKcA1ADDAK0A1ACdAK4ApwCLAJIAkwCGALQApgCTAJEAsgCEAJoAnQCeALUAswDZAMQA5gDiAOMA0gDaANkA0gDLAM0AxADfALUAvgDCALQAxgDFANoAzADZAPAA5ADcAP0AygCuAMUAtQCyALMAhgCLAGgAdACRAGgAjgCCAIQAowCPAJIAgwBuAHcAigCsAKMAswCwAHUAmQCHAJkA0QCKAMsAygCzAOcAugCzAJ8AlgCoAKkAngC7AKMAngC7AMUArgCrAKQAqQDDAMQA3ADRAN0A2wDLANAAvwDDAM0A2gDSAMsAxwDUAL8AvwDLAMYA0gDgAKwAygC2AK0AvACrAK8AuAC7ALUAywCmAMwAsgC6ALYAywCpAL4A1wDNANEA6wDrAP0A6wD2AA4B8wDbAOoA5wDMANsAxwC2AMcA/ADNAMwAxgDKALAAwwCzAI8AugCzAKEAyQCNAGwAkgCfAJ8AoACdAIsApQCvAM0AtQDLANMA2ADOAN8A3ADkANAA7AD1ANcA9QDmAO8A5gDwAPwA6gDzAAsB5ADnAMcAxwCrAKEAvwC7AK0AoACPAIQAlgCeALAAggC6AMsAzADvAOoA4ADpANcA2QDTALMAxQCmAL4AqwDCAMkAwQDCAOMAugChANgA5wDZAK8ArwCVAJYAxQCHAKkArgCfALwAqACrAMcA0wC6AOYAxgD6ANQA8QAMAdwAAAEGAQUB/gDzAOcA7wDpAPIAAQHYAPEA2gDXAPEA4AD8APEA2gDMALwAhgCrAIcAggCkAI0AaQCVAFAAPgBiACEAOgAyAGUAcABqAGsAJwAuACYAUwBJAEUAcwBHAHgAaQBaAHMAlQB7AIkAiABeAJ0AZQCCAIEARwCTAIcAUgDHAEUAMAA8APv/RQBAAFIAeAA6ADIAYwArAGgAgABeAGwAdABmAFkAEgAyAFQAbAB6AKUAiACnAMIApgC3ANQA6gD2APIAxwDaAKEAvACRAJkAqQCDAKYAxwCrAJoAlwBdALYA2QCIAGwAHAAVAHIAnQCwAL8ArgCkAIYAegCJAGgAgQCJAEQAawBWAEUARQAiADUAPwBrAI0AhgBsAGMAcgBSAHUAiABWAKUAnACaANUAuACcALoArACOAKMAhwBzAJIAWgBqAF4AYgBwAFkAiQBfAGIAYwAnAD8AdwB7AF8AiwBcAH4AkgBkAHgAcQDCALMAsgDGAIIAvwDiAJ8ArwChAI0AhwCfAGgAcgBuAHQAfABlAH4AVABdAHwAawB6AKUAiwBNAJUASAApAEMALgAfABgA2P/1/8D/0v8XAMb/FQAZADYAeQB8AHsArQCoAKgAwwC0AIQAlgCVAJ0AUwCyAKgAhgDNAGEAYQB4ADwAagBsALsA0gDXALgAnACwALUAxQCmALIAmgCdAJAAoQCTAJMArACzAMEArQDMAKwArwDOANUAvwDvANcAvwDVAL4AxQDGAN0A4gDFAJoAvQB1AJIAcQB0AFwAXQBjAIgAbgBUAHUALwBOAGgAXwBtAGsAeABbADYAeQB/AIcAdwCXAFwAWgCnAAAA/v8gAL//AgD//+v/+P/g/woAHwD8/2gAawBeAMwAhgBbAHoAVwByAJgAaAC/AGQADABXADEAawCBAG0AbQCEAIQAgwBAAFIAawB6AFoAWgBiAFUAjwBxAHAA7f9dAOD/+/8YALT/DwDr/+T/MgDo/9b/3v/2/9f/1f/i/37/4v+1//r/KwAZAGUAcABGAG0AaQA4AC0AXwBHAIkAjwBrAIoAgQCdAK4AkQCtAKYAwQDXAOAA3ADaAOAAwQD8AOgA1ADqAMoA1QD5AP0A6gDKAJoAmQBjAHEAgQBpAGkAcgB3ACEAQwAMABUAMQBGADIAMABAAHoAcQBWAHkASAB5AIcABgALAN3//P8GAMr/5v+5/y8AZQBfAGgAdQCXAKAApQCjAJEAswCNAK8AlQCRAMsAjQCRAGsAZAByAJ0AdQBkAHUAVwCZAH8AkQCZALAAvQC1AKwAlwCvANsAuwAWAQUB3AABAc0A8ACsALUAtACKAJYAxQBfAG0AdwBfAKgAdAB0AFwAJgBuAC4AWQBiAEUAZQBqAD8ARQBFADUAVgBLAGgARgB7AHcAoACDAI0ArAC3AMoA0ADTAMwAtADUANMAngD5AJIAgACtAIMApwC1AL8ApgDOAMUA1wDZAOwA4wDEAOoAswDMAKMAnACWAHgAkgCpAIsAdAB7AG4AgACOAJ0AiwCdAJgAngC2ALIAvwCdAJcApgCpAMIAoACzANQAvwDjANIAuwDGALQAvwDDAMsAtgDZAMkApQDOAIoAegCkAJgAlQChAJAAlwCjALMAzgCWAO8A6AAHAfcA8wD2ANwA4ADTAMcAagCuAEAATQB/AEUAkAB/AIgAygCVAJgAkACSAJMAigA1AEYAHgAgABkACAACAAMAFwBDABkAEQBtAA0AZgBoAG4AhgCaAJoAiwB6AIYAgwCDAIgATwBUAEUAJgApAEMAFQAmACoAJgAJADgAQAA4AH8AewBcACEASAAbAD8AVQA0AHQAXgBfAIcAhwB3AHkAhwB1AHoAbQCdAHsAwgC7AJUAxgCyANkA9wDHAPUA6QCmAMwAgwCaAHAAaAB3AFsAiwCoAKAAkwDJAKwAtAC7AJcArgCeAJkAtwB6AMIA0ACnAOgAnQB8AIcAaABjAHEApACdALQAtAClAJwAxgDUAOAAtgDyAOsAlQDdAHAAggBxAGgAbgBWAIoAuwCdALAAoQCtAKkAtQCtAJwAmgB5AJIAVQB3AHwAcgBuAGwAagB3AIMAiACQAKQAqQC6AK4AfACXAGIAewBoAHoAiwB0AFMAdQAjACIAIQDu//z/FQA9AE0AeABAAIgAXQCpALMAjQCPAFsAewCLAFcAewB3AJYAzQDLANkArgDOAMYAsgDKALAAnwCfALgAlQCwALsAoQCRAK8AxQCVAKkAmACKAIAArgB0AGkAdQBpADwAOgA8ADkAVAA/ACIAMQArAFMAbABeAIsAfwBwAKYAcgCHAIQAZgB0AGYAqQCvALUArwCkAIAAtgDHALQAlQCsAI0AmQCuAIAAfwCKAGMAdwCQAJAAeACYAKYAkwDSAMIAvACuAN0AtwDTAM0AoQDaANgAxADdAJkAngB3AGQARgBIAHoAOgCKAGUAawCKAIsAjgCOAJ0AkgCCAJEAsgCTAJcA2QDNANgAyQDcAMIA9wD4ANEA1wC8ALYAnACRAIsApwCaANIAngCgAJoAsgC6AKQApQCRAJMAkACVALAAagBmAHkATgDXAKsAbQD+/93/BAA6AIcAdQBVAG4AZQBDAGQAXgBQAI0AZQBSAIEAVgCLAGEAfAB1AGoAuwCrAL4AxgCDAJcAngCNAJkAdQBTAHIAXABhAJIAYwA+AH4A+P8eACoAHgBDACsAdQBAAIkAjwBeAGYAVwBoAHIASQBwAGUAfwCXAHkAZQBlAFUAcABqAF8AaQBxAGMAKwAhAOv/8P9dAFMAlwCKAKUAxAC3ANEAngC+AKQApwChAI8AqACuAJMA3ACfAKgAywC1AMUAqwDGAIoAsADNALIA3wDFAMoAyQDpANcA3QDhANMA8QDdANoAwgDLAMUAsAChAK4ArADdAOoArwCgAKMAVQCdAKQAagBkAHcAcwCKAPEAvwDUALsAzQC6ALQArQC9AJMAlQCpAIkAtQCpALMArAC2AJ8AiAB1AGIAeACrAJ8AtAChAEkAfwA9AGMAPQBGADoAIQBeAFAASABJAF8AVgCIAG4AfwB6AHsAeACDAGEAjgB6AIgAiABqAKEAggB4AL0AnAC1AL8AkAC6ALcApgDFAKwAnwCKAIcAjQBjAGsAMgBDAGkAJgBtAGMAcACmAHQAgwA4AF0AVABWAHIAjgCTAIcAigC6AJoAagCcAHkAfwCKAGUAdwBzAHIAjgBwAGgAegCAAG4AkQCmAKQAfwCHAJcAMQBMACcALQA3AC8ARgAuAKAAnwCwAK4AsgC+AOcA6wClALwAkQCgAKQAfwCLAIcAfACvAJ4AawC1AH4AlgDHALYA5gDuANMAoQCjAF4AoACVAFwApwB+AMYA4QDEALMAXABsAFAAYwBtAFAAbABwAHgAkQCYAJEAsACQALYArwDJANUAtgC/AMkA2ADYANEAqAClAJUAfACNAHgAhgCfAJgAqQC2ALYA2gDRANcA5ADKAM4A1QDVAMwA0gDDAL4ArgDcAMQAtwDdAL8A1ADVAK4ArACTAKEAtgCCALsAuAC+APEA1wDBANIA1wDVAMMAxQC8AKYArADLAK0A2ADqALAA5gCsAMcAuwCOAKkApQCrALwArwCdALgAwQDQAL0A3wCvAMwA2gCmANMArwCyAKQApwCsAJYAoQCXAJEAmACoAKsAnQCwAKwArAC6ALUAsACsALoAxwDrANMA9QDrAOYA+QDZANIA2ADHANMA5gC0ALQAtgC2AMoAugDNALgAyQD/AMwAxQC0ALcAqwC4AL4AtQDDAL0AtQDoAL8AugC9AK4AtADBAMMAwQDNAL0AxwCoAL4AwwDEANAAyQDCAMIAxADBAL4A6gDDAN0A2wDEAMkAvwDfAL0AtQDTAMEA0wDmANIA4wDTAOQA3ADTAL8AxACjAK8A1wC2APMA9QD6AA4BCAH+AAUB5wD8AP8A9gACAfgA/gD+AP0AEwEVAQwBFgEOAQcBFgEjAf8A/wDxAP8A9QD2AOoA5wDuAOsAyQD5AKgApQC8AJ0ArwC0ALQAnQDEAK0AtQC2AJoAwwCeAKYAwgCeAMYAywCjAKwAmgCJAK8AqQCpAJoAoACsALAAxwC/AKUAjgB6AGQAgABpAGMAiQB0AJEAvQCTAKEAoAC7AJ4AowCZAJoApACTAMMAmAC/AKQAggBzAIoArQC1AI8ArQC8ALcA1ADTAMcAvADOAJYAjgCPAJkApwCWAJYAnwCjAKsAuwCpAK4AsgC3AMQAzgDJANMAsAC8AM4ApwDXAMMAswDdALsAtAC8AI0AjwCOAKMAsAB8ALAAowCfANcAigCwAKQAegCuAI4ArgDFAJ8ApwClALgAygDOAM0A3AD5AOQA0wDkAKsAwQCyALwAugCzALQApACuAK0A1wCeANEA0gCjAMwApAC8AKcAcgCaAIMAqQDGAJkAiwCWAJAAtQDCAMsAsADGAN0AzQDYAOcA1QC8AA0BrgCpALQAtAC0AKgAvwC0ANEAwgC/ALMAvADVALwAvAC1ALYAtADEALMArQDkAMcA6wDuAPUA5ADzAPUA6ADmAOoA4gDGAMsArAC/AKUAnwC2AKkA0wDZAMMAtQCWAKMAfwCZALQAgwDMAMIAowDkALwAtADKAKsAuACrAKcAoACdAJ8AjgCCAHMAawCAAHgAbQCRAH8AhwDBAKcAxwDqAL8AygDRALIAvgCyAKMAxwC0AKgAoAC2AJ8AugCdALIAoACdAKQApgCkAKsAmgChAKgAjQCnAMEAowCzAK4AlwCNAI8AngCDALgApgC0AJIArgCfAK0AswCmALUAnAC4AKUAsADDALIAzQDOANgAwQDbAOYA4QDSAOAA1wDZAOcA1wDXAM0A0wDCAMYAxwCmALwAtQDMAMQAzgDXAMUA3QDLAOcA0QDMAOoAwQDMAOgAtgC3ANEAuADDALIAvwC4ALsA1ADDALoA3wDNAL4AxwC9AN8A0wDXANkAswDKAMYApQC1AL8AwwDTANwA0wDfANsA3wDDAMMAuACoAKgAwQCnAJ0ArgCaAK4AwQDZAM0A6ADxAMcA5ADEAMQAsgC6AKkAoQCoALgAmACNAKYAmQCvAKMAiQCGAGkAlQCBAHcAmACBAIYAkwB8AI8AjwCEAKMAlgCOAL8AfwBuAIIAhgCyAJoAfAAyAE4AWQCCAKcArwC6AL4AugDFAMsA1wDVANMAzAC7ANMAxADKANAAvgC9ALYAugDDAM0AwwCuALAAowC8AKAAqACGAHEAjQCfAIgAlgC0AIIAxQCtAJMAmgCBAJwAdABbAGIASQB8ALsAugCTAGgAJAAwADYAmQCGALUAzgCrAMoAzQDZANIAzQDTAOAA8wD6ABQB/QDvAB4B4QDbAMsA2QC4AMIAqQC0AKkAowCgAIMAkQCOAK0ArwC0AKYAxADEAL8AvADLAMMA0wDNAMoA0gDGAMkAwgDLANAA1QC8ALwA2ADNAOEAzACwAMcAwwDBANgAywDQAMUAtgC2AJ8AvACzAK0AvAC4AK8AyQDKAM0A4ADkAMEAGAHOAMcA7wDNAOsA+QARAdoAJgEXASsBFAEtAUIBAQEjAQcB+QD4AP0A8QDqAO8A+QDfAN0A6QDpAPUA2QDcAM4AnwDEAKgAngCmAJoArACRAJ4AmQCvAKsAxQDNAOgAywD/APcAFgEfARQBKgHbAAIB6QDYAN8ArgCyALwAxgDTAN0AyQC4AK8AmAC2AKYAmQCvAJEAhADQAIQAcwBaAIAAWgBrAJYAawCLAI4AngCXAL8ApACzAKkAqQClAKMAggCGAJkAeQCdAHgAcgCEAIAAgACcAJUAtgDHALYAvwCrAKsAzQC1AL0AygC+ANcA6gD3APIACAHqAAABEAEcAQUBLQEeAQsBFAHnAOoAxADbAM0AswCaAJcAZgB3AJUAWgB1AGYAWQCHAG4AjwC8AIMA3QDXAPIAHgEbAREB6AD4AN8A4QDsANEA2gDTAOsA/gD4AAIBtQC6AKMApACjAJ0AjQCTAKAAkACpAJoAwQChAMMAvQDCAP4AwwDnAL0AwwDVAMIA2ADDALMArQDKAM0A5wDcAJ8AzgChALgAqQCZAJ4AhwCyANMAuACjAJwAiACdAKwAtACNAK4AsACaAK4AhwCsANQAoQDzAOQA4gD5AOgA5gDwAOoA8wDpAMIAzQC/AMkA2AC7ALsAxwCtAMoAsgC0AN0AxQD2AOkAzQAIAdsAvgDKAL8AoACrAKYAoAC0ALQAtQDEAMUAvwDgANAA5gDnAAQB1wDvAPEA0gDjANgA8QDFAPMA0QDGAOoA6wDUANsAzQCsAMYAygDEALwA3QDTAMoAzACwAMMAygC/ANwAzgDGANkApwCtAIgAngCVAHUAegCXAGkAXACLAFUAigCtAJoAnwCuALIAxQC4AM0AxgC4ALoAtAC8AM0AzADRAOgA2gDEAPIA8AAPAeQA/wAEAeMAGAHvAOMAzADrAMkAygDDANMAwwDGAOIA0QDiANIA2gDXAPMA8gDsAMwA0gDZAOQA8gDhANwA0QDOAMQAwQDFAMEAywDUAMkA4QDjANcA6ADXAM0A2ADTAOIA6QDkAOAA/wD3APwAAQH+APYAAAH6APwABgHvAOgAwQDDAOYAtQC7AMEAmACmAK0AaQB+AH8AWgCPAIoAbgC+AG4AdQCBAHsAkgCEAKUAegCjAKsArgCcALIAoACTAKQAmACPAI0AjwB8AIYApwCdAL4A3AC/ANQA0gDQAMQAuACwAKsAzQCzAMYAvwC0AOMAywC4AK4AuACcAJkAjwCOAH8AcwCNAIcAjQCTAMQAoQDTAO4A1ADJAPAA3wC2AMQAfgCBAJIAnwCEAIYAkACTAK8AmgC4AIcApgDFAKAAugC6AKcAxgC8ALwAxADCAMwA0ADRAKgAsgCuAKMAoACeAJIAmACLAJMAkQCOAK0ApwCsAL4AnQDFALYAlwDRALYAygDxANUA0gDwANwA+QDmAOgA9gDqAOkA6wDfANoA2gDNANoAswDRAKgApQCrAKwAsgChAKAAmACHAH8AfACBAFQAXwBuAF4AeQBrAIQAcACeAKYA3AC9APAABQH1ABABFwEfAfMACwHdAOoAugDpAL4AswCwANcArQCdAKMAowC1AKUA3QCoANwA7ADNANAAzAC7AMEAoACPAKsAlwDNALcApQCoAJ4AkQCXAKwAkgCmAKkAsgC0ANMAxADQAJkAtADXAMwAyQDZAM0AuwD+AMcAvADYANAA1ADdALgA9wDMAMkAwwC7ALwArwDLAJgAvgCmALwAvADRANQA2gDRAMcA1wDHAM4AxQDNAK0AuACfAKMApgB+AKUAigCnAJIAmQClAIIAjQCHAI8AoACOAKUAtgCmAN8AuwCsALAAtwCsAKkAoQCfAKAAewCeAGYAfgCSAHUAbQByAHIAkACpAJ8AtwCTAK8AxQC3ALUAugCaAKMArgCcAKQArAC0ALYAwwCkAK0AkwB/AJoAcgBcAH4AagB/AKEAjgCeAJkAxAC2ALQAzAC3AL0AuAC1ALYAtAC9ANUAxwDxAO4AswDGAKUAtQCwAJ4AyQCsALQA3QCeAKgAygCfAMIAxADNAN0A3wDnANwA5gDhANwA2wDpANoA1wDkAM4A5wDoAMMAuAC3ALIApQC/AJwAngChAKUAqACDAJwAfgCCAJgAhgCZAHcAewB5AGUAcgCEAJUAkwChAJYAugCYALQAyQDLALMA5ADdAOIA8wDpAOkA1ADpAOwA8ADoAPYA8QDoAAgBEQH4AAcB5wD6ABAB+gD8AAIB3wD4ABUB6gAXAQwBAQH1APwAAgHsAPkA+ADqAAkB8ADyAA4BzgD+AN8AzgDDALMAqwCjALUAxgCSAHQAnQCIAKEApwC9AKcA0gDQAMEAyQChALcApADFAMYArgDNALUAzQDrAOgAxADpAP4A5gDyAOkAzgDDAPIAoACfAKYAlgCdAJoAsAC9ANoA7ADgANsA/gDvAP8A+gDwAPAA8QD3AP0A8ADsANkAywDhAMsAygDRAMMAwgDLAKsAvwC1AJkAtwCtAJcAnACPAIEAggCeAGoAaQB5AKgAkwCIAJ8AngCwALgAswC0AMkAtACvAK0ApACcAJIAkwB7AIgAigB4AI8AiACTAKQAlwCzAM0AoADdANEAuwDJAMkA5gDVAMUA0gDQAOYA7gDaAM4AwQDMAMIAywC/ALgAtAC3AJ0AwgCTAIIAkgCnAKcAnACkAJIAnwC1AJUAeQCAAHkAnQCsAKEAggCsAJIAwgDBAMIA0AC9AM4A5wDNAPIA+gDqAOQA/AAPAfEA+ADjANwA2wDyANwAyQDMAMsAxwDJALMArgCfAKUAsACLAJkAkACcAJoAoACmAKEAtQC3ALIArQClAIoAlwCBAHUAhgBkALMAiwCmALcAnwC2AMMAxQC3AOQAxQDLAK8AxgCnALMArQCtAKsApwC/AMcA0QDBAN0AkgDNAOYA1QDUAN8A2ADZAL0AvADRANUA1wD3AN0A4AD/APcA/wD4AP8A8gDqANUAAAG7ALwApgDBAI4AiwCEAHQAlQCNALgAoQCpALwAjQCgAK4AigDKAKkAoADJALcAzQDsAOIA2wDZANAA1QDHAMoAygDHANQArAC3ALQAlwCoAHEAhACmAHwAvADEAJwAywDKAMQA8wDjAOMA6gC9AM4AvQClANUAqQDGANgAwgDrAPAAzAAMAdQA0gD4AMIA4gDkAOAA0wCyALUAwQC9ANoAxgCmALcAowCYAKsAlwC4AMcAuADQAOEA1ADYAKgAqwCSAIcAlgBqAIkAkwChALwAnQCDAIsAlQCRAKQAtwClAMIA1wChAKcAqQC6ANEArwDUANQA4QD/AOsA0gDSANoAwQDbAOMA2wAGAfwA8QAaAfYA+QDcAOkA0wDVAMcA6gDQALcA0ADCAMkA0gDcAMcA4gDTAMYAqwCfALYAqAChAKsApQC2AMkAxwDFAOIAxADVAPgA0ADgAOoA4QD2AN8A+gDsAOEADgHaANcA0QC3ALoAwQDQANUAywC7ANEAsgDGANQAtQC+AMcAywDNAN8A8ADrAOYA8QDHALwA1QC4AMoAzgCoANoA0ACuAMwAtQCaALQAiwCfAJkAoACKAJEAmACKAKgAqwCVAHwAngCEAJcAswCzAI0A1ADBALcAyQCZAKUApwCHAKEAtgDKAM4A8gDUAMEA6ACyAMQAsgCVAJoAjQCkALYAiwCVAKQAugDSANIAtADKAMsAzgC+AM4ApgCnALUAswDBAK0AxgCpAMQA0ADTALAArwDJALgAsgDMAMIAtwC2AMIAywDNANgA3QDJAM4A6AC7AMcApACsAJkAoQCZAKYAqwCSAKEA0QCfAJ8ArwCnALMAtQC9AMIA1wDKAMwAvwDLAN8A8gDdAPMA6QDgAMQAyQDUANcA2wDjAOEA7ADfAPIAAQEIAd8AAgH4APgAFAH/APIADAEMAQQBFgHXAO4A5gDRAPYA5ADVAOEAtgCwAKkAmQC1AIgAkwCtALAA1wAAAfIA1QDpALoAwQC/AK8AqQCvAMEA2ADXAL4AugCoAJYAwwDMAKAA7ADUANoACQHKALsAwQCzAMEAyQC+AL0A0wDKAMwA0gC3AK4ArwCoAKAAvwCpAMMA1wDGAOQA7ADqAOsA5ADRANQA2wDzANUA8QDxANkA6QDaAOEAAAHRAAcBAgEPATgBHgEmAf8ABwEAAQQBygDrAMwAxADaAOkAwgDCAKYAoACGAHkAzACBAMUA1wCTANkAxgC/ANcAngDDAMoA4wAFAQUB9wAAAfoA9gAAAeYA6gDsAOQA7gDhAOcA6QDzAAgB7gDoALgAygC4AL8AyQCkALoAtACpANIAmACPAJ8AkgCjAKMAfwCcAH4AcgCCAJEAdQBrAGQATgBrAF4AagBuAGUAggCPAHcArwDKAPcA3AAHAQ4BAQECAQ8BAgEOAfoA+QD1ANoABAHjANEAvgDMAJIArwC+AKUA2gDTAMwAxgC4AMUAmACoAKMAbACKAIoAXABpAHEAVACAAIIAhwCAAIAAiwCPAK8AoACfAMQArgDdAM0AvwDOAMQA2wCdALYAowCXALYAjwCVAKgAzQDEAN8AzQCsAL8AoQC+AL4ArQDBAMcAvgDfANMAugDNAMEA4ADQANcAzQC8AMUAvQDgAM0A1QDvAL8A6wD/ANsA/ADmAOEA5ADrAOEA3wAcAd8AHAEbAfgA/QDzANIA3QDKAK0AzQCwAMwAygCwAKwA0wCyALYAtgDLALoAuwDFALwA0ADQAO4AwgDdAPEA5AD5AAEB+gD6APcAEQEWAQYBHQHvAO4AEwH4AAkBBgHYAPAA4gDYAOIAzADVAN0AxQDbAMEAtgDNAJYAtQDOALYAxgDLAMoA3ADjAOsA4wDvAOkA2wDrAMMA4wDDAKUAxACvAMIAvAC8AMcArQClAK8AnQCnAMIAuAC9AOgA7gDYAPIA2ADTAA0B3AACARAB1AAEAdIAwwDKAJwAtwC2ANIAygDOAMQAnwC9AJkAqwCkAKQAuACkAI0A5wCXAJgA0ACjAJgAkACOAHkApwCfAK8AngC1AL4AoQC/AI4AvADDAJ8A3QDOAOcA8ADwANsA4ADbAOAA5ADjAOkA7ADjAMwA3wC2AMIAzAC8AN0A3QC7AMYAswC0ANcAtgDnAM4AxwDsAKkAwwC6ALcAxQDBAPoA6wAYAR8B6QD2AOgA7gC0AK8AjQCIAKMAtgCfAJMAsgC8ALoAuADOALwA8ADvAO4A8ADrAPgA4wDUANsA6QDUANkA0AC0AMkAxwCdAKwAlgCtALIAjwCmAJwAoQC4AJgAtADCALgA2QC0ALIAygDaAMkA/ADiAMEA1wCcAK8AsgCVALQAsAC2AMMAuwC4AMMAugDKANUA0wDcANoA1QDgAOAA6QDaANQA8gDTANoA1QDQANUA0wDDANMAvAC1ALUAvAC2AKYAnQBwAFwAkgCVAJAA3QC1AKsA1wCdALoAtQCmALMAuADSANwA3wDQAKgAnQCNAJ8A0QCPANEAxAC2AN0A0wDBANgA0ADcAO4A0QDvAM0AwQC9ALsAqACjAKgAugCYAJ0AsACoAL0AqAC7AKgAvADMALoAxQDDAL8AsACrALYAtAC9AMQArQDCALwAwQDOAMMA0ADOANMA4ADcAMoA3wDhANMAvgDQAL0AvwDVAI0AqACBAJkAlQBsAK4AjQCeAMIAtwCQ/xL/HP5tAYz/sP+TAZP8hABj/w==\" type=\"audio/wav\" />\n",
              "                    Your browser does not support the audio element.\n",
              "                </audio>\n",
              "              "
            ]
          },
          "metadata": {},
          "execution_count": 16
        },
        {
          "output_type": "display_data",
          "data": {
            "text/plain": [
              "<Figure size 432x288 with 1 Axes>"
            ],
            "image/png": "[encoded data removed]"
          },
          "metadata": {
            "needs_background": "light"
          }
        }
      ],
      "source": [
        "# ノイズを除去したテストデータ\n",
        "y, fs = librosa.load(\"ResultData/7600.wav\", sr=RATE, mono=True)\n",
        "librosa.display.waveshow(y, sr=RATE)\n",
        "ipd.Audio(y, rate=RATE)"
      ]
    }
  ],
  "metadata": {
    "colab": {
      "provenance": [],
      "authorship_tag": "ABX9TyMY5JNGyVSpwNUv37uEBSMa",
      "include_colab_link": true
    },
    "kernelspec": {
      "display_name": "Python 3",
      "name": "python3"
    },
    "language_info": {
      "name": "python"
    },
    "accelerator": "GPU",
    "gpuClass": "standard"
  },
  "nbformat": 4,
  "nbformat_minor": 0
}